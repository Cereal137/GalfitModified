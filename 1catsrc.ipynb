{
 "cells": [
  {
   "cell_type": "markdown",
   "metadata": {},
   "source": [
    "# Source Catalog\n",
    "\n",
    "Author: Bingcheng Jin\n",
    "\n",
    "Date: 2023.12.31\n"
   ]
  },
  {
   "cell_type": "markdown",
   "metadata": {},
   "source": [
    "## Table of Contents\n",
    "* [Merge Images](#merge-images)\n",
    "* [Source Detection](#source-detection)\n",
    "  * [convolve](#convolve-image-with-guassian-kernel)\n",
    "  * [apply detection](#apply-source-detection-and-deblend-with-photutils)\n",
    "* [Assign SEGMAP](#assign-segmentationimage-to-merged-image)\n",
    "* [Match](#match-sources)\n",
    "* [Human check](#human-check)"
   ]
  },
  {
   "cell_type": "code",
   "execution_count": 1,
   "metadata": {},
   "outputs": [],
   "source": [
    "from astropy.io import fits\n",
    "import numpy as np\n",
    "import matplotlib.pyplot as plt\n",
    "import glob\n",
    "import os"
   ]
  },
  {
   "cell_type": "code",
   "execution_count": 2,
   "metadata": {},
   "outputs": [],
   "source": [
    "img_name = 'nircam8'\n",
    "img_dir = f'./io/image/{img_name}/'\n",
    "img_list = glob.glob(img_dir + 'hlsp*.fits')\n",
    "img_list.sort()"
   ]
  },
  {
   "cell_type": "markdown",
   "metadata": {},
   "source": [
    "## Merge Images"
   ]
  },
  {
   "cell_type": "code",
   "execution_count": 3,
   "metadata": {},
   "outputs": [],
   "source": [
    "from utils.merge import merge_image"
   ]
  },
  {
   "cell_type": "code",
   "execution_count": 4,
   "metadata": {},
   "outputs": [
    {
     "data": {
      "text/plain": [
       "['./io/image/nircam8/hlsp_ceers_jwst_nircam_nircam8_f115w_dr0.6_i2d.fits',\n",
       " './io/image/nircam8/hlsp_ceers_jwst_nircam_nircam8_f150w_dr0.6_i2d.fits',\n",
       " './io/image/nircam8/hlsp_ceers_jwst_nircam_nircam8_f200w_dr0.6_i2d.fits',\n",
       " './io/image/nircam8/hlsp_ceers_jwst_nircam_nircam8_f277w_dr0.6_i2d.fits',\n",
       " './io/image/nircam8/hlsp_ceers_jwst_nircam_nircam8_f356w_dr0.6_i2d.fits',\n",
       " './io/image/nircam8/hlsp_ceers_jwst_nircam_nircam8_f410m_dr0.6_i2d.fits',\n",
       " './io/image/nircam8/hlsp_ceers_jwst_nircam_nircam8_f444w_dr0.6_i2d.fits']"
      ]
     },
     "execution_count": 4,
     "metadata": {},
     "output_type": "execute_result"
    }
   ],
   "source": [
    "img_list"
   ]
  },
  {
   "cell_type": "code",
   "execution_count": 5,
   "metadata": {},
   "outputs": [
    {
     "name": "stdout",
     "output_type": "stream",
     "text": [
      "merging with:\n",
      "./io/image/nircam8/hlsp_ceers_jwst_nircam_nircam8_f277w_dr0.6_i2d.fits\n",
      "./io/image/nircam8/hlsp_ceers_jwst_nircam_nircam8_f356w_dr0.6_i2d.fits\n",
      "./io/image/nircam8/hlsp_ceers_jwst_nircam_nircam8_f410m_dr0.6_i2d.fits\n",
      "./io/image/nircam8/hlsp_ceers_jwst_nircam_nircam8_f444w_dr0.6_i2d.fits\n"
     ]
    },
    {
     "name": "stderr",
     "output_type": "stream",
     "text": [
      "WARNING: FITSFixedWarning: 'datfix' made the change 'Set DATE-BEG to '2022-12-21T21:07:34.058' from MJD-BEG.\n",
      "Set DATE-AVG to '2022-12-21T21:34:22.806' from MJD-AVG.\n",
      "Set DATE-END to '2022-12-21T22:01:15.165' from MJD-END'. [astropy.wcs.wcs]\n",
      "WARNING: FITSFixedWarning: 'obsfix' made the change 'Set OBSGEO-L to    99.513146 from OBSGEO-[XYZ].\n",
      "Set OBSGEO-B to     8.975355 from OBSGEO-[XYZ].\n",
      "Set OBSGEO-H to 1677786988.005 from OBSGEO-[XYZ]'. [astropy.wcs.wcs]\n"
     ]
    }
   ],
   "source": [
    "from astropy.wcs import WCS\n",
    "merged_dir = f'./io/image/{img_name}/'\n",
    "image_merged_path = merged_dir+'merged.fits'\n",
    "if os.path.exists(image_merged_path):\n",
    "    print('image_merged.fits already exists')\n",
    "    with fits.open(image_merged_path) as hdul:\n",
    "        image_merged = hdul['MERGED'].data\n",
    "        w = WCS(hdul['MERGED'].header)\n",
    "    print(f'Data are loaded from {image_merged_path}')\n",
    "else:\n",
    "    image_merged = merge_image(img_list[3:7])\n",
    "    w = WCS(fits.getheader(img_list[1], extname='SCI'))\n",
    "    hdr = w.to_header()\n",
    "    hdr['EXTNAME'] = 'MERGED'\n",
    "    fits.writeto(image_merged_path, image_merged, overwrite=True, header=hdr)        "
   ]
  },
  {
   "cell_type": "markdown",
   "metadata": {},
   "source": [
    "## Source Detection"
   ]
  },
  {
   "cell_type": "code",
   "execution_count": 6,
   "metadata": {},
   "outputs": [],
   "source": [
    "from astropy.stats import sigma_clipped_stats, gaussian_fwhm_to_sigma\n",
    "from astropy.convolution import Gaussian2DKernel, convolve\n",
    "from photutils.segmentation import detect_sources"
   ]
  },
  {
   "cell_type": "markdown",
   "metadata": {},
   "source": [
    "### determine threshold for detection"
   ]
  },
  {
   "cell_type": "code",
   "execution_count": 7,
   "metadata": {},
   "outputs": [
    {
     "name": "stderr",
     "output_type": "stream",
     "text": [
      "WARNING: Input data contains invalid values (NaNs or infs), which were automatically clipped. [astropy.stats.sigma_clipping]\n"
     ]
    },
    {
     "data": {
      "text/plain": [
       "0.0045943745498245765"
      ]
     },
     "execution_count": 7,
     "metadata": {},
     "output_type": "execute_result"
    }
   ],
   "source": [
    "mean, median, std = sigma_clipped_stats(image_merged, sigma=3.0)\n",
    "std"
   ]
  },
  {
   "cell_type": "markdown",
   "metadata": {},
   "source": [
    "### convolve image with guassian kernel"
   ]
  },
  {
   "cell_type": "code",
   "execution_count": 8,
   "metadata": {},
   "outputs": [
    {
     "name": "stderr",
     "output_type": "stream",
     "text": [
      "WARNING: nan_treatment='interpolate', however, NaN values detected post convolution. A contiguous region of NaN values, larger than the kernel size, are present in the input array. Increase the kernel size to avoid this. [astropy.convolution.convolve]\n"
     ]
    }
   ],
   "source": [
    "# might take 40 seconds\n",
    "fwhm = 4.0 # approaximate pixel FWHM of the NIRCam LW imaging PSF\n",
    "sigma = fwhm * gaussian_fwhm_to_sigma # FWHM to sigma conversion\n",
    "image_merged_conv = convolve(image_merged, Gaussian2DKernel(sigma))"
   ]
  },
  {
   "cell_type": "markdown",
   "metadata": {},
   "source": [
    "### apply source detection and deblend with photutils"
   ]
  },
  {
   "cell_type": "code",
   "execution_count": 9,
   "metadata": {},
   "outputs": [],
   "source": [
    "segm = detect_sources(image_merged_conv, threshold=1.0*std, npixels=5)"
   ]
  },
  {
   "cell_type": "code",
   "execution_count": 10,
   "metadata": {},
   "outputs": [
    {
     "data": {
      "application/vnd.jupyter.widget-view+json": {
       "model_id": "1663a801f13e4f0ca6c56aadbf51ec86",
       "version_major": 2,
       "version_minor": 0
      },
      "text/plain": [
       "Deblending:   0%|          | 0/56794 [00:00<?, ?it/s]"
      ]
     },
     "metadata": {},
     "output_type": "display_data"
    },
    {
     "name": "stderr",
     "output_type": "stream",
     "text": [
      "WARNING: The deblending mode of one or more source labels from the input segmentation image was changed from \"exponential\" to \"linear\". See the \"info\" attribute for the list of affected input labels. [photutils.segmentation.deblend]\n"
     ]
    }
   ],
   "source": [
    "# might take 2-3 minutes\n",
    "from photutils.segmentation import deblend_sources\n",
    "segm_deblend = deblend_sources(image_merged_conv, segm, npixels=5)"
   ]
  },
  {
   "cell_type": "markdown",
   "metadata": {},
   "source": [
    "## Assign SegmentationImage to merged image\n",
    "\n",
    "total number of sources detected"
   ]
  },
  {
   "cell_type": "code",
   "execution_count": 11,
   "metadata": {},
   "outputs": [
    {
     "data": {
      "text/plain": [
       "94300"
      ]
     },
     "execution_count": 11,
     "metadata": {},
     "output_type": "execute_result"
    }
   ],
   "source": [
    "segm_deblend.nlabels"
   ]
  },
  {
   "cell_type": "markdown",
   "metadata": {},
   "source": [
    "convolved image and segmentation map can be used later without doing steps above"
   ]
  },
  {
   "cell_type": "code",
   "execution_count": 12,
   "metadata": {},
   "outputs": [],
   "source": [
    "hdr_segm = fits.Header()\n",
    "hdr_segm['EXTNAME'] = 'SEGMAP'\n",
    "hdr_conv = fits.Header()\n",
    "hdr_conv['EXTNAME'] = 'SCI_BKSUB_CONV'\n",
    "fits.append(image_merged_path, image_merged_conv, header=hdr_conv, overwrite=True)\n",
    "fits.append(image_merged_path, segm_deblend.data, header=hdr_segm, overwrite=True)"
   ]
  },
  {
   "cell_type": "markdown",
   "metadata": {},
   "source": [
    "## Match Sources"
   ]
  },
  {
   "cell_type": "code",
   "execution_count": 13,
   "metadata": {},
   "outputs": [],
   "source": [
    "from photutils.segmentation import SourceCatalog, SegmentationImage\n",
    "from astropy.table import Table\n",
    "from astropy.coordinates import SkyCoord\n",
    "from astropy import units as u\n",
    "from astropy.wcs import WCS"
   ]
  },
  {
   "cell_type": "code",
   "execution_count": 14,
   "metadata": {},
   "outputs": [
    {
     "name": "stderr",
     "output_type": "stream",
     "text": [
      "WARNING: FITSFixedWarning: 'obsfix' made the change 'Set OBSGEO-L to    99.513146 from OBSGEO-[XYZ].\n",
      "Set OBSGEO-B to     8.975355 from OBSGEO-[XYZ].\n",
      "Set OBSGEO-H to 1677786988.005 from OBSGEO-[XYZ]'. [astropy.wcs.wcs]\n"
     ]
    }
   ],
   "source": [
    "with fits.open(f'io/image/{img_name}/merged.fits') as hdul:\n",
    "    w = WCS(hdul[0].header)\n",
    "    image_merged_conv = hdul['SCI_BKSUB_CONV'].data\n",
    "    segm_deblend = SegmentationImage(hdul['SEGMAP'].data)"
   ]
  }
 ],
 "metadata": {
  "kernelspec": {
   "display_name": "galfit3",
   "language": "python",
   "name": "python3"
  },
  "language_info": {
   "codemirror_mode": {
    "name": "ipython",
    "version": 3
   },
   "file_extension": ".py",
   "mimetype": "text/x-python",
   "name": "python",
   "nbconvert_exporter": "python",
   "pygments_lexer": "ipython3",
   "version": "3.9.12"
  }
 },
 "nbformat": 4,
 "nbformat_minor": 2
}
