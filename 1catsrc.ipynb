{
 "cells": [
  {
   "cell_type": "markdown",
   "metadata": {},
   "source": [
    "# Source Catalog\n",
    "\n",
    "Author: Bingcheng Jin\n",
    "\n",
    "Date: 2023.12.31\n"
   ]
  },
  {
   "cell_type": "markdown",
   "metadata": {},
   "source": [
    "## Table of Contents\n",
    "* [Merge Images](#merge-images)\n",
    "* [Source Detection](#source-detection)\n",
    "  * [convolve](#convolve-image-with-guassian-kernel)\n",
    "  * [apply detection](#apply-source-detection-and-deblend-with-photutils)\n",
    "* [Assign SEGMAP](#assign-segmentationimage-to-merged-image)\n",
    "* [Match](#match-sources)\n",
    "* [Human check](#human-check)"
   ]
  },
  {
   "cell_type": "code",
   "execution_count": 1,
   "metadata": {},
   "outputs": [],
   "source": [
    "from astropy.io import fits\n",
    "import numpy as np\n",
    "import matplotlib.pyplot as plt\n",
    "import glob\n",
    "import os"
   ]
  },
  {
   "cell_type": "code",
   "execution_count": 2,
   "metadata": {},
   "outputs": [],
   "source": [
    "img_name = 'nircam1'\n",
    "img_dir = f'./io/image/{img_name}/'\n",
    "img_list = glob.glob(f'{img_dir}*.fits')\n",
    "img_list.sort()"
   ]
  },
  {
   "cell_type": "markdown",
   "metadata": {},
   "source": [
    "## Merge Images"
   ]
  },
  {
   "cell_type": "code",
   "execution_count": 3,
   "metadata": {},
   "outputs": [],
   "source": [
    "from utils.merge import merge_image"
   ]
  },
  {
   "cell_type": "code",
   "execution_count": 4,
   "metadata": {},
   "outputs": [
    {
     "data": {
      "text/plain": [
       "['./io/image/nircam1/hlsp_ceers_jwst_nircam_nircam1_f115w_dr0.5_i2d.fits',\n",
       " './io/image/nircam1/hlsp_ceers_jwst_nircam_nircam1_f150w_dr0.5_i2d.fits',\n",
       " './io/image/nircam1/hlsp_ceers_jwst_nircam_nircam1_f200w_dr0.5_i2d.fits',\n",
       " './io/image/nircam1/hlsp_ceers_jwst_nircam_nircam1_f277w_dr0.5_i2d.fits',\n",
       " './io/image/nircam1/hlsp_ceers_jwst_nircam_nircam1_f356w_dr0.5_i2d.fits',\n",
       " './io/image/nircam1/hlsp_ceers_jwst_nircam_nircam1_f410m_dr0.5_i2d.fits',\n",
       " './io/image/nircam1/hlsp_ceers_jwst_nircam_nircam1_f444w_dr0.5_i2d.fits',\n",
       " './io/image/nircam1/merged.fits']"
      ]
     },
     "execution_count": 4,
     "metadata": {},
     "output_type": "execute_result"
    }
   ],
   "source": [
    "img_list"
   ]
  },
  {
   "cell_type": "code",
   "execution_count": 5,
   "metadata": {},
   "outputs": [
    {
     "name": "stdout",
     "output_type": "stream",
     "text": [
      "image_merged.fits already exists\n",
      "Data are loaded from ./io/image/nircam1/merged.fits\n"
     ]
    },
    {
     "name": "stderr",
     "output_type": "stream",
     "text": [
      "WARNING: FITSFixedWarning: 'obsfix' made the change 'Set OBSGEO-L to   -74.811810 from OBSGEO-[XYZ].\n",
      "Set OBSGEO-B to   -36.758463 from OBSGEO-[XYZ].\n",
      "Set OBSGEO-H to 1725319218.494 from OBSGEO-[XYZ]'. [astropy.wcs.wcs]\n"
     ]
    }
   ],
   "source": [
    "from astropy.wcs import WCS\n",
    "image_merged_path = img_dir+'merged.fits'\n",
    "if os.path.exists(image_merged_path):\n",
    "    print('image_merged.fits already exists')\n",
    "    with fits.open(image_merged_path) as hdul:\n",
    "        image_merged = hdul['MERGED'].data\n",
    "        w = WCS(hdul['MERGED'].header)\n",
    "    print(f'Data are loaded from {image_merged_path}')\n",
    "else:\n",
    "    image_merged = merge_image(img_list[3:7])\n",
    "    w = WCS(fits.getheader(img_list[1], extname='SCI'))\n",
    "    hdr = w.to_header()\n",
    "    hdr['EXTNAME'] = 'MERGED'\n",
    "    fits.writeto(image_merged_path, image_merged, overwrite=True, header=hdr)        "
   ]
  },
  {
   "cell_type": "markdown",
   "metadata": {},
   "source": [
    "## Source Detection"
   ]
  },
  {
   "cell_type": "code",
   "execution_count": 6,
   "metadata": {},
   "outputs": [],
   "source": [
    "from astropy.stats import sigma_clipped_stats, gaussian_fwhm_to_sigma\n",
    "from astropy.convolution import Gaussian2DKernel, convolve\n",
    "from photutils.segmentation import detect_sources"
   ]
  },
  {
   "cell_type": "markdown",
   "metadata": {},
   "source": [
    "### determine threshold for detection"
   ]
  },
  {
   "cell_type": "code",
   "execution_count": 7,
   "metadata": {},
   "outputs": [
    {
     "name": "stderr",
     "output_type": "stream",
     "text": [
      "WARNING: Input data contains invalid values (NaNs or infs), which were automatically clipped. [astropy.stats.sigma_clipping]\n"
     ]
    },
    {
     "data": {
      "text/plain": [
       "0.0025164632574708593"
      ]
     },
     "execution_count": 7,
     "metadata": {},
     "output_type": "execute_result"
    }
   ],
   "source": [
    "mean, median, std = sigma_clipped_stats(image_merged, sigma=3.0)\n",
    "std"
   ]
  },
  {
   "cell_type": "markdown",
   "metadata": {},
   "source": [
    "### convolve image with guassian kernel"
   ]
  },
  {
   "cell_type": "code",
   "execution_count": 8,
   "metadata": {},
   "outputs": [
    {
     "name": "stderr",
     "output_type": "stream",
     "text": [
      "WARNING: nan_treatment='interpolate', however, NaN values detected post convolution. A contiguous region of NaN values, larger than the kernel size, are present in the input array. Increase the kernel size to avoid this. [astropy.convolution.convolve]\n"
     ]
    }
   ],
   "source": [
    "# might take 40 seconds\n",
    "fwhm = 4.0 # approaximate pixel FWHM of the NIRCam LW imaging PSF\n",
    "sigma = fwhm * gaussian_fwhm_to_sigma # FWHM to sigma conversion\n",
    "image_merged_conv = convolve(image_merged, Gaussian2DKernel(sigma))"
   ]
  },
  {
   "cell_type": "markdown",
   "metadata": {},
   "source": [
    "### apply source detection and deblend with photutils"
   ]
  },
  {
   "cell_type": "code",
   "execution_count": 9,
   "metadata": {},
   "outputs": [],
   "source": [
    "segm = detect_sources(image_merged_conv, threshold=1.0*std, npixels=5)"
   ]
  },
  {
   "cell_type": "code",
   "execution_count": 10,
   "metadata": {},
   "outputs": [
    {
     "data": {
      "application/vnd.jupyter.widget-view+json": {
       "model_id": "64b9d7544b2d4d6aa0ed41a4318581a2",
       "version_major": 2,
       "version_minor": 0
      },
      "text/plain": [
       "Deblending:   0%|          | 0/23565 [00:00<?, ?it/s]"
      ]
     },
     "metadata": {},
     "output_type": "display_data"
    },
    {
     "name": "stderr",
     "output_type": "stream",
     "text": [
      "WARNING: The deblending mode of one or more source labels from the input segmentation image was changed from \"exponential\" to \"linear\". See the \"info\" attribute for the list of affected input labels. [photutils.segmentation.deblend]\n"
     ]
    }
   ],
   "source": [
    "# might take 2-3 minutes\n",
    "from photutils.segmentation import deblend_sources\n",
    "segm_deblend = deblend_sources(image_merged_conv, segm, npixels=5)"
   ]
  },
  {
   "cell_type": "markdown",
   "metadata": {},
   "source": [
    "Compare with Sun et al. 2023"
   ]
  },
  {
   "cell_type": "code",
   "execution_count": 12,
   "metadata": {},
   "outputs": [],
   "source": [
    "from photutils.segmentation import SegmentationImage\n",
    "segm_wen = SegmentationImage(fits.getdata(f'../nircamsegm/{img_name}_seg.fits'))"
   ]
  },
  {
   "cell_type": "code",
   "execution_count": 22,
   "metadata": {},
   "outputs": [
    {
     "data": {
      "image/png": "[encoded data removed]",
      "text/plain": [
       "<Figure size 1000x1000 with 2 Axes>"
      ]
     },
     "metadata": {},
     "output_type": "display_data"
    }
   ],
   "source": [
    "fig, (ax1, ax2) = plt.subplots(1, 2, figsize=(10, 10))\n",
    "segm_deblend.imshow(ax=ax1)\n",
    "ax1.set_ylim(3218, 3418)\n",
    "ax1.set_xlim(702, 902)\n",
    "segm_wen.imshow(ax=ax2)\n",
    "ax2.set_ylim(3218, 3418)\n",
    "ax2.set_xlim(702, 902)\n",
    "plt.show()"
   ]
  },
  {
   "cell_type": "markdown",
   "metadata": {},
   "source": [
    "## Assign SegmentationImage to merged image\n",
    "\n",
    "total number of sources detected"
   ]
  },
  {
   "cell_type": "code",
   "execution_count": 65,
   "metadata": {},
   "outputs": [
    {
     "data": {
      "text/plain": [
       "39831"
      ]
     },
     "execution_count": 65,
     "metadata": {},
     "output_type": "execute_result"
    }
   ],
   "source": [
    "segm_deblend.nlabels"
   ]
  },
  {
   "cell_type": "markdown",
   "metadata": {},
   "source": [
    "convolved image and segmentation map can be used later without doing steps above"
   ]
  },
  {
   "cell_type": "code",
   "execution_count": 66,
   "metadata": {},
   "outputs": [],
   "source": [
    "hdr_segm = fits.Header()\n",
    "hdr_segm['EXTNAME'] = 'SEGMAP'\n",
    "hdr_conv = fits.Header()\n",
    "hdr_conv['EXTNAME'] = 'SCI_BKSUB_CONV'\n",
    "fits.append(image_merged_path, image_merged_conv, header=hdr_conv, overwrite=True)\n",
    "fits.append(image_merged_path, segm_deblend.data, header=hdr_segm, overwrite=True)"
   ]
  },
  {
   "cell_type": "markdown",
   "metadata": {},
   "source": [
    "## Match Sources"
   ]
  },
  {
   "cell_type": "code",
   "execution_count": 67,
   "metadata": {},
   "outputs": [],
   "source": [
    "from photutils.segmentation import SourceCatalog\n",
    "from astropy.table import Table\n",
    "from astropy.coordinates import SkyCoord\n",
    "from astropy import units as u"
   ]
  },
  {
   "cell_type": "code",
   "execution_count": 68,
   "metadata": {},
   "outputs": [],
   "source": [
    "cat = SourceCatalog(image_merged_conv, segm_deblend,wcs=w, convolved_data=image_merged_conv)\n",
    "src_tab = cat.to_table()\n",
    "skycoord_list = src_tab['sky_centroid']"
   ]
  },
  {
   "cell_type": "code",
   "execution_count": 69,
   "metadata": {},
   "outputs": [
    {
     "name": "stderr",
     "output_type": "stream",
     "text": [
      "WARNING: VerifyWarning: Invalid keyword for column 10: ASCII table null option (TNULLn) is longer than the column's character width and will be truncated (got '-32768'). [astropy.io.fits.column]\n"
     ]
    },
    {
     "data": {
      "text/plain": [
       "1960"
      ]
     },
     "execution_count": 69,
     "metadata": {},
     "output_type": "execute_result"
    }
   ],
   "source": [
    "with fits.open('Stefanon2017.fit') as hdul:\n",
    "    tab_ref = Table(hdul[1].data)\n",
    "    tab_z = Table(hdul[2].data)\n",
    "highz = np.where((tab_z['__photz_'] >= 4.0))[0]\n",
    "tab_highz = tab_ref[highz]\n",
    "len(tab_highz)"
   ]
  },
  {
   "cell_type": "code",
   "execution_count": 70,
   "metadata": {},
   "outputs": [],
   "source": [
    "ref_list = SkyCoord(ra=tab_highz['_RAJ2000']*u.degree, dec=tab_highz['_DEJ2000']*u.degree, frame='fk5').transform_to('icrs')"
   ]
  },
  {
   "cell_type": "code",
   "execution_count": 71,
   "metadata": {},
   "outputs": [],
   "source": [
    "max_sep = 1. # arcsec\n",
    "idx1, idx2, d2d, _= skycoord_list.search_around_sky(ref_list, max_sep*u.arcsec)"
   ]
  },
  {
   "cell_type": "code",
   "execution_count": 72,
   "metadata": {},
   "outputs": [],
   "source": [
    "idx1_unique, pos_unique = np.unique(idx1, return_index=True)\n",
    "tab_ref_matched = tab_highz[idx1_unique]\n",
    "tab_src_matched = src_tab[idx2[pos_unique]]"
   ]
  },
  {
   "cell_type": "code",
   "execution_count": 73,
   "metadata": {},
   "outputs": [],
   "source": [
    "tab_ref_matched = tab_highz[np.unique(idx1)]"
   ]
  },
  {
   "cell_type": "markdown",
   "metadata": {},
   "source": [
    "## Human check "
   ]
  },
  {
   "cell_type": "code",
   "execution_count": 74,
   "metadata": {},
   "outputs": [],
   "source": [
    "match_dir = f'./io/match/{img_name}/'"
   ]
  },
  {
   "cell_type": "code",
   "execution_count": 75,
   "metadata": {},
   "outputs": [],
   "source": [
    "# crossmatch check in csv format, convienient for human check\n",
    "tab_ref_matched.keep_columns(['_RAJ2000','_DEJ2000','Seq'])\n",
    "tab_ref_matched.rename_column('_RAJ2000', 'RA')\n",
    "tab_ref_matched.rename_column('_DEJ2000', 'DEC')\n",
    "tab_ref_matched.add_column(tab_src_matched['label'], name='label')\n",
    "tab_ref_matched.write(match_dir + f'tab_ref_matched_{img_name}.csv', format='ascii.csv', overwrite=True)"
   ]
  },
  {
   "cell_type": "markdown",
   "metadata": {},
   "source": [
    "### prep for ds9 catalog (Optional)"
   ]
  },
  {
   "cell_type": "code",
   "execution_count": 76,
   "metadata": {},
   "outputs": [
    {
     "data": {
      "text/plain": [
       "\"\\n# for SAO DS9 reference catalog\\ntab_ref_matched.write(match_dir + f'tab_ref_matched_{img_name}.fits', overwrite=True)\\n\\n# for SAO DS9 catalog\\nfits.writeto(match_dir + f'{img_name}_merged.fits', image_merged, overwrite=True, header=w.to_header())\\n# for SAO DS9 catalog\\nskycoord_list_matched = skycoord_list[idx2]\\ntab_matched = Table()\\ntab_matched.add_column(src_tab[idx2]['label'], name='label')\\ntab_matched.add_column(skycoord_list_matched.ra, name='ra')\\ntab_matched.add_column(skycoord_list_matched.dec, name='dec')\\ntab_matched.write(match_dir + f'tab_matched_{img_name}.fits', overwrite=True)\\n\""
      ]
     },
     "execution_count": 76,
     "metadata": {},
     "output_type": "execute_result"
    }
   ],
   "source": [
    "\"\"\"\n",
    "# for SAO DS9 reference catalog\n",
    "tab_ref_matched.write(match_dir + f'tab_ref_matched_{img_name}.fits', overwrite=True)\n",
    "\n",
    "# for SAO DS9 catalog\n",
    "fits.writeto(match_dir + f'{img_name}_merged.fits', image_merged, overwrite=True, header=w.to_header())\n",
    "# for SAO DS9 catalog\n",
    "skycoord_list_matched = skycoord_list[idx2]\n",
    "tab_matched = Table()\n",
    "tab_matched.add_column(src_tab[idx2]['label'], name='label')\n",
    "tab_matched.add_column(skycoord_list_matched.ra, name='ra')\n",
    "tab_matched.add_column(skycoord_list_matched.dec, name='dec')\n",
    "tab_matched.write(match_dir + f'tab_matched_{img_name}.fits', overwrite=True)\n",
    "\"\"\""
   ]
  }
 ],
 "metadata": {
  "kernelspec": {
   "display_name": "galfit3",
   "language": "python",
   "name": "python3"
  },
  "language_info": {
   "codemirror_mode": {
    "name": "ipython",
    "version": 3
   },
   "file_extension": ".py",
   "mimetype": "text/x-python",
   "name": "python",
   "nbconvert_exporter": "python",
   "pygments_lexer": "ipython3",
   "version": "3.9.0"
  }
 },
 "nbformat": 4,
 "nbformat_minor": 2
}
