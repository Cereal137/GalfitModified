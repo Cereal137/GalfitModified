{
 "cells": [
  {
   "cell_type": "markdown",
   "metadata": {},
   "source": [
    "# Manual Recheck \n",
    "\n",
    "## complemented for manualcheck.py"
   ]
  },
  {
   "cell_type": "code",
   "execution_count": 1,
   "metadata": {},
   "outputs": [],
   "source": [
    "import glob\n",
    "import matplotlib.pyplot as plt"
   ]
  },
  {
   "cell_type": "code",
   "execution_count": 2,
   "metadata": {},
   "outputs": [],
   "source": [
    "match_base = './io/match/'\n",
    "image_base = './io/image/'\n",
    "hst_base = './io/match/'"
   ]
  },
  {
   "cell_type": "markdown",
   "metadata": {},
   "source": [
    "## Processing which image?"
   ]
  },
  {
   "cell_type": "code",
   "execution_count": 11,
   "metadata": {},
   "outputs": [],
   "source": [
    "img_name = 'nircam2'\n",
    "\n",
    "match_dir = match_base + img_name + '/'"
   ]
  },
  {
   "cell_type": "markdown",
   "metadata": {},
   "source": [
    "## MatchCat will help"
   ]
  },
  {
   "cell_type": "code",
   "execution_count": 12,
   "metadata": {},
   "outputs": [],
   "source": [
    "from utils.matchcat import MatchCat"
   ]
  },
  {
   "cell_type": "code",
   "execution_count": 13,
   "metadata": {},
   "outputs": [],
   "source": [
    "hst_dir = hst_base + img_name +'/'\n",
    "hst_path = glob.glob(hst_dir + 'egs*.fits')[0]\n",
    "matc = MatchCat(img_name, match_dir=match_dir)"
   ]
  },
  {
   "cell_type": "markdown",
   "metadata": {},
   "source": [
    "## Interactive checking"
   ]
  },
  {
   "cell_type": "code",
   "execution_count": 18,
   "metadata": {},
   "outputs": [],
   "source": [
    "from photutils.segmentation import SegmentationImage\n",
    "def plot_image(id,cmap,vmin,vmax,norm):\n",
    "    hst_cutout, jwst_cutout, segm_cutout = matc.get_image(hst_path, id, img_size=100)\n",
    "    segm_cutout = SegmentationImage(segm_cutout)\n",
    "    fig, ax = plt.subplots(1,3, figsize=(12,4))\n",
    "    ax[0].imshow(hst_cutout, origin='lower', cmap=cmap, vmin=vmin, vmax=vmax, norm=norm)\n",
    "    ax[0].set_title('HST')\n",
    "    ax[1].imshow(jwst_cutout, origin='lower', cmap=cmap, vmin=vmin*10, vmax=vmax*10, norm=norm)\n",
    "    ax[1].set_title('JWST')\n",
    "    segm_cutout.imshow(ax=ax[2])\n",
    "    ax[2].set_title('Segmentation')\n",
    "    ax[2].plot(hst_cutout.shape[0]//2,hst_cutout.shape[1]//2, 'rx')\n",
    "    print(segm_cutout.data[hst_cutout.shape[0]//2,hst_cutout.shape[1]//2])\n",
    "    plt.show()"
   ]
  },
  {
   "cell_type": "code",
   "execution_count": 19,
   "metadata": {},
   "outputs": [
    {
     "data": {
      "application/vnd.jupyter.widget-view+json": {
       "model_id": "c3a0628725df45e89134ed9357311bef",
       "version_major": 2,
       "version_minor": 0
      },
      "text/plain": [
       "interactive(children=(IntSlider(value=0, description='id', max=114), Dropdown(description='cmap', options=('vi…"
      ]
     },
     "metadata": {},
     "output_type": "display_data"
    }
   ],
   "source": [
    "from ipywidgets import interact, widgets\n",
    "# Create a slider widget\n",
    "cmap_dropdown = widgets.Dropdown(options=['viridis','gray','hot','jet','binary'],value='viridis',description='cmap')\n",
    "vmin_slider = widgets.FloatSlider(min=0., max=0.002, step=.00002, value=0.)\n",
    "vmax_slider = widgets.FloatSlider(min=0.002, max=0.02, step=.0002, value=.01)\n",
    "norm_dropdown = widgets.Dropdown(options=['linear','log','asinh'],value='linear',description='norm')\n",
    "i_text = widgets.IntSlider(min=0,max=matc.nmatch()-1,step=1,value=0,description='id')\n",
    "#Text(value='0',description='seq')\n",
    "\n",
    "# Use the interact function to update the plot when the slider is changed\n",
    "_=interact(plot_image, id=i_text,cmap=cmap_dropdown,vmin=vmin_slider,vmax=vmax_slider,norm=norm_dropdown)"
   ]
  },
  {
   "cell_type": "code",
   "execution_count": 20,
   "metadata": {},
   "outputs": [
    {
     "name": "stdout",
     "output_type": "stream",
     "text": [
      "Object 84 of 115: 38352\n"
     ]
    }
   ],
   "source": [
    "id = 83\n",
    "_ , jwst_cutout, segm_cutout = matc.get_image(hst_path, id, img_size=100)\n",
    "segm_cutout = SegmentationImage(segm_cutout)"
   ]
  },
  {
   "cell_type": "code",
   "execution_count": 21,
   "metadata": {},
   "outputs": [
    {
     "data": {
      "application/vnd.jupyter.widget-view+json": {
       "model_id": "f9239547fafc42e49d6748c6d191e5cf",
       "version_major": 2,
       "version_minor": 0
      },
      "text/plain": [
       "Deblending:   0%|          | 0/21 [00:00<?, ?it/s]"
      ]
     },
     "metadata": {},
     "output_type": "display_data"
    },
    {
     "data": {
      "image/png": "[encoded data removed]",
      "text/plain": [
       "<Figure size 800x400 with 2 Axes>"
      ]
     },
     "metadata": {},
     "output_type": "display_data"
    }
   ],
   "source": [
    "from photutils.segmentation import deblend_sources\n",
    "segm_deblend = deblend_sources(jwst_cutout, segm_cutout, npixels=5, contrast=0.005, nlevels=4, mode='sinh')\n",
    "fig, ax = plt.subplots(1,2, figsize=(8,4))\n",
    "segm_cutout.imshow(ax=ax[0])\n",
    "ax[0].set_title('Segmentation')\n",
    "segm_deblend.imshow(ax=ax[1])\n",
    "ax[1].set_title('Deblended Segmentation')\n",
    "plt.show()"
   ]
  }
 ],
 "metadata": {
  "kernelspec": {
   "display_name": "galfit3",
   "language": "python",
   "name": "python3"
  },
  "language_info": {
   "codemirror_mode": {
    "name": "ipython",
    "version": 3
   },
   "file_extension": ".py",
   "mimetype": "text/x-python",
   "name": "python",
   "nbconvert_exporter": "python",
   "pygments_lexer": "ipython3",
   "version": "3.9.0"
  }
 },
 "nbformat": 4,
 "nbformat_minor": 2
}
