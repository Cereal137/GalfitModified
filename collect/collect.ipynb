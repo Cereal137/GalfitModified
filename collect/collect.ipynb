{
 "cells": [
  {
   "cell_type": "markdown",
   "metadata": {},
   "source": [
    "# Collect Result\n",
    "\n",
    "Author: Bingcheng Jin\n",
    "\n",
    "Date: 2024.1.1"
   ]
  },
  {
   "cell_type": "code",
   "execution_count": 1,
   "metadata": {},
   "outputs": [],
   "source": [
    "import os\n",
    "import glob\n",
    "\n",
    "import matplotlib.pyplot as plt\n",
    "import numpy as np\n",
    "\n",
    "from astropy.io import fits\n",
    "from astropy.table import Table, vstack, hstack"
   ]
  },
  {
   "cell_type": "code",
   "execution_count": 2,
   "metadata": {},
   "outputs": [],
   "source": [
    "band_labels = ['F115W','F150W','F200W','F277W','F356W','F410M','F444W']\n",
    "nbands = len(band_labels)"
   ]
  },
  {
   "cell_type": "code",
   "execution_count": 6,
   "metadata": {},
   "outputs": [
    {
     "data": {
      "text/plain": [
       "['../../localstore/egs_highz/quad/nircam2/']"
      ]
     },
     "execution_count": 6,
     "metadata": {},
     "output_type": "execute_result"
    }
   ],
   "source": [
    "sample_base = '../io/sample/'\n",
    "img_dir_list = glob.glob(sample_base + '*/')\n",
    "img_dir_list.sort()\n",
    "img_dir_list"
   ]
  },
  {
   "cell_type": "code",
   "execution_count": 10,
   "metadata": {},
   "outputs": [
    {
     "data": {
      "text/plain": [
       "([8.0607195, -0.04867809, 0.29724306],\n",
       " [0.044726662, 0.10079193, 0.0882077],\n",
       " [1.0439999, -0.13136451, 0.9379015],\n",
       " [0.00978438, 0.021692524, 0.020381887],\n",
       " <Column name='COMP1_n' dtype='float32' length=7>\n",
       "  2.1132658\n",
       "  1.3715336\n",
       "  0.6145034\n",
       " 0.10778365\n",
       "  0.4845319\n",
       "  1.2068254\n",
       "  1.8505368)"
      ]
     },
     "execution_count": 10,
     "metadata": {},
     "output_type": "execute_result"
    }
   ],
   "source": [
    "with fits.open('../../localstore/egs_highz/quad/nircam2/22246/output.fits') as hdul:\n",
    "    tab_cheb = Table(hdul['FINAL_CHEB'].data)\n",
    "    ncheb_re = tab_cheb['COMP1_Re_FIT'].sum()\n",
    "    cheb_re = list(tab_cheb['COMP1_Re'])[:ncheb_re]\n",
    "    cheb_re_e = list(tab_cheb['COMP1_Re_ERR'])[:ncheb_re]\n",
    "    ncheb_n = tab_cheb['COMP1_n_FIT'].sum()\n",
    "    cheb_n = list(tab_cheb['COMP1_n'])[:ncheb_n]\n",
    "    cheb_n_e = list(tab_cheb['COMP1_n_ERR'])[:ncheb_n]\n",
    "\n",
    "    tab_band = Table(hdul['FINAL_BAND'].data)\n",
    "    n = tab_band['COMP1_n']\n",
    "cheb_re, cheb_re_e, cheb_n, cheb_n_e, n"
   ]
  },
  {
   "cell_type": "markdown",
   "metadata": {},
   "source": [
    "## Before Multi-Component Fit"
   ]
  },
  {
   "cell_type": "code",
   "execution_count": 18,
   "metadata": {},
   "outputs": [
    {
     "ename": "KeyboardInterrupt",
     "evalue": "",
     "output_type": "error",
     "traceback": [
      "\u001b[0;31m---------------------------------------------------------------------------\u001b[0m",
      "\u001b[0;31mKeyError\u001b[0m                                  Traceback (most recent call last)",
      "File \u001b[0;32m~/opt/anaconda3/envs/galfit3/lib/python3.9/site-packages/astropy/io/fits/header.py:1980\u001b[0m, in \u001b[0;36m_DelayedHeader.__get__\u001b[0;34m(self, obj, owner)\u001b[0m\n\u001b[1;32m   1979\u001b[0m \u001b[38;5;28;01mtry\u001b[39;00m:\n\u001b[0;32m-> 1980\u001b[0m     \u001b[38;5;28;01mreturn\u001b[39;00m \u001b[43mobj\u001b[49m\u001b[38;5;241;43m.\u001b[39;49m\u001b[38;5;18;43m__dict__\u001b[39;49m\u001b[43m[\u001b[49m\u001b[38;5;124;43m\"\u001b[39;49m\u001b[38;5;124;43m_header\u001b[39;49m\u001b[38;5;124;43m\"\u001b[39;49m\u001b[43m]\u001b[49m\n\u001b[1;32m   1981\u001b[0m \u001b[38;5;28;01mexcept\u001b[39;00m \u001b[38;5;167;01mKeyError\u001b[39;00m:\n",
      "\u001b[0;31mKeyError\u001b[0m: '_header'",
      "\nDuring handling of the above exception, another exception occurred:\n",
      "\u001b[0;31mKeyboardInterrupt\u001b[0m                         Traceback (most recent call last)",
      "Cell \u001b[0;32mIn[18], line 13\u001b[0m\n\u001b[1;32m     11\u001b[0m     \u001b[38;5;28;01mcontinue\u001b[39;00m\n\u001b[1;32m     12\u001b[0m \u001b[38;5;28;01mwith\u001b[39;00m fits\u001b[38;5;241m.\u001b[39mopen(output_path) \u001b[38;5;28;01mas\u001b[39;00m hdul:\n\u001b[0;32m---> 13\u001b[0m     tab_info \u001b[38;5;241m=\u001b[39m Table(\u001b[43mhdul\u001b[49m\u001b[43m[\u001b[49m\u001b[38;5;124;43m'\u001b[39;49m\u001b[38;5;124;43mFIT_INFO\u001b[39;49m\u001b[38;5;124;43m'\u001b[39;49m\u001b[43m]\u001b[49m\u001b[38;5;241m.\u001b[39mdata)\n\u001b[1;32m     14\u001b[0m     fit_sec \u001b[38;5;241m=\u001b[39m tab_info[\u001b[38;5;124m'\u001b[39m\u001b[38;5;124mFITSECT\u001b[39m\u001b[38;5;124m'\u001b[39m][\u001b[38;5;241m0\u001b[39m]\u001b[38;5;241m.\u001b[39msplit(\u001b[38;5;124m'\u001b[39m\u001b[38;5;124m \u001b[39m\u001b[38;5;124m'\u001b[39m)[\u001b[38;5;241m0\u001b[39m]\n\u001b[1;32m     15\u001b[0m     chi2nu \u001b[38;5;241m=\u001b[39m \u001b[38;5;28mfloat\u001b[39m(tab_info[\u001b[38;5;124m'\u001b[39m\u001b[38;5;124mCHI2NU\u001b[39m\u001b[38;5;124m'\u001b[39m]\u001b[38;5;241m.\u001b[39mdata[\u001b[38;5;241m0\u001b[39m])\n",
      "File \u001b[0;32m~/opt/anaconda3/envs/galfit3/lib/python3.9/site-packages/astropy/io/fits/hdu/hdulist.py:380\u001b[0m, in \u001b[0;36mHDUList.__getitem__\u001b[0;34m(self, key)\u001b[0m\n\u001b[1;32m    375\u001b[0m \u001b[38;5;66;03m# Originally this used recursion, but hypothetically an HDU with\u001b[39;00m\n\u001b[1;32m    376\u001b[0m \u001b[38;5;66;03m# a very large number of HDUs could blow the stack, so use a loop\u001b[39;00m\n\u001b[1;32m    377\u001b[0m \u001b[38;5;66;03m# instead\u001b[39;00m\n\u001b[1;32m    378\u001b[0m \u001b[38;5;28;01mtry\u001b[39;00m:\n\u001b[1;32m    379\u001b[0m     \u001b[38;5;28;01mreturn\u001b[39;00m \u001b[38;5;28mself\u001b[39m\u001b[38;5;241m.\u001b[39m_try_while_unread_hdus(\n\u001b[0;32m--> 380\u001b[0m         \u001b[38;5;28msuper\u001b[39m()\u001b[38;5;241m.\u001b[39m\u001b[38;5;21m__getitem__\u001b[39m, \u001b[38;5;28;43mself\u001b[39;49m\u001b[38;5;241;43m.\u001b[39;49m\u001b[43m_positive_index_of\u001b[49m\u001b[43m(\u001b[49m\u001b[43mkey\u001b[49m\u001b[43m)\u001b[49m\n\u001b[1;32m    381\u001b[0m     )\n\u001b[1;32m    382\u001b[0m \u001b[38;5;28;01mexcept\u001b[39;00m \u001b[38;5;167;01mIndexError\u001b[39;00m \u001b[38;5;28;01mas\u001b[39;00m e:\n\u001b[1;32m    383\u001b[0m     \u001b[38;5;66;03m# Raise a more helpful IndexError if the file was not fully read.\u001b[39;00m\n\u001b[1;32m    384\u001b[0m     \u001b[38;5;28;01mif\u001b[39;00m \u001b[38;5;28mself\u001b[39m\u001b[38;5;241m.\u001b[39m_read_all:\n",
      "File \u001b[0;32m~/opt/anaconda3/envs/galfit3/lib/python3.9/site-packages/astropy/io/fits/hdu/hdulist.py:847\u001b[0m, in \u001b[0;36mHDUList._positive_index_of\u001b[0;34m(self, key)\u001b[0m\n\u001b[1;32m    833\u001b[0m \u001b[38;5;28;01mdef\u001b[39;00m \u001b[38;5;21m_positive_index_of\u001b[39m(\u001b[38;5;28mself\u001b[39m, key):\n\u001b[1;32m    834\u001b[0m \u001b[38;5;250m    \u001b[39m\u001b[38;5;124;03m\"\"\"\u001b[39;00m\n\u001b[1;32m    835\u001b[0m \u001b[38;5;124;03m    Same as index_of, but ensures always returning a positive index\u001b[39;00m\n\u001b[1;32m    836\u001b[0m \u001b[38;5;124;03m    or zero.\u001b[39;00m\n\u001b[0;32m   (...)\u001b[0m\n\u001b[1;32m    845\u001b[0m \u001b[38;5;124;03m    inefficient.\u001b[39;00m\n\u001b[1;32m    846\u001b[0m \u001b[38;5;124;03m    \"\"\"\u001b[39;00m\n\u001b[0;32m--> 847\u001b[0m     index \u001b[38;5;241m=\u001b[39m \u001b[38;5;28;43mself\u001b[39;49m\u001b[38;5;241;43m.\u001b[39;49m\u001b[43mindex_of\u001b[49m\u001b[43m(\u001b[49m\u001b[43mkey\u001b[49m\u001b[43m)\u001b[49m\n\u001b[1;32m    849\u001b[0m     \u001b[38;5;28;01mif\u001b[39;00m index \u001b[38;5;241m>\u001b[39m\u001b[38;5;241m=\u001b[39m \u001b[38;5;241m0\u001b[39m:\n\u001b[1;32m    850\u001b[0m         \u001b[38;5;28;01mreturn\u001b[39;00m index\n",
      "File \u001b[0;32m~/opt/anaconda3/envs/galfit3/lib/python3.9/site-packages/astropy/io/fits/hdu/hdulist.py:818\u001b[0m, in \u001b[0;36mHDUList.index_of\u001b[0;34m(self, key)\u001b[0m\n\u001b[1;32m    816\u001b[0m found \u001b[38;5;241m=\u001b[39m \u001b[38;5;28;01mNone\u001b[39;00m\n\u001b[1;32m    817\u001b[0m \u001b[38;5;28;01mfor\u001b[39;00m idx, hdu \u001b[38;5;129;01min\u001b[39;00m \u001b[38;5;28menumerate\u001b[39m(\u001b[38;5;28mself\u001b[39m):\n\u001b[0;32m--> 818\u001b[0m     name \u001b[38;5;241m=\u001b[39m \u001b[43mhdu\u001b[49m\u001b[38;5;241;43m.\u001b[39;49m\u001b[43mname\u001b[49m\n\u001b[1;32m    819\u001b[0m     \u001b[38;5;28;01mif\u001b[39;00m \u001b[38;5;28misinstance\u001b[39m(name, \u001b[38;5;28mstr\u001b[39m):\n\u001b[1;32m    820\u001b[0m         name \u001b[38;5;241m=\u001b[39m name\u001b[38;5;241m.\u001b[39mstrip()\u001b[38;5;241m.\u001b[39mupper()\n",
      "File \u001b[0;32m~/opt/anaconda3/envs/galfit3/lib/python3.9/site-packages/astropy/io/fits/hdu/base.py:222\u001b[0m, in \u001b[0;36m_BaseHDU.name\u001b[0;34m(self)\u001b[0m\n\u001b[1;32m    218\u001b[0m \u001b[38;5;129m@property\u001b[39m\n\u001b[1;32m    219\u001b[0m \u001b[38;5;28;01mdef\u001b[39;00m \u001b[38;5;21mname\u001b[39m(\u001b[38;5;28mself\u001b[39m):\n\u001b[1;32m    220\u001b[0m     \u001b[38;5;66;03m# Convert the value to a string to be flexible in some pathological\u001b[39;00m\n\u001b[1;32m    221\u001b[0m     \u001b[38;5;66;03m# cases (see ticket #96)\u001b[39;00m\n\u001b[0;32m--> 222\u001b[0m     \u001b[38;5;28;01mreturn\u001b[39;00m \u001b[38;5;28mstr\u001b[39m(\u001b[38;5;28;43mself\u001b[39;49m\u001b[38;5;241;43m.\u001b[39;49m\u001b[43m_header\u001b[49m\u001b[38;5;241m.\u001b[39mget(\u001b[38;5;124m\"\u001b[39m\u001b[38;5;124mEXTNAME\u001b[39m\u001b[38;5;124m\"\u001b[39m, \u001b[38;5;28mself\u001b[39m\u001b[38;5;241m.\u001b[39m_default_name))\n",
      "File \u001b[0;32m~/opt/anaconda3/envs/galfit3/lib/python3.9/site-packages/astropy/io/fits/header.py:1983\u001b[0m, in \u001b[0;36m_DelayedHeader.__get__\u001b[0;34m(self, obj, owner)\u001b[0m\n\u001b[1;32m   1981\u001b[0m \u001b[38;5;28;01mexcept\u001b[39;00m \u001b[38;5;167;01mKeyError\u001b[39;00m:\n\u001b[1;32m   1982\u001b[0m     \u001b[38;5;28;01mif\u001b[39;00m obj\u001b[38;5;241m.\u001b[39m_header_str \u001b[38;5;129;01mis\u001b[39;00m \u001b[38;5;129;01mnot\u001b[39;00m \u001b[38;5;28;01mNone\u001b[39;00m:\n\u001b[0;32m-> 1983\u001b[0m         hdr \u001b[38;5;241m=\u001b[39m \u001b[43mHeader\u001b[49m\u001b[38;5;241;43m.\u001b[39;49m\u001b[43mfromstring\u001b[49m\u001b[43m(\u001b[49m\u001b[43mobj\u001b[49m\u001b[38;5;241;43m.\u001b[39;49m\u001b[43m_header_str\u001b[49m\u001b[43m)\u001b[49m\n\u001b[1;32m   1984\u001b[0m         obj\u001b[38;5;241m.\u001b[39m_header_str \u001b[38;5;241m=\u001b[39m \u001b[38;5;28;01mNone\u001b[39;00m\n\u001b[1;32m   1985\u001b[0m     \u001b[38;5;28;01melse\u001b[39;00m:\n",
      "File \u001b[0;32m~/opt/anaconda3/envs/galfit3/lib/python3.9/site-packages/astropy/io/fits/header.py:466\u001b[0m, in \u001b[0;36mHeader.fromstring\u001b[0;34m(cls, data, sep)\u001b[0m\n\u001b[1;32m    463\u001b[0m \u001b[38;5;28;01mif\u001b[39;00m image:\n\u001b[1;32m    464\u001b[0m     cards\u001b[38;5;241m.\u001b[39mappend(Card\u001b[38;5;241m.\u001b[39mfromstring(empty\u001b[38;5;241m.\u001b[39mjoin(image)))\n\u001b[0;32m--> 466\u001b[0m \u001b[38;5;28;01mreturn\u001b[39;00m \u001b[38;5;28;43mcls\u001b[39;49m\u001b[38;5;241;43m.\u001b[39;49m\u001b[43m_fromcards\u001b[49m\u001b[43m(\u001b[49m\u001b[43mcards\u001b[49m\u001b[43m)\u001b[49m\n",
      "File \u001b[0;32m~/opt/anaconda3/envs/galfit3/lib/python3.9/site-packages/astropy/io/fits/header.py:541\u001b[0m, in \u001b[0;36mHeader._fromcards\u001b[0;34m(cls, cards)\u001b[0m\n\u001b[1;32m    539\u001b[0m \u001b[38;5;28;01mfor\u001b[39;00m idx, card \u001b[38;5;129;01min\u001b[39;00m \u001b[38;5;28menumerate\u001b[39m(cards):\n\u001b[1;32m    540\u001b[0m     header\u001b[38;5;241m.\u001b[39m_cards\u001b[38;5;241m.\u001b[39mappend(card)\n\u001b[0;32m--> 541\u001b[0m     keyword \u001b[38;5;241m=\u001b[39m Card\u001b[38;5;241m.\u001b[39mnormalize_keyword(\u001b[43mcard\u001b[49m\u001b[38;5;241;43m.\u001b[39;49m\u001b[43mkeyword\u001b[49m)\n\u001b[1;32m    542\u001b[0m     header\u001b[38;5;241m.\u001b[39m_keyword_indices[keyword]\u001b[38;5;241m.\u001b[39mappend(idx)\n\u001b[1;32m    543\u001b[0m     \u001b[38;5;28;01mif\u001b[39;00m card\u001b[38;5;241m.\u001b[39mfield_specifier \u001b[38;5;129;01mis\u001b[39;00m \u001b[38;5;129;01mnot\u001b[39;00m \u001b[38;5;28;01mNone\u001b[39;00m:\n",
      "File \u001b[0;32m~/opt/anaconda3/envs/galfit3/lib/python3.9/site-packages/astropy/io/fits/card.py:221\u001b[0m, in \u001b[0;36mCard.keyword\u001b[0;34m(self)\u001b[0m\n\u001b[1;32m    218\u001b[0m \u001b[38;5;28;01mdef\u001b[39;00m \u001b[38;5;21m__getitem__\u001b[39m(\u001b[38;5;28mself\u001b[39m, index):\n\u001b[1;32m    219\u001b[0m     \u001b[38;5;28;01mreturn\u001b[39;00m (\u001b[38;5;28mself\u001b[39m\u001b[38;5;241m.\u001b[39mkeyword, \u001b[38;5;28mself\u001b[39m\u001b[38;5;241m.\u001b[39mvalue, \u001b[38;5;28mself\u001b[39m\u001b[38;5;241m.\u001b[39mcomment)[index]\n\u001b[0;32m--> 221\u001b[0m \u001b[38;5;129m@property\u001b[39m\n\u001b[1;32m    222\u001b[0m \u001b[38;5;28;01mdef\u001b[39;00m \u001b[38;5;21mkeyword\u001b[39m(\u001b[38;5;28mself\u001b[39m):\n\u001b[1;32m    223\u001b[0m \u001b[38;5;250m    \u001b[39m\u001b[38;5;124;03m\"\"\"Returns the keyword name parsed from the card image.\"\"\"\u001b[39;00m\n\u001b[1;32m    224\u001b[0m     \u001b[38;5;28;01mif\u001b[39;00m \u001b[38;5;28mself\u001b[39m\u001b[38;5;241m.\u001b[39m_keyword \u001b[38;5;129;01mis\u001b[39;00m \u001b[38;5;129;01mnot\u001b[39;00m \u001b[38;5;28;01mNone\u001b[39;00m:\n",
      "\u001b[0;31mKeyboardInterrupt\u001b[0m: "
     ]
    }
   ],
   "source": [
    "tab_row = []\n",
    "for sample_base_dir in img_dir_list:\n",
    "    pointing = sample_base_dir.split('/')[-2]\n",
    "    sample_dir_list = glob.glob(sample_base_dir + '*/')\n",
    "    sample_dir_list.sort()\n",
    "    for sample_dir in sample_dir_list:\n",
    "        id = sample_dir.split('/')[-2] # plz consider naming convention\n",
    "        output_path = sample_dir + 'output_quad.fits'\n",
    "        if not os.path.exists(output_path):\n",
    "            print('Output Not Exist in ',sample_dir)\n",
    "            continue\n",
    "        with fits.open(output_path) as hdul:\n",
    "            tab_info = Table(hdul['FIT_INFO'].data)\n",
    "            fit_sec = tab_info['FITSECT'][0].split(' ')[0]\n",
    "            chi2nu = float(tab_info['CHI2NU'].data[0])\n",
    "\n",
    "            tab_band = Table(hdul['FINAL_BAND'].data)\n",
    "            xc = list(tab_band['COMP1_XC'])\n",
    "            xc_e = list(tab_band['COMP1_XC_ERR'])\n",
    "            yc = list(tab_band['COMP1_YC'])\n",
    "            yc_e = list(tab_band['COMP1_YC_ERR'])\n",
    "            mag = list(tab_band['COMP1_MAG'])\n",
    "            mag_e = list(tab_band['COMP1_MAG_ERR'])\n",
    "            re = list(tab_band['COMP1_Re'])\n",
    "            re_e = list(tab_band['COMP1_Re_ERR'])\n",
    "            n = list(tab_band['COMP1_n'])\n",
    "            n_e = list(tab_band['COMP1_n_ERR'])\n",
    "            ar = list(tab_band['COMP1_AR'])\n",
    "            ar_e = list(tab_band['COMP1_AR_ERR'])\n",
    "            pa = list(tab_band['COMP1_PA'])\n",
    "            pa_e = list(tab_band['COMP1_PA_ERR'])\n",
    "\n",
    "            \n",
    "\n",
    "        row = [id, pointing, chi2nu, fit_sec, xc, xc_e, yc, yc_e, mag, mag_e, re, re_e, n, n_e, ar, ar_e, pa, pa_e]\n",
    "        tab_row.append(row)\n",
    "tab_result = Table(rows=tab_row, names=['ID','NIRCamPointing', 'CHI2NU', 'FIT_SECTION', 'XC', 'XC_ERR', 'YC', 'YC_ERR', 'MAG', 'MAG_ERR', 'Re', 'Re_ERR', 'n', 'n_ERR', 'AR', 'AR_ERR', 'PA', 'PA_ERR'])"
   ]
  },
  {
   "cell_type": "markdown",
   "metadata": {},
   "source": [
    "### Check Duplication"
   ]
  },
  {
   "cell_type": "code",
   "execution_count": 20,
   "metadata": {},
   "outputs": [],
   "source": [
    "tab_result = Table.read('../result/egs_quad_multicomp_pls.ecsv')"
   ]
  },
  {
   "cell_type": "code",
   "execution_count": 21,
   "metadata": {},
   "outputs": [
    {
     "name": "stdout",
     "output_type": "stream",
     "text": [
      "Duplicated rows:\n",
      "  ID \n",
      "-----\n",
      "12831\n",
      "20851\n",
      "36022\n"
     ]
    }
   ],
   "source": [
    "unq, count = np.unique(tab_result['ID'], return_counts=True)\n",
    "dup = unq[count > 1]\n",
    "if len(dup) == 0:\n",
    "    print('No Duplicated IDs')\n",
    "else:\n",
    "    print('Duplicated rows:')\n",
    "    print(dup)"
   ]
  },
  {
   "cell_type": "code",
   "execution_count": null,
   "metadata": {},
   "outputs": [],
   "source": [
    "raise ValueError('Check Duplicated IDs')"
   ]
  },
  {
   "cell_type": "markdown",
   "metadata": {},
   "source": [
    "## Collect Multi-Component Result"
   ]
  },
  {
   "cell_type": "code",
   "execution_count": 12,
   "metadata": {},
   "outputs": [],
   "source": [
    "mcomp_dir = '../multicomp/'\n",
    "tab_row = []\n",
    "sample_base = '../io/sample/'\n",
    "img_dir_list = glob.glob(sample_base + 'nircam*/')\n",
    "for sample_base_dir in img_dir_list:\n",
    "    pointing = sample_base_dir.split('/')[-2]\n",
    "    sample_dir_list = glob.glob(sample_base_dir + '*/')\n",
    "    sample_dir_list.sort()\n",
    "    for sample_dir in sample_dir_list:\n",
    "        id = sample_dir.split('/')[-2] # plz consider naming convention\n",
    "        if os.path.exists(mcomp_dir + id):\n",
    "            output_path = mcomp_dir + id + '/' + f'output_quad.fits' # important to alter this every time run this cell\n",
    "            isolate = 0\n",
    "        else:    # for isolated sources\n",
    "            output_path = sample_dir + 'output_quad.fits' # important to alter this every time run this cell\n",
    "            isolate = 1\n",
    "            \n",
    "        with fits.open(output_path) as hdul:\n",
    "            tab_info = Table(hdul['FIT_INFO'].data)\n",
    "            fit_sec = tab_info['FITSECT'][0].split(' ')[0]\n",
    "            chi2nu = float(tab_info['CHI2NU'].data[0])\n",
    "\n",
    "            tab_band = Table(hdul['FINAL_BAND'].data)\n",
    "            xc = list(tab_band['COMP1_XC'])\n",
    "            xc_e = list(tab_band['COMP1_XC_ERR'])\n",
    "            yc = list(tab_band['COMP1_YC'])\n",
    "            yc_e = list(tab_band['COMP1_YC_ERR'])\n",
    "            mag = list(tab_band['COMP1_MAG'])\n",
    "            mag_e = list(tab_band['COMP1_MAG_ERR'])\n",
    "            re = list(tab_band['COMP1_Re'])\n",
    "            re_e = list(tab_band['COMP1_Re_ERR'])\n",
    "            n = list(tab_band['COMP1_n'])\n",
    "            n_e = list(tab_band['COMP1_n_ERR'])\n",
    "            ar = list(tab_band['COMP1_AR'])\n",
    "            ar_e = list(tab_band['COMP1_AR_ERR'])\n",
    "            pa = list(tab_band['COMP1_PA'])\n",
    "            pa_e = list(tab_band['COMP1_PA_ERR'])\n",
    "                \n",
    "        row = [id, pointing, chi2nu, fit_sec, xc, xc_e, yc, yc_e, mag, mag_e, re, re_e, n, n_e, ar, ar_e, pa, pa_e, isolate]\n",
    "        tab_row.append(row)\n",
    "tab_result = Table(rows=tab_row, names=['ID','NIRCamPointing', 'CHI2NU', 'FIT_SECTION', 'XC', 'XC_ERR', 'YC', 'YC_ERR', 'MAG', 'MAG_ERR', 'Re', 'Re_ERR', 'n', 'n_ERR', 'AR', 'AR_ERR', 'PA', 'PA_ERR', 'ISOLATE'])"
   ]
  },
  {
   "cell_type": "code",
   "execution_count": 14,
   "metadata": {},
   "outputs": [],
   "source": [
    "tab_result.write('../result/egs2_quad_multicomp.ecsv', overwrite=True)"
   ]
  },
  {
   "cell_type": "markdown",
   "metadata": {},
   "source": [
    "## Tag Point-like Source"
   ]
  },
  {
   "cell_type": "code",
   "execution_count": 9,
   "metadata": {},
   "outputs": [
    {
     "name": "stdout",
     "output_type": "stream",
     "text": [
      "number of point-like sources: 0\n"
     ]
    }
   ],
   "source": [
    "plslist = []\n",
    "#['29463', '25096', '21489', '40413', '40901', '22569', '29745', '14248', '39334', '39904', '36349','35881', '35545', '16488', '38928', '22451', '39385','39128','41123','21722','28756','14748','36445','24830','25457','30345','41153','41217','19448', '19470', '35911','37238', '39314','25566']\n",
    "print('number of point-like sources:', len(plslist))"
   ]
  },
  {
   "cell_type": "code",
   "execution_count": 10,
   "metadata": {},
   "outputs": [
    {
     "ename": "ValueError",
     "evalue": "Arguments \"names\" and \"dtype\" must match number of columns",
     "output_type": "error",
     "traceback": [
      "\u001b[0;31m---------------------------------------------------------------------------\u001b[0m",
      "\u001b[0;31mValueError\u001b[0m                                Traceback (most recent call last)",
      "Cell \u001b[0;32mIn[10], line 44\u001b[0m\n\u001b[1;32m     42\u001b[0m         row \u001b[38;5;241m=\u001b[39m [\u001b[38;5;28mid\u001b[39m, pointing, chi2nu, fit_sec, xc, xc_e, yc, yc_e, mag, mag_e, re, re_e, n, n_e, ar, ar_e, pa, pa_e, isolate, pls]\n\u001b[1;32m     43\u001b[0m         tab_row\u001b[38;5;241m.\u001b[39mappend(row)\n\u001b[0;32m---> 44\u001b[0m tab_result \u001b[38;5;241m=\u001b[39m \u001b[43mTable\u001b[49m\u001b[43m(\u001b[49m\u001b[43mrows\u001b[49m\u001b[38;5;241;43m=\u001b[39;49m\u001b[43mtab_row\u001b[49m\u001b[43m,\u001b[49m\u001b[43m \u001b[49m\u001b[43mnames\u001b[49m\u001b[38;5;241;43m=\u001b[39;49m\u001b[43m[\u001b[49m\u001b[38;5;124;43m'\u001b[39;49m\u001b[38;5;124;43mID\u001b[39;49m\u001b[38;5;124;43m'\u001b[39;49m\u001b[43m,\u001b[49m\u001b[38;5;124;43m'\u001b[39;49m\u001b[38;5;124;43mNIRCamPointing\u001b[39;49m\u001b[38;5;124;43m'\u001b[39;49m\u001b[43m,\u001b[49m\u001b[43m \u001b[49m\u001b[38;5;124;43m'\u001b[39;49m\u001b[38;5;124;43mCHI2NU\u001b[39;49m\u001b[38;5;124;43m'\u001b[39;49m\u001b[43m,\u001b[49m\u001b[43m \u001b[49m\u001b[38;5;124;43m'\u001b[39;49m\u001b[38;5;124;43mFIT_SECTION\u001b[39;49m\u001b[38;5;124;43m'\u001b[39;49m\u001b[43m,\u001b[49m\u001b[43m \u001b[49m\u001b[38;5;124;43m'\u001b[39;49m\u001b[38;5;124;43mXC\u001b[39;49m\u001b[38;5;124;43m'\u001b[39;49m\u001b[43m,\u001b[49m\u001b[43m \u001b[49m\u001b[38;5;124;43m'\u001b[39;49m\u001b[38;5;124;43mXC_ERR\u001b[39;49m\u001b[38;5;124;43m'\u001b[39;49m\u001b[43m,\u001b[49m\u001b[43m \u001b[49m\u001b[38;5;124;43m'\u001b[39;49m\u001b[38;5;124;43mYC\u001b[39;49m\u001b[38;5;124;43m'\u001b[39;49m\u001b[43m,\u001b[49m\u001b[43m \u001b[49m\u001b[38;5;124;43m'\u001b[39;49m\u001b[38;5;124;43mYC_ERR\u001b[39;49m\u001b[38;5;124;43m'\u001b[39;49m\u001b[43m,\u001b[49m\u001b[43m \u001b[49m\u001b[38;5;124;43m'\u001b[39;49m\u001b[38;5;124;43mMAG\u001b[39;49m\u001b[38;5;124;43m'\u001b[39;49m\u001b[43m,\u001b[49m\u001b[43m \u001b[49m\u001b[38;5;124;43m'\u001b[39;49m\u001b[38;5;124;43mMAG_ERR\u001b[39;49m\u001b[38;5;124;43m'\u001b[39;49m\u001b[43m,\u001b[49m\u001b[43m \u001b[49m\u001b[38;5;124;43m'\u001b[39;49m\u001b[38;5;124;43mRe\u001b[39;49m\u001b[38;5;124;43m'\u001b[39;49m\u001b[43m,\u001b[49m\u001b[43m \u001b[49m\u001b[38;5;124;43m'\u001b[39;49m\u001b[38;5;124;43mRe_ERR\u001b[39;49m\u001b[38;5;124;43m'\u001b[39;49m\u001b[43m,\u001b[49m\u001b[43m \u001b[49m\u001b[38;5;124;43m'\u001b[39;49m\u001b[38;5;124;43mn\u001b[39;49m\u001b[38;5;124;43m'\u001b[39;49m\u001b[43m,\u001b[49m\u001b[43m \u001b[49m\u001b[38;5;124;43m'\u001b[39;49m\u001b[38;5;124;43mn_ERR\u001b[39;49m\u001b[38;5;124;43m'\u001b[39;49m\u001b[43m,\u001b[49m\u001b[43m \u001b[49m\u001b[38;5;124;43m'\u001b[39;49m\u001b[38;5;124;43mAR\u001b[39;49m\u001b[38;5;124;43m'\u001b[39;49m\u001b[43m,\u001b[49m\u001b[43m \u001b[49m\u001b[38;5;124;43m'\u001b[39;49m\u001b[38;5;124;43mAR_ERR\u001b[39;49m\u001b[38;5;124;43m'\u001b[39;49m\u001b[43m,\u001b[49m\u001b[43m \u001b[49m\u001b[38;5;124;43m'\u001b[39;49m\u001b[38;5;124;43mPA\u001b[39;49m\u001b[38;5;124;43m'\u001b[39;49m\u001b[43m,\u001b[49m\u001b[43m \u001b[49m\u001b[38;5;124;43m'\u001b[39;49m\u001b[38;5;124;43mPA_ERR\u001b[39;49m\u001b[38;5;124;43m'\u001b[39;49m\u001b[43m,\u001b[49m\u001b[43m \u001b[49m\u001b[38;5;124;43m'\u001b[39;49m\u001b[38;5;124;43mISOLATE\u001b[39;49m\u001b[38;5;124;43m'\u001b[39;49m\u001b[43m,\u001b[49m\u001b[43m \u001b[49m\u001b[38;5;124;43m'\u001b[39;49m\u001b[38;5;124;43mPOINTLIKE\u001b[39;49m\u001b[38;5;124;43m'\u001b[39;49m\u001b[43m]\u001b[49m\u001b[43m)\u001b[49m\n",
      "File \u001b[0;32m~/opt/anaconda3/envs/galfit3/lib/python3.9/site-packages/astropy/table/table.py:867\u001b[0m, in \u001b[0;36mTable.__init__\u001b[0;34m(self, data, masked, names, dtype, meta, copy, rows, copy_indices, units, descriptions, **kwargs)\u001b[0m\n\u001b[1;32m    863\u001b[0m     names \u001b[38;5;241m=\u001b[39m default_names \u001b[38;5;129;01mor\u001b[39;00m [\u001b[38;5;28;01mNone\u001b[39;00m] \u001b[38;5;241m*\u001b[39m n_cols\n\u001b[1;32m    865\u001b[0m names \u001b[38;5;241m=\u001b[39m [\u001b[38;5;28;01mNone\u001b[39;00m \u001b[38;5;28;01mif\u001b[39;00m name \u001b[38;5;129;01mis\u001b[39;00m \u001b[38;5;28;01mNone\u001b[39;00m \u001b[38;5;28;01melse\u001b[39;00m \u001b[38;5;28mstr\u001b[39m(name) \u001b[38;5;28;01mfor\u001b[39;00m name \u001b[38;5;129;01min\u001b[39;00m names]\n\u001b[0;32m--> 867\u001b[0m \u001b[38;5;28;43mself\u001b[39;49m\u001b[38;5;241;43m.\u001b[39;49m\u001b[43m_check_names_dtype\u001b[49m\u001b[43m(\u001b[49m\u001b[43mnames\u001b[49m\u001b[43m,\u001b[49m\u001b[43m \u001b[49m\u001b[43mdtype\u001b[49m\u001b[43m,\u001b[49m\u001b[43m \u001b[49m\u001b[43mn_cols\u001b[49m\u001b[43m)\u001b[49m\n\u001b[1;32m    869\u001b[0m \u001b[38;5;66;03m# Finally do the real initialization\u001b[39;00m\n\u001b[1;32m    870\u001b[0m init_func(data, names, dtype, n_cols, copy)\n",
      "File \u001b[0;32m~/opt/anaconda3/envs/galfit3/lib/python3.9/site-packages/astropy/table/table.py:1157\u001b[0m, in \u001b[0;36mTable._check_names_dtype\u001b[0;34m(self, names, dtype, n_cols)\u001b[0m\n\u001b[1;32m   1154\u001b[0m         \u001b[38;5;28;01mraise\u001b[39;00m \u001b[38;5;167;01mValueError\u001b[39;00m(\u001b[38;5;124mf\u001b[39m\u001b[38;5;124m\"\u001b[39m\u001b[38;5;132;01m{\u001b[39;00minp_str\u001b[38;5;132;01m}\u001b[39;00m\u001b[38;5;124m must be a list or None\u001b[39m\u001b[38;5;124m\"\u001b[39m)\n\u001b[1;32m   1156\u001b[0m \u001b[38;5;28;01mif\u001b[39;00m \u001b[38;5;28mlen\u001b[39m(names) \u001b[38;5;241m!=\u001b[39m n_cols \u001b[38;5;129;01mor\u001b[39;00m \u001b[38;5;28mlen\u001b[39m(dtype) \u001b[38;5;241m!=\u001b[39m n_cols:\n\u001b[0;32m-> 1157\u001b[0m     \u001b[38;5;28;01mraise\u001b[39;00m \u001b[38;5;167;01mValueError\u001b[39;00m(\n\u001b[1;32m   1158\u001b[0m         \u001b[38;5;124m'\u001b[39m\u001b[38;5;124mArguments \u001b[39m\u001b[38;5;124m\"\u001b[39m\u001b[38;5;124mnames\u001b[39m\u001b[38;5;124m\"\u001b[39m\u001b[38;5;124m and \u001b[39m\u001b[38;5;124m\"\u001b[39m\u001b[38;5;124mdtype\u001b[39m\u001b[38;5;124m\"\u001b[39m\u001b[38;5;124m must match number of columns\u001b[39m\u001b[38;5;124m'\u001b[39m\n\u001b[1;32m   1159\u001b[0m     )\n",
      "\u001b[0;31mValueError\u001b[0m: Arguments \"names\" and \"dtype\" must match number of columns"
     ]
    }
   ],
   "source": [
    "mcomp_dir = '../multicomp/'\n",
    "tab_row = []\n",
    "sample_base = '../io/sample/'\n",
    "img_dir_list = glob.glob(sample_base + 'nircam*/')\n",
    "for sample_base_dir in img_dir_list:\n",
    "    pointing = sample_base_dir.split('/')[-2]\n",
    "    sample_dir_list = glob.glob(sample_base_dir + '*/')\n",
    "    sample_dir_list.sort()\n",
    "    for sample_dir in sample_dir_list:\n",
    "        id = sample_dir.split('/')[-2] # plz consider naming convention\n",
    "\n",
    "        pls = 1 if id in plslist else 0\n",
    "        \n",
    "        if os.path.exists(mcomp_dir + id):\n",
    "            output_path = mcomp_dir + id + '/' + f'output_quad.fits' # important to alter this every time run this cell\n",
    "            isolate = 0\n",
    "        else:    # for isolated sources\n",
    "            output_path = sample_dir + 'output_quad.fits' # important to alter this every time run this cell\n",
    "            isolate = 1\n",
    "            \n",
    "        with fits.open(output_path) as hdul:\n",
    "            tab_info = Table(hdul['FIT_INFO'].data)\n",
    "            fit_sec = tab_info['FITSECT'][0].split(' ')[0]\n",
    "            chi2nu = float(tab_info['CHI2NU'].data[0])\n",
    "\n",
    "            tab_band = Table(hdul['FINAL_BAND'].data)\n",
    "            xc = list(tab_band['COMP1_XC'])\n",
    "            xc_e = list(tab_band['COMP1_XC_ERR'])\n",
    "            yc = list(tab_band['COMP1_YC'])\n",
    "            yc_e = list(tab_band['COMP1_YC_ERR'])\n",
    "            mag = list(tab_band['COMP1_MAG'])\n",
    "            mag_e = list(tab_band['COMP1_MAG_ERR'])\n",
    "            re = list(tab_band['COMP1_Re'])\n",
    "            re_e = list(tab_band['COMP1_Re_ERR'])\n",
    "            n = list(tab_band['COMP1_n'])\n",
    "            n_e = list(tab_band['COMP1_n_ERR'])\n",
    "            ar = list(tab_band['COMP1_AR'])\n",
    "            ar_e = list(tab_band['COMP1_AR_ERR'])\n",
    "            pa = list(tab_band['COMP1_PA'])\n",
    "            pa_e = list(tab_band['COMP1_PA_ERR'])\n",
    "\n",
    "            tab_cheb = Table(hdul['FINAL_CHEB'].data)\n",
    "            ncheb_re = tab_cheb['COMP1_Re_FIT'].sum()\n",
    "            cheb_re = list(tab_cheb['COMP1_Re'])[:ncheb_re]\n",
    "            cheb_re_e = list(tab_cheb['COMP1_Re_ERR'])[:ncheb_re]\n",
    "            ncheb_n = tab_cheb['COMP1_n_FIT'].sum()\n",
    "            cheb_n = list(tab_cheb['COMP1_n'])[:ncheb_n]\n",
    "            cheb_n_e = list(tab_cheb['COMP1_n_ERR'])[:ncheb_n]\n",
    "                \n",
    "        row = [id, pointing, chi2nu, fit_sec, xc, xc_e, yc, yc_e, mag, mag_e, re, re_e, n, n_e, ar, ar_e, pa, pa_e, cheb_re, cheb_re_e, cheb_n, cheb_n_e, isolate, pls]\n",
    "        tab_row.append(row)\n",
    "tab_result = Table(rows=tab_row, names=['ID','NIRCamPointing', 'CHI2NU', 'FIT_SECTION', 'XC', 'XC_ERR', 'YC', 'YC_ERR', 'MAG', 'MAG_ERR', 'Re', 'Re_ERR', 'n', 'n_ERR', 'AR', 'AR_ERR', 'PA', 'PA_ERR', 'CHEB_Re', 'CHEB_Re_ERR', 'CHEB_n', 'CHEB_n_ERR', 'ISOLATE', 'POINTLIKE'])"
   ]
  },
  {
   "cell_type": "markdown",
   "metadata": {},
   "source": [
    "check the table results"
   ]
  },
  {
   "cell_type": "code",
   "execution_count": 6,
   "metadata": {},
   "outputs": [
    {
     "data": {
      "text/html": [
       "<div><i>Table length=295</i>\n",
       "<table id=\"table140284584304944\" class=\"table-striped table-bordered table-condensed\">\n",
       "<thead><tr><th>ID</th><th>NIRCamPointing</th><th>CHI2NU</th><th>FIT_SECTION</th><th>XC</th><th>XC_ERR</th><th>YC</th><th>YC_ERR</th><th>MAG</th><th>MAG_ERR</th><th>Re</th><th>Re_ERR</th><th>n</th><th>n_ERR</th><th>AR</th><th>AR_ERR</th><th>PA</th><th>PA_ERR</th><th>ISOLATE</th><th>POINTLIKE</th></tr></thead>\n",
       "<thead><tr><th>str5</th><th>str7</th><th>float64</th><th>str13</th><th>float32[7]</th><th>float32[7]</th><th>float32[7]</th><th>float32[7]</th><th>float32[7]</th><th>float32[7]</th><th>float32[7]</th><th>float32[7]</th><th>float32[7]</th><th>float32[7]</th><th>float32[7]</th><th>float32[7]</th><th>float32[7]</th><th>float32[7]</th><th>int64</th><th>int64</th></tr></thead>\n",
       "<tr><td>25258</td><td>nircam1</td><td>1.054180383682251</td><td>[1:140,1:140]</td><td>68.86937 .. 68.335175</td><td>0.020454934 .. 0.07228282</td><td>69.49339 .. 69.9691</td><td>0.021206707 .. 0.07338753</td><td>25.612501 .. 26.121618</td><td>0.10494478 .. 0.13499908</td><td>7.796295 .. 5.7879033</td><td>2.0484927 .. 1.8486382</td><td>9.921831 .. 7.7983</td><td>1.3397316 .. 1.7836874</td><td>0.6096759 .. 0.6096759</td><td>0.01279053 .. 0.01279053</td><td>43.95517 .. 43.95517</td><td>1.313281 .. 1.313281</td><td>1</td><td>0</td></tr>\n",
       "<tr><td>25324</td><td>nircam1</td><td>1.1229877471923828</td><td>[1:126,1:126]</td><td>63.776558 .. 63.535496</td><td>0.021256486 .. 0.020207359</td><td>60.19718 .. 63.463512</td><td>0.04993814 .. 0.04712853</td><td>25.800701 .. 25.16675</td><td>0.013736786 .. 0.006451258</td><td>6.9750504 .. 7.600315</td><td>0.12972131 .. 0.05463658</td><td>1.4455689 .. 0.49365366</td><td>0.039276198 .. 0.01690287</td><td>0.25602305 .. 0.25602305</td><td>0.0014625791 .. 0.0014625791</td><td>12.167604 .. 12.167604</td><td>0.13014732 .. 0.13014732</td><td>1</td><td>0</td></tr>\n",
       "<tr><td>25411</td><td>nircam1</td><td>1.1963496208190918</td><td>[1:174,1:174]</td><td>86.403015 .. 86.431</td><td>0.012603034 .. 0.008776964</td><td>92.04876 .. 92.53128</td><td>0.017649949 .. 0.012584961</td><td>24.852932 .. 23.747478</td><td>0.0061123893 .. 0.0033756834</td><td>4.5148873 .. 4.946179</td><td>0.029707339 .. 0.017340904</td><td>1.1139588 .. 1.1202195</td><td>0.013859995 .. 0.010481825</td><td>0.6732601 .. 0.6732601</td><td>0.0010532828 .. 0.0010532828</td><td>-12.978418 .. -12.978418</td><td>0.23857005 .. 0.23857005</td><td>0</td><td>0</td></tr>\n",
       "<tr><td>25566</td><td>nircam1</td><td>1.030319094657898</td><td>[1:74,1:74]</td><td>37.75564 .. 37.604668</td><td>0.020045893 .. 0.025266847</td><td>37.73358 .. 37.65197</td><td>0.019262714 .. 0.025863122</td><td>26.126886 .. 25.970718</td><td>0.017213548 .. 0.012465275</td><td>1.0123744 .. 1.4547619</td><td>0.03344741 .. 0.040050242</td><td>3.849068 .. 2.9671068</td><td>0.41100782 .. 0.39541408</td><td>0.71337986 .. 0.71337986</td><td>0.0096691465 .. 0.0096691465</td><td>-62.442825 .. -62.442825</td><td>1.3416799 .. 1.3416799</td><td>1</td><td>1</td></tr>\n",
       "<tr><td>25572</td><td>nircam1</td><td>1.009782314300537</td><td>[1:92,1:92]</td><td>46.77273 .. 46.53223</td><td>0.03611555 .. 0.014268294</td><td>46.996273 .. 46.86681</td><td>0.032624643 .. 0.013372337</td><td>26.370455 .. 24.743599</td><td>0.027128218 .. 0.0071712765</td><td>1.9352033 .. 1.8188456</td><td>0.080648996 .. 0.022088036</td><td>4.096061 .. 3.3580654</td><td>0.3680666 .. 0.17279072</td><td>0.74907094 .. 0.74907094</td><td>0.006938519 .. 0.006938519</td><td>78.34376 .. 78.34376</td><td>1.2159702 .. 1.2159702</td><td>1</td><td>0</td></tr>\n",
       "<tr><td>26334</td><td>nircam1</td><td>1.0781608819961548</td><td>[1:172,1:172]</td><td>89.97929 .. 87.78804</td><td>0.06291346 .. 0.033490386</td><td>87.196144 .. 86.84873</td><td>0.036784895 .. 0.020216933</td><td>26.120415 .. 24.858469</td><td>0.023161588 .. 0.0073911906</td><td>6.653001 .. 6.736156</td><td>0.196614 .. 0.061812572</td><td>1.5658613 .. 1.0266454</td><td>0.05535063 .. 0.022162814</td><td>0.47312862 .. 0.47312862</td><td>0.0020986982 .. 0.0020986982</td><td>-71.537544 .. -71.537544</td><td>0.2682107 .. 0.2682107</td><td>1</td><td>0</td></tr>\n",
       "<tr><td>26405</td><td>nircam1</td><td>1.159672737121582</td><td>[1:138,1:138]</td><td>68.69071 .. 68.71838</td><td>0.04664702 .. 0.018317124</td><td>69.96006 .. 68.250755</td><td>0.12445875 .. 0.039518166</td><td>25.76355 .. 24.552883</td><td>0.011122862 .. 0.0047783493</td><td>9.611664 .. 8.240335</td><td>0.07867568 .. 0.050010372</td><td>0.39242536 .. 0.8951417</td><td>0.018277358 .. 0.019179506</td><td>0.33593547 .. 0.33593547</td><td>0.0010481214 .. 0.0010481214</td><td>-9.62175 .. -9.62175</td><td>0.11305436 .. 0.11305436</td><td>1</td><td>0</td></tr>\n",
       "<tr><td>26553</td><td>nircam1</td><td>1.09257173538208</td><td>[1:122,1:122]</td><td>62.45981 .. 62.015327</td><td>0.032333132 .. 0.015210985</td><td>61.16048 .. 61.241005</td><td>0.028402371 .. 0.01358347</td><td>26.337114 .. 24.475925</td><td>0.033166256 .. 0.008459231</td><td>4.2573915 .. 3.725446</td><td>0.25237 .. 0.04952961</td><td>3.551054 .. 2.0936406</td><td>0.22751103 .. 0.07008264</td><td>0.8094581 .. 0.8094581</td><td>0.005105861 .. 0.005105861</td><td>-54.07792 .. -54.07792</td><td>1.0417063 .. 1.0417063</td><td>1</td><td>0</td></tr>\n",
       "<tr><td>27129</td><td>nircam1</td><td>1.1271311044692993</td><td>[1:106,1:106]</td><td>54.113518 .. 53.576374</td><td>0.021473208 .. 0.024217656</td><td>53.33325 .. 52.680126</td><td>0.036860533 .. 0.03566227</td><td>26.121292 .. 25.34885</td><td>0.008235161 .. 0.006397053</td><td>4.561341 .. 4.6834445</td><td>0.03254333 .. 0.037479624</td><td>0.24259552 .. 0.5439451</td><td>0.01686479 .. 0.028108077</td><td>0.31949624 .. 0.31949624</td><td>0.0024521542 .. 0.0024521542</td><td>-23.36228 .. -23.36228</td><td>0.18221134 .. 0.18221134</td><td>1</td><td>0</td></tr>\n",
       "<tr><td>27171</td><td>nircam1</td><td>1.0830011367797852</td><td>[1:90,1:90]</td><td>45.124233 .. 45.339676</td><td>0.03517281 .. 0.024997951</td><td>45.46232 .. 45.872353</td><td>0.03204385 .. 0.023591667</td><td>26.4567 .. 25.423502</td><td>0.022974964 .. 0.0109101</td><td>3.5565197 .. 2.7101715</td><td>0.11886379 .. 0.047057707</td><td>2.137093 .. 1.8161215</td><td>0.1090302 .. 0.09962662</td><td>0.8843096 .. 0.8843096</td><td>0.006890697 .. 0.006890697</td><td>-57.430252 .. -57.430252</td><td>2.6670475 .. 2.6670475</td><td>1</td><td>0</td></tr>\n",
       "<tr><td>...</td><td>...</td><td>...</td><td>...</td><td>...</td><td>...</td><td>...</td><td>...</td><td>...</td><td>...</td><td>...</td><td>...</td><td>...</td><td>...</td><td>...</td><td>...</td><td>...</td><td>...</td><td>...</td><td>...</td></tr>\n",
       "<tr><td>40619</td><td>nircam3</td><td>1.0203602313995361</td><td>[1:74,1:74]</td><td>36.72902 .. 37.12327</td><td>0.06947943 .. 0.08356898</td><td>38.21457 .. 38.591316</td><td>0.04873881 .. 0.061108798</td><td>27.282785 .. 26.578226</td><td>0.033624757 .. 0.021354599</td><td>3.3238328 .. 3.8692937</td><td>0.12755622 .. 0.0964518</td><td>1.4495335 .. 1.1497052</td><td>0.12916128 .. 0.12802182</td><td>0.5765392 .. 0.5765392</td><td>0.009733771 .. 0.009733771</td><td>69.65545 .. 69.65545</td><td>1.259322 .. 1.259322</td><td>1</td><td>0</td></tr>\n",
       "<tr><td>40843</td><td>nircam3</td><td>1.0367017984390259</td><td>[1:178,1:178]</td><td>90.86487 .. 90.23034</td><td>0.088553295 .. 0.065146476</td><td>89.27207 .. 89.833664</td><td>0.06616955 .. 0.04734406</td><td>26.208057 .. 25.597301</td><td>0.02667577 .. 0.013986508</td><td>10.148734 .. 7.4305162</td><td>0.35834166 .. 0.12057824</td><td>1.800751 .. 0.9592978</td><td>0.062537335 .. 0.03345345</td><td>0.5582337 .. 0.5582337</td><td>0.004471939 .. 0.004471939</td><td>-85.51808 .. -85.51808</td><td>0.6070947 .. 0.6070947</td><td>0</td><td>0</td></tr>\n",
       "<tr><td>40887</td><td>nircam3</td><td>1.0280781984329224</td><td>[1:92,1:92]</td><td>46.429153 .. 46.363144</td><td>0.037914447 .. 0.06688944</td><td>47.13978 .. 47.335476</td><td>0.034989677 .. 0.06282997</td><td>27.297653 .. 26.883432</td><td>0.021376748 .. 0.023584982</td><td>2.32631 .. 3.36706</td><td>0.07211145 .. 0.131916</td><td>0.82326615 .. 1.0898881</td><td>0.12224719 .. 0.25042638</td><td>0.5318605 .. 0.5318605</td><td>0.012835202 .. 0.012835202</td><td>45.069 .. 45.069</td><td>1.4488117 .. 1.4488117</td><td>1</td><td>0</td></tr>\n",
       "<tr><td>40938</td><td>nircam3</td><td>1.0454350709915161</td><td>[1:112,1:112]</td><td>59.39785 .. 57.412006</td><td>0.033415873 .. 0.08484392</td><td>56.235992 .. 55.500168</td><td>0.029151063 .. 0.06578171</td><td>26.779917 .. 26.601551</td><td>0.04361611 .. 0.029147953</td><td>2.5315437 .. 3.7933853</td><td>0.23118678 .. 0.15876403</td><td>6.1270137 .. 2.688716</td><td>0.71232194 .. 0.37349987</td><td>0.47471583 .. 0.47471583</td><td>0.012488796 .. 0.012488796</td><td>-66.23863 .. -66.23863</td><td>1.0392092 .. 1.0392092</td><td>1</td><td>0</td></tr>\n",
       "<tr><td>41153</td><td>nircam3</td><td>1.035135269165039</td><td>[1:100,1:100]</td><td>49.19598 .. 50.72833</td><td>0.069467165 .. 0.11504241</td><td>50.443604 .. 50.97528</td><td>0.044984587 .. 0.10377924</td><td>27.11686 .. 27.787247</td><td>0.025740633 .. 0.031841174</td><td>4.158385 .. 1.9291902</td><td>0.16287628 .. 0.2939617</td><td>1.401459 .. 0.26676354</td><td>0.14833306 .. 0.5020509</td><td>0.37334567 .. 0.37334567</td><td>0.0080979755 .. 0.0080979755</td><td>79.88625 .. 79.88625</td><td>0.9620708 .. 0.9620708</td><td>1</td><td>1</td></tr>\n",
       "<tr><td>41199</td><td>nircam3</td><td>1.0204660892486572</td><td>[1:100,1:100]</td><td>50.942017 .. 50.82383</td><td>0.0514578 .. 0.092699096</td><td>50.331146 .. 51.93879</td><td>0.04751353 .. 0.08760421</td><td>27.23024 .. 26.978725</td><td>0.037040476 .. 0.033015285</td><td>3.0795107 .. 3.7517748</td><td>0.14783843 .. 0.14031683</td><td>1.7226565 .. 1.3290721</td><td>0.1877804 .. 0.23362818</td><td>0.8292741 .. 0.8292741</td><td>0.015775124 .. 0.015775124</td><td>-46.89862 .. -46.89862</td><td>4.5248575 .. 4.5248575</td><td>1</td><td>0</td></tr>\n",
       "<tr><td>41211</td><td>nircam3</td><td>1.0212215185165405</td><td>[1:124,1:124]</td><td>63.077747 .. 63.005905</td><td>0.04572669 .. 0.08618003</td><td>62.83485 .. 63.4187</td><td>0.04367397 .. 0.08528192</td><td>27.324234 .. 26.40905</td><td>0.03017241 .. 0.044369213</td><td>2.0103633 .. 4.0245733</td><td>0.08035203 .. 0.343637</td><td>1.1672605 .. 3.6607013</td><td>0.14958443 .. 0.56475043</td><td>0.94270444 .. 0.94270444</td><td>0.017208297 .. 0.017208297</td><td>-85.64566 .. -85.64566</td><td>12.5479965 .. 12.5479965</td><td>1</td><td>0</td></tr>\n",
       "<tr><td>41217</td><td>nircam3</td><td>1.2547671794891357</td><td>[1:56,1:56]</td><td>28.20093 .. 28.301031</td><td>0.1757385 .. 0.19864021</td><td>27.628231 .. 28.143257</td><td>0.5907854 .. 0.6849867</td><td>26.578556 .. 27.605755</td><td>0.050081868 .. 0.047817703</td><td>0.36254346 .. 1.1138887</td><td>0.11280369 .. 0.40165806</td><td>1.002859 .. 3.1656883</td><td>0.6435784 .. 2.5685117</td><td>0.08473448 .. 0.08473448</td><td>0.09290937 .. 0.09290937</td><td>-27.262276 .. -27.262276</td><td>3.8582966 .. 3.8582966</td><td>1</td><td>1</td></tr>\n",
       "<tr><td>41401</td><td>nircam3</td><td>1.025481104850769</td><td>[1:164,1:164]</td><td>83.6841 .. 82.91454</td><td>0.057482775 .. 0.045633823</td><td>88.04985 .. 86.449776</td><td>0.27928597 .. 0.22473711</td><td>26.188461 .. 25.64836</td><td>0.029723193 .. 0.018116001</td><td>15.96844 .. 12.351016</td><td>0.54630995 .. 0.24336329</td><td>1.0477489 .. 0.45174348</td><td>0.058569174 .. 0.03396622</td><td>0.1943552 .. 0.1943552</td><td>0.0022928948 .. 0.0022928948</td><td>-10.618114 .. -10.618114</td><td>0.21602654 .. 0.21602654</td><td>1</td><td>0</td></tr>\n",
       "<tr><td>41427</td><td>nircam3</td><td>1.0655016899108887</td><td>[1:120,1:120]</td><td>61.553005 .. 61.048023</td><td>0.0845432 .. 0.14029673</td><td>58.864944 .. 58.546295</td><td>0.03579965 .. 0.07471842</td><td>26.866037 .. 26.390507</td><td>0.022297205 .. 0.026797334</td><td>5.714463 .. 6.0542464</td><td>0.07431949 .. 0.1171727</td><td>0.10177532 .. 0.64625275</td><td>0.02579558 .. 0.055234894</td><td>0.28444678 .. 0.28444678</td><td>0.0031821348 .. 0.0031821348</td><td>89.87613 .. 89.87613</td><td>0.30822605 .. 0.30822605</td><td>0</td><td>0</td></tr>\n",
       "</table></div>"
      ],
      "text/plain": [
       "<Table length=295>\n",
       "  ID  NIRCamPointing       CHI2NU       ... ISOLATE POINTLIKE\n",
       " str5      str7           float64       ...  int64    int64  \n",
       "----- -------------- ------------------ ... ------- ---------\n",
       "25258        nircam1  1.054180383682251 ...       1         0\n",
       "25324        nircam1 1.1229877471923828 ...       1         0\n",
       "25411        nircam1 1.1963496208190918 ...       0         0\n",
       "25566        nircam1  1.030319094657898 ...       1         1\n",
       "25572        nircam1  1.009782314300537 ...       1         0\n",
       "26334        nircam1 1.0781608819961548 ...       1         0\n",
       "26405        nircam1  1.159672737121582 ...       1         0\n",
       "26553        nircam1   1.09257173538208 ...       1         0\n",
       "27129        nircam1 1.1271311044692993 ...       1         0\n",
       "27171        nircam1 1.0830011367797852 ...       1         0\n",
       "  ...            ...                ... ...     ...       ...\n",
       "40619        nircam3 1.0203602313995361 ...       1         0\n",
       "40843        nircam3 1.0367017984390259 ...       0         0\n",
       "40887        nircam3 1.0280781984329224 ...       1         0\n",
       "40938        nircam3 1.0454350709915161 ...       1         0\n",
       "41153        nircam3  1.035135269165039 ...       1         1\n",
       "41199        nircam3 1.0204660892486572 ...       1         0\n",
       "41211        nircam3 1.0212215185165405 ...       1         0\n",
       "41217        nircam3 1.2547671794891357 ...       1         1\n",
       "41401        nircam3  1.025481104850769 ...       1         0\n",
       "41427        nircam3 1.0655016899108887 ...       0         0"
      ]
     },
     "execution_count": 6,
     "metadata": {},
     "output_type": "execute_result"
    }
   ],
   "source": [
    "tab_result.write(f'../result/egs_quad_multicomp_pls.ecsv', overwrite=True)\n",
    "tab_result[25:]"
   ]
  },
  {
   "cell_type": "code",
   "execution_count": 15,
   "metadata": {},
   "outputs": [
    {
     "data": {
      "text/plain": [
       "array([1.930769 , 2.1653936, 2.4315352, 2.6979735, 2.7732017, 2.7130527,\n",
       "       2.6325293], dtype=float32)"
      ]
     },
     "execution_count": 15,
     "metadata": {},
     "output_type": "execute_result"
    }
   ],
   "source": [
    "tab_result[tab_result['ID'] == '31079'][0]['n']"
   ]
  },
  {
   "cell_type": "markdown",
   "metadata": {},
   "source": [
    "## Patch"
   ]
  },
  {
   "cell_type": "code",
   "execution_count": 11,
   "metadata": {},
   "outputs": [],
   "source": [
    "tab_p = Table.read('../result/egs_quad_multicomp_pls.ecsv')"
   ]
  },
  {
   "cell_type": "code",
   "execution_count": 12,
   "metadata": {},
   "outputs": [],
   "source": [
    "tab_row = []\n",
    "for row in tab_p:\n",
    "    id = row['ID']\n",
    "    pointing = row['NIRCamPointing']\n",
    "    if row['ISOLATE'] == 1:\n",
    "        if pointing in ['nircam1', 'nircam2', 'nircam3', 'nircam6']:\n",
    "            output_path = f'../../localstore/egs_highz/quad/{pointing}/{id}/output.fits'\n",
    "        else:\n",
    "            output_path = f'../../localstore/egs_highz/quad/{pointing}/{id}/output_quad.fits'\n",
    "    else:\n",
    "        output_path = f'../../localstore/egs_highz/quad/multicomp/{id}/output_quad.fits'\n",
    "    \n",
    "    with fits.open(output_path) as hdul:\n",
    "        tab_cheb = Table(hdul['FINAL_CHEB'].data)\n",
    "        ncheb_re = tab_cheb['COMP1_Re_FIT'].sum()\n",
    "        cheb_re = list(tab_cheb['COMP1_Re'])[:ncheb_re]\n",
    "        cheb_re_e = list(tab_cheb['COMP1_Re_ERR'])[:ncheb_re]\n",
    "        ncheb_n = tab_cheb['COMP1_n_FIT'].sum()\n",
    "        cheb_n = list(tab_cheb['COMP1_n'])[:ncheb_n]\n",
    "        cheb_n_e = list(tab_cheb['COMP1_n_ERR'])[:ncheb_n]\n",
    "    \n",
    "    row = [cheb_re, cheb_re_e, cheb_n, cheb_n_e]\n",
    "    tab_row.append(row)\n",
    "tab_cheb = Table(rows=tab_row, names=['CHEB_Re', 'CHEB_Re_ERR', 'CHEB_n', 'CHEB_n_ERR'])\n",
    "tab_patched = hstack([tab_p, tab_cheb])"
   ]
  },
  {
   "cell_type": "code",
   "execution_count": 13,
   "metadata": {},
   "outputs": [],
   "source": [
    "tab_patched.write('../result/egs_quad_multicomp_pls_cheb.ecsv', overwrite=True)"
   ]
  }
 ],
 "metadata": {
  "kernelspec": {
   "display_name": "galfit3",
   "language": "python",
   "name": "python3"
  },
  "language_info": {
   "codemirror_mode": {
    "name": "ipython",
    "version": 3
   },
   "file_extension": ".py",
   "mimetype": "text/x-python",
   "name": "python",
   "nbconvert_exporter": "python",
   "pygments_lexer": "ipython3",
   "version": "3.9.0"
  }
 },
 "nbformat": 4,
 "nbformat_minor": 2
}
