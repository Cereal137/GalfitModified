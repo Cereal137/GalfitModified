{
 "cells": [
  {
   "cell_type": "markdown",
   "metadata": {},
   "source": [
    "# Collect Result\n",
    "\n",
    "Author: Bingcheng Jin\n",
    "\n",
    "Date: 2024.1.1"
   ]
  },
  {
   "cell_type": "code",
   "execution_count": 12,
   "metadata": {},
   "outputs": [],
   "source": [
    "import os\n",
    "import glob\n",
    "\n",
    "import matplotlib.pyplot as plt\n",
    "import numpy as np\n",
    "\n",
    "from astropy.io import fits\n",
    "from astropy.table import Table, vstack"
   ]
  },
  {
   "cell_type": "code",
   "execution_count": 13,
   "metadata": {},
   "outputs": [],
   "source": [
    "band_labels = ['F115W','F150W','F200W','F277W','F356W','F410M','F444W']\n",
    "nbands = len(band_labels)"
   ]
  },
  {
   "cell_type": "code",
   "execution_count": 15,
   "metadata": {},
   "outputs": [
    {
     "data": {
      "text/plain": [
       "['../io/sample/nircam1/',\n",
       " '../io/sample/nircam2/',\n",
       " '../io/sample/nircam3/',\n",
       " '../io/sample/nircam6/']"
      ]
     },
     "execution_count": 15,
     "metadata": {},
     "output_type": "execute_result"
    }
   ],
   "source": [
    "sample_base = '../io/sample/'\n",
    "img_dir_list = glob.glob(sample_base + '*/')\n",
    "img_dir_list.sort()\n",
    "img_dir_list"
   ]
  },
  {
   "cell_type": "code",
   "execution_count": 7,
   "metadata": {},
   "outputs": [],
   "source": [
    "tab_row = []\n",
    "for sample_base_dir in img_dir_list:\n",
    "    pointing = sample_base_dir.split('/')[-2]\n",
    "    sample_dir_list = glob.glob(sample_base_dir + '*/')\n",
    "    sample_dir_list.sort()\n",
    "    for sample_dir in sample_dir_list:\n",
    "        id = sample_dir.split('/')[-2] # plz consider naming convention\n",
    "        output_path = sample_dir + 'output.fits'\n",
    "        if not os.path.exists(output_path):\n",
    "            print('Output Not Exist in ',sample_dir)\n",
    "            continue\n",
    "        with fits.open(output_path) as hdul:\n",
    "            tab_info = Table(hdul['FIT_INFO'].data)\n",
    "            fit_sec = tab_info['FITSECT'][0].split(' ')[0]\n",
    "            chi2nu = float(tab_info['CHI2NU'].data[0])\n",
    "\n",
    "            tab_band = Table(hdul['FINAL_BAND'].data)\n",
    "            xc = list(tab_band['COMP1_XC'])\n",
    "            xc_e = list(tab_band['COMP1_XC_ERR'])\n",
    "            yc = list(tab_band['COMP1_YC'])\n",
    "            yc_e = list(tab_band['COMP1_YC_ERR'])\n",
    "            mag = list(tab_band['COMP1_MAG'])\n",
    "            mag_e = list(tab_band['COMP1_MAG_ERR'])\n",
    "            re = list(tab_band['COMP1_Re'])\n",
    "            re_e = list(tab_band['COMP1_Re_ERR'])\n",
    "            n = list(tab_band['COMP1_n'])\n",
    "            n_e = list(tab_band['COMP1_n_ERR'])\n",
    "            ar = list(tab_band['COMP1_AR'])\n",
    "            ar_e = list(tab_band['COMP1_AR_ERR'])\n",
    "            pa = list(tab_band['COMP1_PA'])\n",
    "            pa_e = list(tab_band['COMP1_PA_ERR'])\n",
    "\n",
    "        row = [id, pointing, chi2nu, fit_sec, xc, xc_e, yc, yc_e, mag, mag_e, re, re_e, n, n_e, ar, ar_e, pa, pa_e]\n",
    "        tab_row.append(row)\n",
    "tab_result = Table(rows=tab_row, names=['ID','NIRCamPointing', 'CHI2NU', 'FIT_SECTION', 'XC', 'XC_ERR', 'YC', 'YC_ERR', 'MAG', 'MAG_ERR', 'Re', 'Re_ERR', 'n', 'n_ERR', 'AR', 'AR_ERR', 'PA', 'PA_ERR'])"
   ]
  },
  {
   "cell_type": "markdown",
   "metadata": {},
   "source": [
    "## Check Duplication"
   ]
  },
  {
   "cell_type": "code",
   "execution_count": 8,
   "metadata": {},
   "outputs": [
    {
     "name": "stdout",
     "output_type": "stream",
     "text": [
      "No Duplicated IDs\n"
     ]
    }
   ],
   "source": [
    "unq, count = np.unique(tab_result['ID'], return_counts=True)\n",
    "dup = unq[count > 1]\n",
    "if len(dup) == 0:\n",
    "    print('No Duplicated IDs')\n",
    "else:\n",
    "    print('Duplicated rows:')\n",
    "    dup"
   ]
  },
  {
   "cell_type": "markdown",
   "metadata": {},
   "source": [
    "## Compare with auto magnitude from Kron photometry"
   ]
  },
  {
   "cell_type": "code",
   "execution_count": 9,
   "metadata": {},
   "outputs": [],
   "source": [
    "def read_and_convert(csv_path: str):\n",
    "    tab_i = Table.read(csv_path, format='ascii.csv')\n",
    "    if 'comment' in tab_i.colnames:\n",
    "        tab_i['comment'] = tab_i['comment'].astype(str)\n",
    "    return tab_i"
   ]
  },
  {
   "cell_type": "code",
   "execution_count": 10,
   "metadata": {},
   "outputs": [
    {
     "ename": "FileNotFoundError",
     "evalue": "[Errno 2] No such file or directory: './io/prep/nircam1/kronphot.csv'",
     "output_type": "error",
     "traceback": [
      "\u001b[0;31m---------------------------------------------------------------------------\u001b[0m",
      "\u001b[0;31mFileNotFoundError\u001b[0m                         Traceback (most recent call last)",
      "Cell \u001b[0;32mIn[10], line 1\u001b[0m\n\u001b[0;32m----> 1\u001b[0m tab_k1 \u001b[38;5;241m=\u001b[39m \u001b[43mread_and_convert\u001b[49m\u001b[43m(\u001b[49m\u001b[38;5;124;43m'\u001b[39;49m\u001b[38;5;124;43m./io/prep/nircam1/kronphot.csv\u001b[39;49m\u001b[38;5;124;43m'\u001b[39;49m\u001b[43m)\u001b[49m\n\u001b[1;32m      2\u001b[0m tab_k2 \u001b[38;5;241m=\u001b[39m read_and_convert(\u001b[38;5;124m'\u001b[39m\u001b[38;5;124m./io/prep/nircam2/kronphot.csv\u001b[39m\u001b[38;5;124m'\u001b[39m)\n\u001b[1;32m      3\u001b[0m tab_k3 \u001b[38;5;241m=\u001b[39m read_and_convert(\u001b[38;5;124m'\u001b[39m\u001b[38;5;124m./io/prep/nircam3/kronphot.csv\u001b[39m\u001b[38;5;124m'\u001b[39m)\n",
      "Cell \u001b[0;32mIn[9], line 2\u001b[0m, in \u001b[0;36mread_and_convert\u001b[0;34m(csv_path)\u001b[0m\n\u001b[1;32m      1\u001b[0m \u001b[38;5;28;01mdef\u001b[39;00m \u001b[38;5;21mread_and_convert\u001b[39m(csv_path: \u001b[38;5;28mstr\u001b[39m):\n\u001b[0;32m----> 2\u001b[0m     tab_i \u001b[38;5;241m=\u001b[39m \u001b[43mTable\u001b[49m\u001b[38;5;241;43m.\u001b[39;49m\u001b[43mread\u001b[49m\u001b[43m(\u001b[49m\u001b[43mcsv_path\u001b[49m\u001b[43m,\u001b[49m\u001b[43m \u001b[49m\u001b[38;5;28;43mformat\u001b[39;49m\u001b[38;5;241;43m=\u001b[39;49m\u001b[38;5;124;43m'\u001b[39;49m\u001b[38;5;124;43mascii.csv\u001b[39;49m\u001b[38;5;124;43m'\u001b[39;49m\u001b[43m)\u001b[49m\n\u001b[1;32m      3\u001b[0m     \u001b[38;5;28;01mif\u001b[39;00m \u001b[38;5;124m'\u001b[39m\u001b[38;5;124mcomment\u001b[39m\u001b[38;5;124m'\u001b[39m \u001b[38;5;129;01min\u001b[39;00m tab_i\u001b[38;5;241m.\u001b[39mcolnames:\n\u001b[1;32m      4\u001b[0m         tab_i[\u001b[38;5;124m'\u001b[39m\u001b[38;5;124mcomment\u001b[39m\u001b[38;5;124m'\u001b[39m] \u001b[38;5;241m=\u001b[39m tab_i[\u001b[38;5;124m'\u001b[39m\u001b[38;5;124mcomment\u001b[39m\u001b[38;5;124m'\u001b[39m]\u001b[38;5;241m.\u001b[39mastype(\u001b[38;5;28mstr\u001b[39m)\n",
      "File \u001b[0;32m~/opt/anaconda3/envs/galfit3/lib/python3.9/site-packages/astropy/table/connect.py:62\u001b[0m, in \u001b[0;36mTableRead.__call__\u001b[0;34m(self, *args, **kwargs)\u001b[0m\n\u001b[1;32m     59\u001b[0m units \u001b[38;5;241m=\u001b[39m kwargs\u001b[38;5;241m.\u001b[39mpop(\u001b[38;5;124m\"\u001b[39m\u001b[38;5;124munits\u001b[39m\u001b[38;5;124m\"\u001b[39m, \u001b[38;5;28;01mNone\u001b[39;00m)\n\u001b[1;32m     60\u001b[0m descriptions \u001b[38;5;241m=\u001b[39m kwargs\u001b[38;5;241m.\u001b[39mpop(\u001b[38;5;124m\"\u001b[39m\u001b[38;5;124mdescriptions\u001b[39m\u001b[38;5;124m\"\u001b[39m, \u001b[38;5;28;01mNone\u001b[39;00m)\n\u001b[0;32m---> 62\u001b[0m out \u001b[38;5;241m=\u001b[39m \u001b[38;5;28;43mself\u001b[39;49m\u001b[38;5;241;43m.\u001b[39;49m\u001b[43mregistry\u001b[49m\u001b[38;5;241;43m.\u001b[39;49m\u001b[43mread\u001b[49m\u001b[43m(\u001b[49m\u001b[38;5;28;43mcls\u001b[39;49m\u001b[43m,\u001b[49m\u001b[43m \u001b[49m\u001b[38;5;241;43m*\u001b[39;49m\u001b[43margs\u001b[49m\u001b[43m,\u001b[49m\u001b[43m \u001b[49m\u001b[38;5;241;43m*\u001b[39;49m\u001b[38;5;241;43m*\u001b[39;49m\u001b[43mkwargs\u001b[49m\u001b[43m)\u001b[49m\n\u001b[1;32m     64\u001b[0m \u001b[38;5;66;03m# For some readers (e.g., ascii.ecsv), the returned `out` class is not\u001b[39;00m\n\u001b[1;32m     65\u001b[0m \u001b[38;5;66;03m# guaranteed to be the same as the desired output `cls`.  If so,\u001b[39;00m\n\u001b[1;32m     66\u001b[0m \u001b[38;5;66;03m# try coercing to desired class without copying (io.registry.read\u001b[39;00m\n\u001b[1;32m     67\u001b[0m \u001b[38;5;66;03m# would normally do a copy).  The normal case here is swapping\u001b[39;00m\n\u001b[1;32m     68\u001b[0m \u001b[38;5;66;03m# Table <=> QTable.\u001b[39;00m\n\u001b[1;32m     69\u001b[0m \u001b[38;5;28;01mif\u001b[39;00m \u001b[38;5;28mcls\u001b[39m \u001b[38;5;129;01mis\u001b[39;00m \u001b[38;5;129;01mnot\u001b[39;00m out\u001b[38;5;241m.\u001b[39m\u001b[38;5;18m__class__\u001b[39m:\n",
      "File \u001b[0;32m~/opt/anaconda3/envs/galfit3/lib/python3.9/site-packages/astropy/io/registry/core.py:218\u001b[0m, in \u001b[0;36mUnifiedInputRegistry.read\u001b[0;34m(self, cls, format, cache, *args, **kwargs)\u001b[0m\n\u001b[1;32m    213\u001b[0m     \u001b[38;5;28mformat\u001b[39m \u001b[38;5;241m=\u001b[39m \u001b[38;5;28mself\u001b[39m\u001b[38;5;241m.\u001b[39m_get_valid_format(\n\u001b[1;32m    214\u001b[0m         \u001b[38;5;124m\"\u001b[39m\u001b[38;5;124mread\u001b[39m\u001b[38;5;124m\"\u001b[39m, \u001b[38;5;28mcls\u001b[39m, path, fileobj, args, kwargs\n\u001b[1;32m    215\u001b[0m     )\n\u001b[1;32m    217\u001b[0m reader \u001b[38;5;241m=\u001b[39m \u001b[38;5;28mself\u001b[39m\u001b[38;5;241m.\u001b[39mget_reader(\u001b[38;5;28mformat\u001b[39m, \u001b[38;5;28mcls\u001b[39m)\n\u001b[0;32m--> 218\u001b[0m data \u001b[38;5;241m=\u001b[39m \u001b[43mreader\u001b[49m\u001b[43m(\u001b[49m\u001b[38;5;241;43m*\u001b[39;49m\u001b[43margs\u001b[49m\u001b[43m,\u001b[49m\u001b[43m \u001b[49m\u001b[38;5;241;43m*\u001b[39;49m\u001b[38;5;241;43m*\u001b[39;49m\u001b[43mkwargs\u001b[49m\u001b[43m)\u001b[49m\n\u001b[1;32m    220\u001b[0m \u001b[38;5;28;01mif\u001b[39;00m \u001b[38;5;129;01mnot\u001b[39;00m \u001b[38;5;28misinstance\u001b[39m(data, \u001b[38;5;28mcls\u001b[39m):\n\u001b[1;32m    221\u001b[0m     \u001b[38;5;66;03m# User has read with a subclass where only the parent class is\u001b[39;00m\n\u001b[1;32m    222\u001b[0m     \u001b[38;5;66;03m# registered.  This returns the parent class, so try coercing\u001b[39;00m\n\u001b[1;32m    223\u001b[0m     \u001b[38;5;66;03m# to desired subclass.\u001b[39;00m\n\u001b[1;32m    224\u001b[0m     \u001b[38;5;28;01mtry\u001b[39;00m:\n",
      "File \u001b[0;32m~/opt/anaconda3/envs/galfit3/lib/python3.9/site-packages/astropy/io/ascii/connect.py:19\u001b[0m, in \u001b[0;36mio_read\u001b[0;34m(format, filename, **kwargs)\u001b[0m\n\u001b[1;32m     17\u001b[0m     \u001b[38;5;28mformat\u001b[39m \u001b[38;5;241m=\u001b[39m re\u001b[38;5;241m.\u001b[39msub(\u001b[38;5;124mr\u001b[39m\u001b[38;5;124m\"\u001b[39m\u001b[38;5;124m^ascii\u001b[39m\u001b[38;5;124m\\\u001b[39m\u001b[38;5;124m.\u001b[39m\u001b[38;5;124m\"\u001b[39m, \u001b[38;5;124m\"\u001b[39m\u001b[38;5;124m\"\u001b[39m, \u001b[38;5;28mformat\u001b[39m)\n\u001b[1;32m     18\u001b[0m     kwargs[\u001b[38;5;124m\"\u001b[39m\u001b[38;5;124mformat\u001b[39m\u001b[38;5;124m\"\u001b[39m] \u001b[38;5;241m=\u001b[39m \u001b[38;5;28mformat\u001b[39m\n\u001b[0;32m---> 19\u001b[0m \u001b[38;5;28;01mreturn\u001b[39;00m \u001b[43mread\u001b[49m\u001b[43m(\u001b[49m\u001b[43mfilename\u001b[49m\u001b[43m,\u001b[49m\u001b[43m \u001b[49m\u001b[38;5;241;43m*\u001b[39;49m\u001b[38;5;241;43m*\u001b[39;49m\u001b[43mkwargs\u001b[49m\u001b[43m)\u001b[49m\n",
      "File \u001b[0;32m~/opt/anaconda3/envs/galfit3/lib/python3.9/site-packages/astropy/io/ascii/ui.py:393\u001b[0m, in \u001b[0;36mread\u001b[0;34m(table, guess, **kwargs)\u001b[0m\n\u001b[1;32m    391\u001b[0m fast_reader_rdr \u001b[38;5;241m=\u001b[39m get_reader(\u001b[38;5;241m*\u001b[39m\u001b[38;5;241m*\u001b[39mfast_kwargs)\n\u001b[1;32m    392\u001b[0m \u001b[38;5;28;01mtry\u001b[39;00m:\n\u001b[0;32m--> 393\u001b[0m     dat \u001b[38;5;241m=\u001b[39m \u001b[43mfast_reader_rdr\u001b[49m\u001b[38;5;241;43m.\u001b[39;49m\u001b[43mread\u001b[49m\u001b[43m(\u001b[49m\u001b[43mtable\u001b[49m\u001b[43m)\u001b[49m\n\u001b[1;32m    394\u001b[0m     _read_trace\u001b[38;5;241m.\u001b[39mappend(\n\u001b[1;32m    395\u001b[0m         {\n\u001b[1;32m    396\u001b[0m             \u001b[38;5;124m\"\u001b[39m\u001b[38;5;124mkwargs\u001b[39m\u001b[38;5;124m\"\u001b[39m: copy\u001b[38;5;241m.\u001b[39mdeepcopy(fast_kwargs),\n\u001b[0;32m   (...)\u001b[0m\n\u001b[1;32m    399\u001b[0m         }\n\u001b[1;32m    400\u001b[0m     )\n\u001b[1;32m    401\u001b[0m \u001b[38;5;28;01mexcept\u001b[39;00m (\n\u001b[1;32m    402\u001b[0m     core\u001b[38;5;241m.\u001b[39mParameterError,\n\u001b[1;32m    403\u001b[0m     cparser\u001b[38;5;241m.\u001b[39mCParserError,\n\u001b[1;32m    404\u001b[0m     \u001b[38;5;167;01mUnicodeEncodeError\u001b[39;00m,\n\u001b[1;32m    405\u001b[0m ) \u001b[38;5;28;01mas\u001b[39;00m err:\n\u001b[1;32m    406\u001b[0m     \u001b[38;5;66;03m# special testing value to avoid falling back on the slow reader\u001b[39;00m\n",
      "File \u001b[0;32m~/opt/anaconda3/envs/galfit3/lib/python3.9/site-packages/astropy/io/ascii/fastbasic.py:131\u001b[0m, in \u001b[0;36mFastBasic.read\u001b[0;34m(self, table)\u001b[0m\n\u001b[1;32m    128\u001b[0m \u001b[38;5;66;03m# Put fast_reader dict back into kwargs.\u001b[39;00m\n\u001b[1;32m    129\u001b[0m \u001b[38;5;28mself\u001b[39m\u001b[38;5;241m.\u001b[39mkwargs[\u001b[38;5;124m\"\u001b[39m\u001b[38;5;124mfast_reader\u001b[39m\u001b[38;5;124m\"\u001b[39m] \u001b[38;5;241m=\u001b[39m fast_reader\n\u001b[0;32m--> 131\u001b[0m \u001b[38;5;28mself\u001b[39m\u001b[38;5;241m.\u001b[39mengine \u001b[38;5;241m=\u001b[39m \u001b[43mcparser\u001b[49m\u001b[38;5;241;43m.\u001b[39;49m\u001b[43mCParser\u001b[49m\u001b[43m(\u001b[49m\n\u001b[1;32m    132\u001b[0m \u001b[43m    \u001b[49m\u001b[43mtable\u001b[49m\u001b[43m,\u001b[49m\n\u001b[1;32m    133\u001b[0m \u001b[43m    \u001b[49m\u001b[38;5;28;43mself\u001b[39;49m\u001b[38;5;241;43m.\u001b[39;49m\u001b[43mstrip_whitespace_lines\u001b[49m\u001b[43m,\u001b[49m\n\u001b[1;32m    134\u001b[0m \u001b[43m    \u001b[49m\u001b[38;5;28;43mself\u001b[39;49m\u001b[38;5;241;43m.\u001b[39;49m\u001b[43mstrip_whitespace_fields\u001b[49m\u001b[43m,\u001b[49m\n\u001b[1;32m    135\u001b[0m \u001b[43m    \u001b[49m\u001b[43mdelimiter\u001b[49m\u001b[38;5;241;43m=\u001b[39;49m\u001b[38;5;28;43mself\u001b[39;49m\u001b[38;5;241;43m.\u001b[39;49m\u001b[43mdelimiter\u001b[49m\u001b[43m,\u001b[49m\n\u001b[1;32m    136\u001b[0m \u001b[43m    \u001b[49m\u001b[43mheader_start\u001b[49m\u001b[38;5;241;43m=\u001b[39;49m\u001b[38;5;28;43mself\u001b[39;49m\u001b[38;5;241;43m.\u001b[39;49m\u001b[43mheader_start\u001b[49m\u001b[43m,\u001b[49m\n\u001b[1;32m    137\u001b[0m \u001b[43m    \u001b[49m\u001b[43mcomment\u001b[49m\u001b[38;5;241;43m=\u001b[39;49m\u001b[38;5;28;43mself\u001b[39;49m\u001b[38;5;241;43m.\u001b[39;49m\u001b[43mcomment\u001b[49m\u001b[43m,\u001b[49m\n\u001b[1;32m    138\u001b[0m \u001b[43m    \u001b[49m\u001b[43mquotechar\u001b[49m\u001b[38;5;241;43m=\u001b[39;49m\u001b[38;5;28;43mself\u001b[39;49m\u001b[38;5;241;43m.\u001b[39;49m\u001b[43mquotechar\u001b[49m\u001b[43m,\u001b[49m\n\u001b[1;32m    139\u001b[0m \u001b[43m    \u001b[49m\u001b[43mdata_start\u001b[49m\u001b[38;5;241;43m=\u001b[39;49m\u001b[38;5;28;43mself\u001b[39;49m\u001b[38;5;241;43m.\u001b[39;49m\u001b[43mdata_start\u001b[49m\u001b[43m,\u001b[49m\n\u001b[1;32m    140\u001b[0m \u001b[43m    \u001b[49m\u001b[43mfill_extra_cols\u001b[49m\u001b[38;5;241;43m=\u001b[39;49m\u001b[38;5;28;43mself\u001b[39;49m\u001b[38;5;241;43m.\u001b[39;49m\u001b[43mfill_extra_cols\u001b[49m\u001b[43m,\u001b[49m\n\u001b[1;32m    141\u001b[0m \u001b[43m    \u001b[49m\u001b[38;5;241;43m*\u001b[39;49m\u001b[38;5;241;43m*\u001b[39;49m\u001b[38;5;28;43mself\u001b[39;49m\u001b[38;5;241;43m.\u001b[39;49m\u001b[43mkwargs\u001b[49m\u001b[43m,\u001b[49m\n\u001b[1;32m    142\u001b[0m \u001b[43m\u001b[49m\u001b[43m)\u001b[49m\n\u001b[1;32m    143\u001b[0m conversion_info \u001b[38;5;241m=\u001b[39m \u001b[38;5;28mself\u001b[39m\u001b[38;5;241m.\u001b[39m_read_header()\n\u001b[1;32m    144\u001b[0m \u001b[38;5;28mself\u001b[39m\u001b[38;5;241m.\u001b[39mcheck_header()\n",
      "File \u001b[0;32mastropy/io/ascii/cparser.pyx:254\u001b[0m, in \u001b[0;36mastropy.io.ascii.cparser.CParser.__cinit__\u001b[0;34m()\u001b[0m\n",
      "File \u001b[0;32mastropy/io/ascii/cparser.pyx:302\u001b[0m, in \u001b[0;36mastropy.io.ascii.cparser.CParser.setup_tokenizer\u001b[0;34m()\u001b[0m\n",
      "File \u001b[0;32mastropy/io/ascii/cparser.pyx:130\u001b[0m, in \u001b[0;36mastropy.io.ascii.cparser.FileString.__cinit__\u001b[0;34m()\u001b[0m\n",
      "\u001b[0;31mFileNotFoundError\u001b[0m: [Errno 2] No such file or directory: './io/prep/nircam1/kronphot.csv'"
     ]
    }
   ],
   "source": [
    "tab_k1 = read_and_convert('./io/prep/nircam1/kronphot.csv')\n",
    "tab_k2 = read_and_convert('./io/prep/nircam2/kronphot.csv')\n",
    "tab_k3 = read_and_convert('./io/prep/nircam3/kronphot.csv')\n",
    "tab_k6 = read_and_convert('./io/prep/nircam6/kronphot.csv')\n",
    "tabdict = {'nircam1': tab_k1, 'nircam2': tab_k2, 'nircam3': tab_k3, 'nircam6': tab_k6}"
   ]
  },
  {
   "cell_type": "code",
   "execution_count": 8,
   "metadata": {},
   "outputs": [],
   "source": [
    "bandlabel = ['F115W','F150W','F200W','F277W','F356W','F410M','F444W']\n",
    "k_col = []\n",
    "for row in tab_result:\n",
    "    id = row['ID']\n",
    "    pointing = row['NIRCamPointing']\n",
    "    tab_k = tabdict[pointing]\n",
    "    row_k = tab_k[tab_k['ID'] == int(id)][0]\n",
    "    klist = []\n",
    "    for i,bandlabel in enumerate(band_labels):\n",
    "        kflux = row_k[f'KronPhot_{bandlabel}_mag']\n",
    "        klist.append(kflux)\n",
    "    k_col.append(np.float32(klist))\n",
    "tab_result.add_column(k_col, name='KronMag')"
   ]
  },
  {
   "cell_type": "code",
   "execution_count": 11,
   "metadata": {},
   "outputs": [],
   "source": [
    "tab_result.write('./result_egs_linear.ecsv', overwrite=False)"
   ]
  },
  {
   "cell_type": "code",
   "execution_count": 10,
   "metadata": {},
   "outputs": [
    {
     "data": {
      "image/png": "[encoded data removed]",
      "text/plain": [
       "<Figure size 600x600 with 1 Axes>"
      ]
     },
     "metadata": {},
     "output_type": "display_data"
    }
   ],
   "source": [
    "band_num = 5\n",
    "bandlabel = ['F115W','F150W','F200W','F277W','F356W','F410M','F444W']\n",
    "fig, ax = plt.subplots(figsize=(6,6))\n",
    "for row in tab_result:\n",
    "    kflux, gflux = row['KronMag'][band_num], row['MAG'][band_num]\n",
    "    ax.plot(kflux, gflux, 'o', color='red')\n",
    "ax.set_xlim(23, 30)\n",
    "ax.set_ylim(23, 30)\n",
    "ax.plot(plt.xlim(), plt.ylim(), ls=\"--\", c='.3')\n",
    "ax.set_xlabel('Mag_auto')\n",
    "ax.set_ylabel('GalfitM')\n",
    "plt.show()"
   ]
  },
  {
   "cell_type": "markdown",
   "metadata": {},
   "source": [
    "## Collect Multi-Component Result"
   ]
  },
  {
   "cell_type": "code",
   "execution_count": 16,
   "metadata": {},
   "outputs": [],
   "source": [
    "mcomp_dir = '../multicomp/'\n",
    "tab_row = []\n",
    "for sample_base_dir in img_dir_list:\n",
    "    pointing = sample_base_dir.split('/')[-2]\n",
    "    sample_dir_list = glob.glob(sample_base_dir + '*/')\n",
    "    sample_dir_list.sort()\n",
    "    for sample_dir in sample_dir_list:\n",
    "        id = sample_dir.split('/')[-2] # plz consider naming convention\n",
    "        \n",
    "        if os.path.exists(mcomp_dir + id):\n",
    "            output_path = mcomp_dir + id + '/' + f'output_multicomp.fits'\n",
    "            isolate = 0\n",
    "        else:   \n",
    "            output_path = sample_dir + 'output.fits'\n",
    "            isolate = 1\n",
    "            \n",
    "        with fits.open(output_path) as hdul:\n",
    "            tab_info = Table(hdul['FIT_INFO'].data)\n",
    "            fit_sec = tab_info['FITSECT'][0].split(' ')[0]\n",
    "            chi2nu = float(tab_info['CHI2NU'].data[0])\n",
    "\n",
    "            tab_band = Table(hdul['FINAL_BAND'].data)\n",
    "            xc = list(tab_band['COMP1_XC'])\n",
    "            xc_e = list(tab_band['COMP1_XC_ERR'])\n",
    "            yc = list(tab_band['COMP1_YC'])\n",
    "            yc_e = list(tab_band['COMP1_YC_ERR'])\n",
    "            mag = list(tab_band['COMP1_MAG'])\n",
    "            mag_e = list(tab_band['COMP1_MAG_ERR'])\n",
    "            re = list(tab_band['COMP1_Re'])\n",
    "            re_e = list(tab_band['COMP1_Re_ERR'])\n",
    "            n = list(tab_band['COMP1_n'])\n",
    "            n_e = list(tab_band['COMP1_n_ERR'])\n",
    "            ar = list(tab_band['COMP1_AR'])\n",
    "            ar_e = list(tab_band['COMP1_AR_ERR'])\n",
    "            pa = list(tab_band['COMP1_PA'])\n",
    "            pa_e = list(tab_band['COMP1_PA_ERR'])\n",
    "                \n",
    "        row = [id, pointing, chi2nu, fit_sec, xc, xc_e, yc, yc_e, mag, mag_e, re, re_e, n, n_e, ar, ar_e, pa, pa_e, isolate]\n",
    "        tab_row.append(row)\n",
    "tab_result = Table(rows=tab_row, names=['ID','NIRCamPointing', 'CHI2NU', 'FIT_SECTION', 'XC', 'XC_ERR', 'YC', 'YC_ERR', 'MAG', 'MAG_ERR', 'Re', 'Re_ERR', 'n', 'n_ERR', 'AR', 'AR_ERR', 'PA', 'PA_ERR', 'ISOLATE'])"
   ]
  },
  {
   "cell_type": "code",
   "execution_count": 19,
   "metadata": {},
   "outputs": [],
   "source": [
    "tab_result.write('../result/result_egs_linear_multicomp.ecsv', overwrite=True)"
   ]
  },
  {
   "cell_type": "code",
   "execution_count": 17,
   "metadata": {},
   "outputs": [
    {
     "data": {
      "text/html": [
       "<div><i>Table length=255</i>\n",
       "<table id=\"table140457749482800\" class=\"table-striped table-bordered table-condensed\">\n",
       "<thead><tr><th>ID</th><th>NIRCamPointing</th><th>CHI2NU</th><th>FIT_SECTION</th><th>XC</th><th>XC_ERR</th><th>YC</th><th>YC_ERR</th><th>MAG</th><th>MAG_ERR</th><th>Re</th><th>Re_ERR</th><th>n</th><th>n_ERR</th><th>AR</th><th>AR_ERR</th><th>PA</th><th>PA_ERR</th><th>ISOLATE</th></tr></thead>\n",
       "<thead><tr><th>str5</th><th>str7</th><th>float64</th><th>str13</th><th>float32[7]</th><th>float32[7]</th><th>float32[7]</th><th>float32[7]</th><th>float32[7]</th><th>float32[7]</th><th>float32[7]</th><th>float32[7]</th><th>float32[7]</th><th>float32[7]</th><th>float32[7]</th><th>float32[7]</th><th>float32[7]</th><th>float32[7]</th><th>int64</th></tr></thead>\n",
       "<tr><td>21944</td><td>nircam1</td><td>1.0932403802871704</td><td>[1:170,1:170]</td><td>86.379654 .. 86.39143</td><td>0.05537043 .. 0.039350834</td><td>86.71709 .. 86.39278</td><td>0.075808756 .. 0.032558147</td><td>26.153307 .. 23.820753</td><td>0.029714104 .. 0.024264654</td><td>8.047465 .. 0.04783723</td><td>0.15329708 .. 0.0076039373</td><td>4.969424 .. 9.999864</td><td>0.31976345 .. 0.5628628</td><td>0.49579158 .. 0.49579158</td><td>0.006852389 .. 0.006852389</td><td>21.657022 .. 21.657022</td><td>0.7222825 .. 0.7222825</td><td>1</td></tr>\n",
       "<tr><td>21984</td><td>nircam1</td><td>0.9825385212898254</td><td>[1:110,1:110]</td><td>56.3031 .. 56.281147</td><td>0.03917844 .. 0.02934326</td><td>57.28542 .. 57.227913</td><td>0.08756839 .. 0.048027728</td><td>26.396751 .. 25.153725</td><td>0.026532715 .. 0.01158136</td><td>3.47553 .. 4.4762893</td><td>0.068354 .. 0.06412105</td><td>0.59325707 .. 2.4069023</td><td>0.07621419 .. 0.09495122</td><td>0.35886306 .. 0.35886306</td><td>0.0067830696 .. 0.0067830696</td><td>14.582078 .. 14.582078</td><td>0.4879029 .. 0.4879029</td><td>1</td></tr>\n",
       "<tr><td>22209</td><td>nircam1</td><td>1.0561429262161255</td><td>[1:124,1:124]</td><td>62.95325 .. 63.51088</td><td>0.034330253 .. 0.035480548</td><td>63.03482 .. 63.22707</td><td>0.03171938 .. 0.033228897</td><td>24.841326 .. 24.485563</td><td>0.012074506 .. 0.007934561</td><td>5.483427 .. 7.6229978</td><td>0.081224725 .. 0.07197786</td><td>1.0995065 .. 1.2243776</td><td>0.03004235 .. 0.027047368</td><td>0.35495254 .. 0.35495254</td><td>0.0017125348 .. 0.0017125348</td><td>46.460022 .. 46.460022</td><td>0.19202934 .. 0.19202934</td><td>1</td></tr>\n",
       "<tr><td>22211</td><td>nircam1</td><td>1.0955009460449219</td><td>[1:124,1:124]</td><td>62.981472 .. 62.57388</td><td>0.013247755 .. 0.007650526</td><td>64.68795 .. 64.01613</td><td>0.017904896 .. 0.010082719</td><td>24.341331 .. 23.40513</td><td>0.007715808 .. 0.0033937292</td><td>4.3301554 .. 4.8825536</td><td>0.034029003 .. 0.02211005</td><td>1.7265797 .. 1.4872766</td><td>0.024831532 .. 0.01692775</td><td>0.6170259 .. 0.6170259</td><td>0.0015471169 .. 0.0015471169</td><td>-31.21587 .. -31.21587</td><td>0.21927455 .. 0.21927455</td><td>1</td></tr>\n",
       "<tr><td>22267</td><td>nircam1</td><td>1.0284417867660522</td><td>[1:268,1:268]</td><td>133.92168 .. 135.59058</td><td>0.6801519 .. 0.020823225</td><td>137.09424 .. 133.25626</td><td>1.4695069 .. 0.04392387</td><td>26.331942 .. 22.559776</td><td>0.076759405 .. 0.0038620175</td><td>22.354979 .. 14.354978</td><td>0.1370159 .. 0.045966286</td><td>0.1359764 .. 0.9621807</td><td>0.0142802745 .. 0.0064613107</td><td>0.36507797 .. 0.36507797</td><td>0.00055415335 .. 0.00055415335</td><td>-24.729458 .. -24.729458</td><td>0.078012295 .. 0.078012295</td><td>1</td></tr>\n",
       "<tr><td>22572</td><td>nircam1</td><td>1.066408634185791</td><td>[1:202,1:202]</td><td>103.304115 .. 101.95497</td><td>0.048327286 .. 0.014946701</td><td>105.08743 .. 104.61341</td><td>0.027447518 .. 0.008906166</td><td>24.948687 .. 23.253723</td><td>0.012810559 .. 0.0036469812</td><td>6.20371 .. 7.139502</td><td>0.073323004 .. 0.04024313</td><td>1.7965304 .. 1.6347625</td><td>0.030008197 .. 0.01628623</td><td>0.43214986 .. 0.43214986</td><td>0.0013349141 .. 0.0013349141</td><td>-65.437004 .. -65.437004</td><td>0.12805931 .. 0.12805931</td><td>1</td></tr>\n",
       "<tr><td>22780</td><td>nircam1</td><td>0.9907200336456299</td><td>[1:136,1:136]</td><td>70.161896 .. 70.35994</td><td>0.05917276 .. 0.03717539</td><td>69.867584 .. 70.56386</td><td>0.0754907 .. 0.04511286</td><td>25.504835 .. 24.702242</td><td>0.020036979 .. 0.010943347</td><td>7.093071 .. 7.3054276</td><td>0.15149355 .. 0.105241194</td><td>1.2401782 .. 1.440747</td><td>0.04936406 .. 0.04026243</td><td>0.33790362 .. 0.33790362</td><td>0.0030596065 .. 0.0030596065</td><td>-38.21751 .. -38.21751</td><td>0.26400912 .. 0.26400912</td><td>1</td></tr>\n",
       "<tr><td>23225</td><td>nircam1</td><td>0.8468009233474731</td><td>[1:160,1:160]</td><td>81.13881 .. 80.7945</td><td>0.07163214 .. 0.024950828</td><td>81.17108 .. 81.29455</td><td>0.062321264 .. 0.021838568</td><td>24.808453 .. 23.484644</td><td>0.026977608 .. 0.01234059</td><td>15.196567 .. 12.564654</td><td>0.58027506 .. 0.27619803</td><td>3.914311 .. 3.0733917</td><td>0.10521404 .. 0.056900818</td><td>0.8111497 .. 0.8111497</td><td>0.003929865 .. 0.003929865</td><td>-67.45541 .. -67.45541</td><td>0.9294771 .. 0.9294771</td><td>1</td></tr>\n",
       "<tr><td>23708</td><td>nircam1</td><td>1.0087811946868896</td><td>[1:130,1:130]</td><td>68.39798 .. 67.84929</td><td>0.2664735 .. 0.121774636</td><td>66.19556 .. 66.77852</td><td>0.1697593 .. 0.084191725</td><td>26.103437 .. 25.690247</td><td>0.039950695 .. 0.019686654</td><td>7.395026 .. 6.6344748</td><td>0.22100504 .. 0.15273844</td><td>0.8128896 .. 0.8301018</td><td>0.07030779 .. 0.05565947</td><td>0.60599214 .. 0.60599214</td><td>0.008341009 .. 0.008341009</td><td>65.88496 .. 65.88496</td><td>1.0681102 .. 1.0681102</td><td>1</td></tr>\n",
       "<tr><td>24428</td><td>nircam1</td><td>0.9698724746704102</td><td>[1:78,1:78]</td><td>39.493767 .. 39.690006</td><td>0.04830516 .. 0.053444132</td><td>40.863796 .. 41.551746</td><td>0.074362874 .. 0.07455327</td><td>26.400352 .. 26.080273</td><td>0.029534886 .. 0.0147470385</td><td>3.3351846 .. 3.7665858</td><td>0.055583566 .. 0.05135153</td><td>0.10650498 .. 0.52196807</td><td>0.047517885 .. 0.05516868</td><td>0.51011544 .. 0.51011544</td><td>0.006635588 .. 0.006635588</td><td>-7.1705375 .. -7.1705375</td><td>0.8977268 .. 0.8977268</td><td>1</td></tr>\n",
       "<tr><td>...</td><td>...</td><td>...</td><td>...</td><td>...</td><td>...</td><td>...</td><td>...</td><td>...</td><td>...</td><td>...</td><td>...</td><td>...</td><td>...</td><td>...</td><td>...</td><td>...</td><td>...</td><td>...</td></tr>\n",
       "<tr><td>37238</td><td>nircam6</td><td>0.970213770866394</td><td>[1:86,1:86]</td><td>44.3092 .. 44.451675</td><td>0.037464913 .. 0.08730844</td><td>44.783356 .. 45.06833</td><td>0.040482637 .. 0.071155325</td><td>26.78738 .. 25.616621</td><td>0.027978454 .. 0.017092012</td><td>1.9107572 .. 0.37153345</td><td>0.0773423 .. 0.05701845</td><td>1.7441391 .. 9.744139</td><td>0.366114 .. 1.2896744</td><td>0.35075116 .. 0.35075116</td><td>0.022985 .. 0.022985</td><td>26.947256 .. 26.947256</td><td>1.3292965 .. 1.3292965</td><td>1</td></tr>\n",
       "<tr><td>37328</td><td>nircam6</td><td>0.9534503221511841</td><td>[1:74,1:74]</td><td>37.66679 .. 37.628735</td><td>0.060881563 .. 0.062309787</td><td>38.700764 .. 38.833214</td><td>0.071668275 .. 0.07498823</td><td>27.076069 .. 26.110094</td><td>0.03605922 .. 0.020766972</td><td>2.7643871 .. 3.6058297</td><td>0.12826811 .. 0.09653986</td><td>1.4186834 .. 1.2333734</td><td>0.20977108 .. 0.1711547</td><td>0.34801036 .. 0.34801036</td><td>0.012888156 .. 0.012888156</td><td>38.18247 .. 38.18247</td><td>0.9188213 .. 0.9188213</td><td>1</td></tr>\n",
       "<tr><td>37424</td><td>nircam6</td><td>1.017522931098938</td><td>[1:120,1:120]</td><td>60.561237 .. 61.29331</td><td>0.16931011 .. 0.23974964</td><td>60.07278 .. 60.97205</td><td>0.207366 .. 0.28484198</td><td>27.06277 .. 26.518871</td><td>0.039044775 .. 0.032021854</td><td>5.693647 .. 9.136419</td><td>0.24964058 .. 0.28720823</td><td>0.3317967 .. 0.9448678</td><td>0.09249917 .. 0.09929218</td><td>0.30725792 .. 0.30725792</td><td>0.0077772927 .. 0.0077772927</td><td>-38.67131 .. -38.67131</td><td>0.7187325 .. 0.7187325</td><td>1</td></tr>\n",
       "<tr><td>37605</td><td>nircam6</td><td>1.0438488721847534</td><td>[1:154,1:154]</td><td>79.965775 .. 80.11811</td><td>0.1758283 .. 0.11344938</td><td>73.79046 .. 75.9414</td><td>0.2888783 .. 0.18533668</td><td>26.836277 .. 25.887768</td><td>0.043654684 .. 0.021702932</td><td>6.1964717 .. 7.1205087</td><td>0.13330954 .. 0.11112028</td><td>0.11613106 .. 0.21730368</td><td>0.047122307 .. 0.03750883</td><td>0.6630579 .. 0.6630579</td><td>0.010424601 .. 0.010424601</td><td>25.961863 .. 25.961863</td><td>1.9849269 .. 1.9849269</td><td>1</td></tr>\n",
       "<tr><td>37876</td><td>nircam6</td><td>0.9594582915306091</td><td>[1:64,1:64]</td><td>33.52976 .. 33.298134</td><td>0.05541208 .. 0.17261127</td><td>34.690346 .. 33.365005</td><td>0.06683296 .. 0.20835516</td><td>26.980526 .. 27.355953</td><td>0.028230682 .. 0.042544205</td><td>2.0264401 .. 2.7311993</td><td>0.088592604 .. 0.10989159</td><td>1.339008 .. 0.18844007</td><td>0.2118485 .. 0.23144236</td><td>0.54191256 .. 0.54191256</td><td>0.015390225 .. 0.015390225</td><td>-0.56040895 .. -0.56040895</td><td>1.8791226 .. 1.8791226</td><td>1</td></tr>\n",
       "<tr><td>37943</td><td>nircam6</td><td>0.9473766684532166</td><td>[1:64,1:64]</td><td>33.587547 .. 33.931797</td><td>0.06684363 .. 0.19295652</td><td>34.729008 .. 34.301826</td><td>0.08975935 .. 0.24921697</td><td>26.887197 .. 27.602304</td><td>0.03530802 .. 0.06109618</td><td>3.1187718 .. 2.7718058</td><td>0.13661943 .. 0.17082809</td><td>0.9777772 .. 0.3470882</td><td>0.14818537 .. 0.26678684</td><td>0.52793133 .. 0.52793133</td><td>0.01959527 .. 0.01959527</td><td>29.537674 .. 29.537674</td><td>2.2267032 .. 2.2267032</td><td>1</td></tr>\n",
       "<tr><td>38038</td><td>nircam6</td><td>1.046093463897705</td><td>[1:160,1:160]</td><td>79.27875 .. 81.91661</td><td>1.0851837 .. 1.0885981</td><td>83.23215 .. 74.429665</td><td>1.95795 .. 2.119258</td><td>26.21734 .. 26.793589</td><td>0.08775712 .. 0.08956067</td><td>28.543633 .. 20.543633</td><td>1.0612088 .. 0.9621536</td><td>0.16843723 .. 0.8728381</td><td>0.08056144 .. 0.14803049</td><td>0.25441465 .. 0.25441465</td><td>0.009450919 .. 0.009450919</td><td>25.769728 .. 25.769728</td><td>0.68936586 .. 0.68936586</td><td>1</td></tr>\n",
       "<tr><td>38062</td><td>nircam6</td><td>1.007075309753418</td><td>[1:96,1:96]</td><td>49.61092 .. 49.42797</td><td>0.04154063 .. 0.063857414</td><td>49.525112 .. 49.35019</td><td>0.04083321 .. 0.07745156</td><td>26.569088 .. 26.119995</td><td>0.039554328 .. 0.025032986</td><td>1.1118084 .. 3.2355633</td><td>0.12150922 .. 0.11290653</td><td>4.9417453 .. 1.5028195</td><td>0.7798763 .. 0.2878413</td><td>0.67616665 .. 0.67616665</td><td>0.023737285 .. 0.023737285</td><td>-20.051743 .. -20.051743</td><td>3.020235 .. 3.020235</td><td>1</td></tr>\n",
       "<tr><td>38164</td><td>nircam6</td><td>0.9807920455932617</td><td>[1:60,1:60]</td><td>31.199451 .. 31.13853</td><td>0.033585746 .. 0.098423</td><td>31.513817 .. 31.87526</td><td>0.03333125 .. 0.10522094</td><td>26.83898 .. 26.81452</td><td>0.029827992 .. 0.034885865</td><td>1.486888 .. 0.81400895</td><td>0.09785169 .. 0.12922052</td><td>2.466845 .. 6.791744</td><td>0.5974168 .. 2.1329246</td><td>0.45455226 .. 0.45455226</td><td>0.040825825 .. 0.040825825</td><td>50.821922 .. 50.821922</td><td>2.9265633 .. 2.9265633</td><td>1</td></tr>\n",
       "<tr><td>38181</td><td>nircam6</td><td>1.028039574623108</td><td>[1:100,1:100]</td><td>51.49005 .. 51.179348</td><td>0.17837319 .. 0.18649273</td><td>51.781082 .. 51.916092</td><td>0.09674734 .. 0.11001696</td><td>27.161188 .. 26.588932</td><td>0.049263116 .. 0.037307855</td><td>4.2118764 .. 4.5762715</td><td>0.18745215 .. 0.1739183</td><td>0.6058168 .. 0.7408027</td><td>0.12230869 .. 0.1383768</td><td>0.44139537 .. 0.44139537</td><td>0.013033994 .. 0.013033994</td><td>-69.30284 .. -69.30284</td><td>1.4020644 .. 1.4020644</td><td>1</td></tr>\n",
       "</table></div>"
      ],
      "text/plain": [
       "<Table length=255>\n",
       "  ID  NIRCamPointing       CHI2NU       ...           PA_ERR           ISOLATE\n",
       " str5      str7           float64       ...         float32[7]          int64 \n",
       "----- -------------- ------------------ ... -------------------------- -------\n",
       "21944        nircam1 1.0932403802871704 ...     0.7222825 .. 0.7222825       1\n",
       "21984        nircam1 0.9825385212898254 ...     0.4879029 .. 0.4879029       1\n",
       "22209        nircam1 1.0561429262161255 ...   0.19202934 .. 0.19202934       1\n",
       "22211        nircam1 1.0955009460449219 ...   0.21927455 .. 0.21927455       1\n",
       "22267        nircam1 1.0284417867660522 ... 0.078012295 .. 0.078012295       1\n",
       "22572        nircam1  1.066408634185791 ...   0.12805931 .. 0.12805931       1\n",
       "22780        nircam1 0.9907200336456299 ...   0.26400912 .. 0.26400912       1\n",
       "23225        nircam1 0.8468009233474731 ...     0.9294771 .. 0.9294771       1\n",
       "23708        nircam1 1.0087811946868896 ...     1.0681102 .. 1.0681102       1\n",
       "24428        nircam1 0.9698724746704102 ...     0.8977268 .. 0.8977268       1\n",
       "  ...            ...                ... ...                        ...     ...\n",
       "37238        nircam6  0.970213770866394 ...     1.3292965 .. 1.3292965       1\n",
       "37328        nircam6 0.9534503221511841 ...     0.9188213 .. 0.9188213       1\n",
       "37424        nircam6  1.017522931098938 ...     0.7187325 .. 0.7187325       1\n",
       "37605        nircam6 1.0438488721847534 ...     1.9849269 .. 1.9849269       1\n",
       "37876        nircam6 0.9594582915306091 ...     1.8791226 .. 1.8791226       1\n",
       "37943        nircam6 0.9473766684532166 ...     2.2267032 .. 2.2267032       1\n",
       "38038        nircam6  1.046093463897705 ...   0.68936586 .. 0.68936586       1\n",
       "38062        nircam6  1.007075309753418 ...       3.020235 .. 3.020235       1\n",
       "38164        nircam6 0.9807920455932617 ...     2.9265633 .. 2.9265633       1\n",
       "38181        nircam6  1.028039574623108 ...     1.4020644 .. 1.4020644       1"
      ]
     },
     "execution_count": 17,
     "metadata": {},
     "output_type": "execute_result"
    }
   ],
   "source": [
    "tab_result[tab_result['ISOLATE'] == 1]"
   ]
  }
 ],
 "metadata": {
  "kernelspec": {
   "display_name": "galfit3",
   "language": "python",
   "name": "python3"
  },
  "language_info": {
   "codemirror_mode": {
    "name": "ipython",
    "version": 3
   },
   "file_extension": ".py",
   "mimetype": "text/x-python",
   "name": "python",
   "nbconvert_exporter": "python",
   "pygments_lexer": "ipython3",
   "version": "3.9.0"
  }
 },
 "nbformat": 4,
 "nbformat_minor": 2
}
