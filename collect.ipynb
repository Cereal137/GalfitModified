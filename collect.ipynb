{
 "cells": [
  {
   "cell_type": "markdown",
   "metadata": {},
   "source": [
    "# Collect Result\n",
    "\n",
    "Author: Bingcheng Jin\n",
    "\n",
    "Date: 2024.1.1"
   ]
  },
  {
   "cell_type": "code",
   "execution_count": 32,
   "metadata": {},
   "outputs": [],
   "source": [
    "import os\n",
    "import glob\n",
    "import re as rre\n",
    "\n",
    "import matplotlib.pyplot as plt\n",
    "import numpy as np\n",
    "\n",
    "from astropy.io import fits\n",
    "from astropy.table import Table, QTable, vstack"
   ]
  },
  {
   "cell_type": "code",
   "execution_count": 1,
   "metadata": {},
   "outputs": [],
   "source": [
    "band_labels = ['F115W','F150W','F200W','F277W','F356W','F410M','F444W']\n",
    "band_wavelengths = [115,150,200,277,356,410,444]\n",
    "nbands = len(band_labels)"
   ]
  },
  {
   "cell_type": "code",
   "execution_count": 3,
   "metadata": {},
   "outputs": [
    {
     "data": {
      "text/plain": [
       "['./io/sample/nircam1/',\n",
       " './io/sample/nircam2/',\n",
       " './io/sample/nircam3/',\n",
       " './io/sample/nircam6/']"
      ]
     },
     "execution_count": 3,
     "metadata": {},
     "output_type": "execute_result"
    }
   ],
   "source": [
    "sample_base = './io/sample/'\n",
    "img_dir_list = glob.glob(sample_base + '*/')\n",
    "img_dir_list.sort()\n",
    "img_dir_list"
   ]
  },
  {
   "cell_type": "code",
   "execution_count": 45,
   "metadata": {},
   "outputs": [
    {
     "name": "stdout",
     "output_type": "stream",
     "text": [
      "Output Not Exist in  ./io/sample/nircam2/EGS-20781/\n",
      "Output Not Exist in  ./io/sample/nircam2/EGS-20833/\n",
      "Output Not Exist in  ./io/sample/nircam2/EGS-20851/\n",
      "Output Not Exist in  ./io/sample/nircam2/EGS-21456/\n",
      "Output Not Exist in  ./io/sample/nircam2/EGS-21489/\n",
      "Output Not Exist in  ./io/sample/nircam2/EGS-21642/\n",
      "Output Not Exist in  ./io/sample/nircam2/EGS-21721/\n",
      "Output Not Exist in  ./io/sample/nircam2/EGS-22202/\n",
      "Output Not Exist in  ./io/sample/nircam2/EGS-22207/\n",
      "Output Not Exist in  ./io/sample/nircam2/EGS-22444/\n",
      "Output Not Exist in  ./io/sample/nircam2/EGS-22451/\n",
      "Output Not Exist in  ./io/sample/nircam2/EGS-22686/\n",
      "Output Not Exist in  ./io/sample/nircam2/EGS-23182/\n",
      "Output Not Exist in  ./io/sample/nircam2/EGS-23361/\n",
      "Output Not Exist in  ./io/sample/nircam2/EGS-24975/\n",
      "Output Not Exist in  ./io/sample/nircam2/EGS-25096/\n",
      "Output Not Exist in  ./io/sample/nircam2/EGS-25211/\n",
      "Output Not Exist in  ./io/sample/nircam2/EGS-25305/\n",
      "Output Not Exist in  ./io/sample/nircam2/EGS-25391/\n",
      "Output Not Exist in  ./io/sample/nircam2/EGS-25393/\n",
      "Output Not Exist in  ./io/sample/nircam2/EGS-25501/\n",
      "Output Not Exist in  ./io/sample/nircam2/EGS-25528/\n",
      "Output Not Exist in  ./io/sample/nircam2/EGS-25560/\n",
      "Output Not Exist in  ./io/sample/nircam2/EGS-25590/\n",
      "Output Not Exist in  ./io/sample/nircam2/EGS-25591/\n",
      "Output Not Exist in  ./io/sample/nircam2/EGS-25666/\n",
      "Output Not Exist in  ./io/sample/nircam2/EGS-25678/\n",
      "Output Not Exist in  ./io/sample/nircam2/EGS-25702/\n",
      "Output Not Exist in  ./io/sample/nircam2/EGS-25739/\n",
      "Output Not Exist in  ./io/sample/nircam2/EGS-25761/\n",
      "Output Not Exist in  ./io/sample/nircam2/EGS-26071/\n",
      "Output Not Exist in  ./io/sample/nircam2/EGS-26077/\n",
      "Output Not Exist in  ./io/sample/nircam2/EGS-26124/\n",
      "Output Not Exist in  ./io/sample/nircam2/EGS-26183/\n",
      "Output Not Exist in  ./io/sample/nircam2/EGS-26449/\n",
      "Output Not Exist in  ./io/sample/nircam2/EGS-26880/\n",
      "Output Not Exist in  ./io/sample/nircam2/EGS-27259/\n",
      "Output Not Exist in  ./io/sample/nircam2/EGS-27469/\n",
      "Output Not Exist in  ./io/sample/nircam2/EGS-27473/\n",
      "Output Not Exist in  ./io/sample/nircam2/EGS-27880/\n",
      "Output Not Exist in  ./io/sample/nircam2/EGS-28110/\n",
      "Output Not Exist in  ./io/sample/nircam2/EGS-28280/\n",
      "Output Not Exist in  ./io/sample/nircam2/EGS-28403/\n",
      "Output Not Exist in  ./io/sample/nircam2/EGS-28871/\n",
      "Output Not Exist in  ./io/sample/nircam2/EGS-28969/\n",
      "Output Not Exist in  ./io/sample/nircam2/EGS-29057/\n",
      "Output Not Exist in  ./io/sample/nircam2/EGS-29116/\n",
      "Output Not Exist in  ./io/sample/nircam2/EGS-29177/\n",
      "Output Not Exist in  ./io/sample/nircam2/EGS-29206/\n",
      "Output Not Exist in  ./io/sample/nircam2/EGS-29801/\n",
      "Output Not Exist in  ./io/sample/nircam2/EGS-29823/\n",
      "Output Not Exist in  ./io/sample/nircam2/EGS-29936/\n",
      "Output Not Exist in  ./io/sample/nircam2/EGS-30089/\n",
      "Output Not Exist in  ./io/sample/nircam2/EGS-30225/\n",
      "Output Not Exist in  ./io/sample/nircam2/EGS-30500/\n",
      "Output Not Exist in  ./io/sample/nircam2/EGS-30542/\n",
      "Output Not Exist in  ./io/sample/nircam2/EGS-30603/\n",
      "Output Not Exist in  ./io/sample/nircam2/EGS-30663/\n",
      "Output Not Exist in  ./io/sample/nircam2/EGS-30686/\n",
      "Output Not Exist in  ./io/sample/nircam2/EGS-30722/\n",
      "Output Not Exist in  ./io/sample/nircam2/EGS-31021/\n",
      "Output Not Exist in  ./io/sample/nircam2/EGS-31049/\n",
      "Output Not Exist in  ./io/sample/nircam2/EGS-31144/\n",
      "Output Not Exist in  ./io/sample/nircam2/EGS-31194/\n",
      "Output Not Exist in  ./io/sample/nircam2/EGS-31769/\n",
      "Output Not Exist in  ./io/sample/nircam2/EGS-38178/\n",
      "Output Not Exist in  ./io/sample/nircam2/EGS-38192/\n",
      "Output Not Exist in  ./io/sample/nircam2/EGS-38242/\n",
      "Output Not Exist in  ./io/sample/nircam2/EGS-38352/\n",
      "Output Not Exist in  ./io/sample/nircam2/EGS-38554/\n",
      "Output Not Exist in  ./io/sample/nircam2/EGS-38928/\n",
      "Output Not Exist in  ./io/sample/nircam2/EGS-38989/\n",
      "Output Not Exist in  ./io/sample/nircam2/EGS-39049/\n",
      "Output Not Exist in  ./io/sample/nircam2/EGS-39062/\n",
      "Output Not Exist in  ./io/sample/nircam2/EGS-39101/\n",
      "Output Not Exist in  ./io/sample/nircam2/EGS-39288/\n",
      "Output Not Exist in  ./io/sample/nircam2/EGS-39314/\n",
      "Output Not Exist in  ./io/sample/nircam2/EGS-39546/\n",
      "Output Not Exist in  ./io/sample/nircam2/EGS-39579/\n",
      "Output Not Exist in  ./io/sample/nircam2/EGS-39637/\n",
      "Output Not Exist in  ./io/sample/nircam2/EGS-39719/\n",
      "Output Not Exist in  ./io/sample/nircam2/EGS-39810/\n",
      "Output Not Exist in  ./io/sample/nircam2/EGS-39811/\n",
      "Output Not Exist in  ./io/sample/nircam2/EGS-39812/\n",
      "Output Not Exist in  ./io/sample/nircam2/EGS-39997/\n",
      "Output Not Exist in  ./io/sample/nircam2/EGS-40185/\n",
      "Output Not Exist in  ./io/sample/nircam2/EGS-40467/\n",
      "Output Not Exist in  ./io/sample/nircam2/EGS-40530/\n",
      "Output Not Exist in  ./io/sample/nircam2/EGS-40643/\n",
      "Output Not Exist in  ./io/sample/nircam2/EGS-40774/\n",
      "Output Not Exist in  ./io/sample/nircam2/EGS-40775/\n",
      "Output Not Exist in  ./io/sample/nircam2/EGS-40838/\n",
      "Output Not Exist in  ./io/sample/nircam2/EGS-40881/\n",
      "Output Not Exist in  ./io/sample/nircam2/EGS-40968/\n",
      "Output Not Exist in  ./io/sample/nircam2/EGS-41017/\n",
      "Output Not Exist in  ./io/sample/nircam2/EGS-41235/\n",
      "Output Not Exist in  ./io/sample/nircam2/EGS-41237/\n",
      "Output Not Exist in  ./io/sample/nircam2/EGS-41444/\n"
     ]
    },
    {
     "name": "stderr",
     "output_type": "stream",
     "text": [
      "/var/folders/9r/d810_63d7yx101gkrv_41ygm0000gn/T/ipykernel_29844/2678469420.py:13: DeprecationWarning: Conversion of an array with ndim > 0 to a scalar is deprecated, and will error in future. Ensure you extract a single element from your array before performing this operation. (Deprecated NumPy 1.25.)\n",
      "  chi2nu = float(tab_info['CHI2NU'])\n"
     ]
    }
   ],
   "source": [
    "tab_row = []\n",
    "for sample_base_dir in img_dir_list:\n",
    "    sample_dir_list = glob.glob(sample_base_dir + 'EGS-*/')\n",
    "    sample_dir_list.sort()\n",
    "    for sample_dir in sample_dir_list:\n",
    "        egs_id = int(rre.match(r'.*EGS-(\\d+)/', sample_dir).group(1))\n",
    "        output_path = sample_dir + 'output.fits'\n",
    "        if not os.path.exists(output_path):\n",
    "            print('Output Not Exist in ',sample_dir)\n",
    "            continue\n",
    "        with fits.open(output_path) as hdul:\n",
    "            tab_info = Table(hdul[3*nbands + 1].data)\n",
    "            chi2nu = float(tab_info['CHI2NU'])\n",
    "            tab_band = Table(hdul[3*nbands + 3].data)\n",
    "            xc = list(tab_band['COMP1_XC'])\n",
    "            xc_e = list(tab_band['COMP1_XC_ERR'])\n",
    "            yc = list(tab_band['COMP1_YC'])\n",
    "            yc_e = list(tab_band['COMP1_YC_ERR'])\n",
    "            mag = list(tab_band['COMP1_MAG'])\n",
    "            mag_e = list(tab_band['COMP1_MAG_ERR'])\n",
    "            re = list(tab_band['COMP1_Re'])\n",
    "            re_e = list(tab_band['COMP1_Re_ERR'])\n",
    "            n = list(tab_band['COMP1_n'])\n",
    "            n_e = list(tab_band['COMP1_n_ERR'])\n",
    "            ar = list(tab_band['COMP1_AR'])\n",
    "            ar_e = list(tab_band['COMP1_AR_ERR'])\n",
    "            pa = list(tab_band['COMP1_PA'])\n",
    "            pa_e = list(tab_band['COMP1_PA_ERR'])\n",
    "        row = [egs_id, chi2nu, xc, xc_e, yc, yc_e, mag, mag_e, re, re_e, n, n_e, ar, ar_e, pa, pa_e]\n",
    "        tab_row.append(row)\n",
    "tab_result = Table(rows=tab_row, names=['EGS-ID', 'CHI2NU', 'XC','XC_ERR','YC','YC_ERR','MAG','MAG_ERR','Re','Re_ERR','n','n_ERR','AR','AR_ERR','PA','PA_ERR'])"
   ]
  },
  {
   "cell_type": "code",
   "execution_count": 47,
   "metadata": {},
   "outputs": [
    {
     "data": {
      "text/html": [
       "<div><i>Table length=184</i>\n",
       "<table id=\"table140589462861424\" class=\"table-striped table-bordered table-condensed\">\n",
       "<thead><tr><th>EGS-ID</th><th>CHI2NU</th><th>XC</th><th>XC_ERR</th><th>YC</th><th>YC_ERR</th><th>MAG</th><th>MAG_ERR</th><th>Re</th><th>Re_ERR</th><th>n</th><th>n_ERR</th><th>AR</th><th>AR_ERR</th><th>PA</th><th>PA_ERR</th></tr></thead>\n",
       "<thead><tr><th>int64</th><th>float64</th><th>float32[7]</th><th>float32[7]</th><th>float32[7]</th><th>float32[7]</th><th>float32[7]</th><th>float32[7]</th><th>float32[7]</th><th>float32[7]</th><th>float32[7]</th><th>float32[7]</th><th>float32[7]</th><th>float32[7]</th><th>float32[7]</th><th>float32[7]</th></tr></thead>\n",
       "<tr><td>21751</td><td>1.0475132465362549</td><td>95.63033 .. 95.563644</td><td>0.027518123 .. 0.009715608</td><td>95.62404 .. 96.10174</td><td>0.015731849 .. 0.006952756</td><td>24.094948 .. 23.223505</td><td>0.00961654 .. 0.0029091178</td><td>5.7747884 .. 3.999224</td><td>0.07443243 .. 0.019264564</td><td>1.3204647 .. 1.4211712</td><td>0.025340267 .. 0.017658345</td><td>0.49980813 .. 0.49980813</td><td>0.0010164774 .. 0.0010164774</td><td>-84.26822 .. -84.26822</td><td>0.12473381 .. 0.12473381</td></tr>\n",
       "<tr><td>21084</td><td>1.0592365264892578</td><td>45.65192 .. 45.65192</td><td>0.025240844 .. 0.025240844</td><td>45.92945 .. 45.92945</td><td>0.03611382 .. 0.03611382</td><td>26.251902 .. 25.532701</td><td>0.02041596 .. 0.018506132</td><td>5.1149964 .. 5.4878693</td><td>0.10260177 .. 0.1556557</td><td>0.23616762 .. 0.2799623</td><td>0.03974009 .. 0.07236015</td><td>0.28924885 .. 0.28924885</td><td>0.005032294 .. 0.005032294</td><td>-5.56513 .. -5.56513</td><td>0.480449 .. 0.480449</td></tr>\n",
       "<tr><td>21415</td><td>0.9588196873664856</td><td>46.00782 .. 46.00782</td><td>0.026856737 .. 0.026856737</td><td>46.026768 .. 46.026768</td><td>0.022412768 .. 0.022412768</td><td>26.799215 .. 26.402967</td><td>0.15520982 .. 0.041238375</td><td>4.3817997 .. 2.190128</td><td>0.79906356 .. 0.253828</td><td>0.81046885 .. 1.9192624</td><td>0.61820567 .. 0.85453326</td><td>0.48563603 .. 0.48563603</td><td>0.01655624 .. 0.01655624</td><td>87.1877 .. 87.1877</td><td>1.2862284 .. 1.2862284</td></tr>\n",
       "<tr><td>21815</td><td>1.1389575004577637</td><td>116.78239 .. 116.78239</td><td>0.012825174 .. 0.012825174</td><td>114.74122 .. 114.74122</td><td>0.013989103 .. 0.013989103</td><td>23.774513 .. 23.491821</td><td>0.010127702 .. 0.0059255892</td><td>10.635324 .. 9.57462</td><td>0.13442455 .. 0.0763163</td><td>1.2775991 .. 1.3681781</td><td>0.019571166 .. 0.016583133</td><td>0.8431668 .. 0.8431668</td><td>0.0020163732 .. 0.0020163732</td><td>15.306445 .. 15.306445</td><td>0.7475419 .. 0.7475419</td></tr>\n",
       "<tr><td>21833</td><td>1.0038905143737793</td><td>46.113846 .. 46.113846</td><td>0.021854755 .. 0.021854755</td><td>47.180683 .. 47.180683</td><td>0.054315817 .. 0.054315817</td><td>25.09751 .. 25.788853</td><td>5662.1504 .. 72.17883</td><td>4.256517 .. 6.8727684</td><td>24639.002 .. 262.9649</td><td>2.4958956 .. 0.3147188</td><td>9678.097 .. 107.38989</td><td>0.18540788 .. 0.18540788</td><td>0.006336973 .. 0.006336973</td><td>18.486284 .. 18.486284</td><td>0.33718443 .. 0.33718443</td></tr>\n",
       "<tr><td>22084</td><td>1.005349040031433</td><td>48.856277 .. 48.856277</td><td>0.05085126 .. 0.05085126</td><td>48.238945 .. 48.238945</td><td>0.02177221 .. 0.02177221</td><td>26.443027 .. 25.719967</td><td>0.020751463 .. 0.012122326</td><td>6.504202 .. 7.725799</td><td>0.12932175 .. 0.13085732</td><td>0.2963442 .. 0.1126657</td><td>0.048351653 .. 0.055981793</td><td>0.32300177 .. 0.32300177</td><td>0.003375338 .. 0.003375338</td><td>-74.14814 .. -74.14814</td><td>0.35041508 .. 0.35041508</td></tr>\n",
       "<tr><td>22352</td><td>1.030713438987732</td><td>62.917324 .. 62.917324</td><td>0.020891204 .. 0.020891204</td><td>63.727665 .. 63.727665</td><td>0.036743525 .. 0.036743525</td><td>26.153917 .. 25.16226</td><td>0.044703025 .. 0.025084777</td><td>8.856948 .. 9.658791</td><td>0.4829594 .. 0.4541493</td><td>0.9815453 .. 2.6069553</td><td>0.08619816 .. 0.14027217</td><td>0.3013081 .. 0.3013081</td><td>0.0036346707 .. 0.0036346707</td><td>-3.2448637 .. -3.2448637</td><td>0.3578872 .. 0.3578872</td></tr>\n",
       "<tr><td>22569</td><td>1.761459231376648</td><td>46.848125 .. 46.848125</td><td>0.00800622 .. 0.00800622</td><td>46.34066 .. 46.34066</td><td>0.009065338 .. 0.009065338</td><td>24.115572 .. 24.608923</td><td>0.4945493 .. 0.022645827</td><td>0.032942146 .. 0.5533233</td><td>0.053735226 .. 0.07681967</td><td>6.164097 .. 4.3660536</td><td>7.0073256 .. 1.3682307</td><td>0.5145847 .. 0.5145847</td><td>0.010216771 .. 0.010216771</td><td>69.19929 .. 69.19929</td><td>0.8228386 .. 0.8228386</td></tr>\n",
       "<tr><td>23029</td><td>1.150963306427002</td><td>45.998783 .. 45.998783</td><td>0.019413216 .. 0.019413216</td><td>45.461987 .. 45.461987</td><td>0.021723233 .. 0.021723233</td><td>25.988277 .. 25.179548</td><td>0.049716096 .. 0.015890406</td><td>6.5452223 .. 6.144171</td><td>0.30426344 .. 0.094384745</td><td>0.5568478 .. 0.23931332</td><td>0.063353926 .. 0.02924137</td><td>0.62858826 .. 0.62858826</td><td>0.004084868 .. 0.004084868</td><td>-22.517572 .. -22.517572</td><td>0.69538814 .. 0.69538814</td></tr>\n",
       "<tr><td>23071</td><td>1.0185116529464722</td><td>69.64852 .. 69.64852</td><td>0.013468473 .. 0.013468473</td><td>69.61395 .. 69.61395</td><td>0.0081238635 .. 0.0081238635</td><td>25.433174 .. 24.345758</td><td>0.009793413 .. 0.00428003</td><td>4.36483 .. 4.6177526</td><td>0.041827034 .. 0.030975873</td><td>0.27890483 .. 0.6248765</td><td>0.025509566 .. 0.029366786</td><td>0.5664186 .. 0.5664186</td><td>0.0026916808 .. 0.0026916808</td><td>-82.69751 .. -82.69751</td><td>0.32583597 .. 0.32583597</td></tr>\n",
       "<tr><td>...</td><td>...</td><td>...</td><td>...</td><td>...</td><td>...</td><td>...</td><td>...</td><td>...</td><td>...</td><td>...</td><td>...</td><td>...</td><td>...</td><td>...</td><td>...</td></tr>\n",
       "<tr><td>37221</td><td>1.013031244277954</td><td>72.99232 .. 72.99232</td><td>0.019828513 .. 0.019828513</td><td>72.5199 .. 72.5199</td><td>0.015104343 .. 0.015104343</td><td>26.203945 .. 24.255445</td><td>0.055371955 .. 0.009888537</td><td>9.410361 .. 7.7403336</td><td>0.50994587 .. 0.10548791</td><td>0.55078626 .. 1.1160884</td><td>0.073429376 .. 0.030526798</td><td>0.51278305 .. 0.51278305</td><td>0.0031364625 .. 0.0031364625</td><td>86.15438 .. 86.15438</td><td>0.3784375 .. 0.3784375</td></tr>\n",
       "<tr><td>37238</td><td>0.9744097590446472</td><td>43.211514 .. 43.211514</td><td>0.018600073 .. 0.018600073</td><td>43.91734 .. 43.91734</td><td>0.015252502 .. 0.015252502</td><td>26.631546 .. 25.62715</td><td>0.056258272 .. 0.05693741</td><td>2.377131 .. 0.49108306</td><td>0.238707 .. 0.15856092</td><td>3.3611374 .. 8.599485</td><td>0.76173985 .. 5.1626987</td><td>0.37553835 .. 0.37553835</td><td>0.023557637 .. 0.023557637</td><td>27.499186 .. 27.499186</td><td>1.4273207 .. 1.4273207</td></tr>\n",
       "<tr><td>37336</td><td>0.947472870349884</td><td>32.232662 .. 32.232662</td><td>0.007892746 .. 0.007892746</td><td>33.11615 .. 33.11615</td><td>0.014992292 .. 0.014992292</td><td>24.97805 .. 27.278353</td><td>0.07378922 .. 0.023738645</td><td>4.6687183 .. 4.9994354</td><td>0.3399664 .. 0.15551634</td><td>2.1817086 .. 0.67052215</td><td>0.59684145 .. 0.26640484</td><td>0.42575365 .. 0.42575365</td><td>0.046680387 .. 0.046680387</td><td>-37.78217 .. -37.78217</td><td>3.5812144 .. 3.5812144</td></tr>\n",
       "<tr><td>37405</td><td>0.969254732131958</td><td>43.07894 .. 43.07894</td><td>0.029852344 .. 0.029852344</td><td>42.929344 .. 42.929344</td><td>0.026285682 .. 0.026285682</td><td>27.375046 .. 25.846691</td><td>0.16231327 .. 0.030107034</td><td>2.2485652 .. 3.4384112</td><td>0.45939296 .. 0.15025379</td><td>1.1406068 .. 0.94819665</td><td>0.60086226 .. 0.18080145</td><td>0.78074515 .. 0.78074515</td><td>0.017189967 .. 0.017189967</td><td>-52.65341 .. -52.65341</td><td>3.6477501 .. 3.6477501</td></tr>\n",
       "<tr><td>37424</td><td>0.9764083027839661</td><td>42.70573 .. 42.70573</td><td>0.06635875 .. 0.06635875</td><td>42.47723 .. 42.47723</td><td>0.07893588 .. 0.07893588</td><td>27.179005 .. 26.683441</td><td>0.053377602 .. 0.03644562</td><td>5.451472 .. 8.076591</td><td>0.19972761 .. 0.4708177</td><td>0.100537054 .. 0.83148867</td><td>0.08978162 .. 0.1838438</td><td>0.30149868 .. 0.30149868</td><td>0.0074162823 .. 0.0074162823</td><td>-38.910007 .. -38.910007</td><td>0.68617845 .. 0.68617845</td></tr>\n",
       "<tr><td>37865</td><td>0.9424325227737427</td><td>70.98158 .. 70.98158</td><td>0.05198248 .. 0.05198248</td><td>70.30955 .. 70.30955</td><td>0.04747362 .. 0.04747362</td><td>26.635412 .. 24.947092</td><td>0.2104927 .. 0.035353385</td><td>9.119955 .. 10.989715</td><td>2.9622211 .. 0.49489027</td><td>2.554361 .. 1.4947773</td><td>0.6663708 .. 0.09571757</td><td>0.89217603 .. 0.89217603</td><td>0.012253351 .. 0.012253351</td><td>-55.942284 .. -55.942284</td><td>5.1456976 .. 5.1456976</td></tr>\n",
       "<tr><td>37876</td><td>0.9569559097290039</td><td>29.171658 .. 29.171658</td><td>0.025125993 .. 0.025125993</td><td>30.322891 .. 30.322891</td><td>0.031892154 .. 0.031892154</td><td>27.022852 .. 27.447233</td><td>0.026763372 .. 0.04602379</td><td>2.2209074 .. 1.6858827</td><td>0.10517337 .. 1.0662364</td><td>0.6561855 .. 0.66216743</td><td>0.1795494 .. 2.797735</td><td>0.55314165 .. 0.55314165</td><td>0.011618209 .. 0.011618209</td><td>-2.2023277 .. -2.2023277</td><td>1.8058547 .. 1.8058547</td></tr>\n",
       "<tr><td>37943</td><td>0.9261812567710876</td><td>26.478184 .. 26.478184</td><td>0.03435173 .. 0.03435173</td><td>26.517641 .. 26.517641</td><td>0.049410194 .. 0.049410194</td><td>26.90893 .. 27.672878</td><td>0.033611223 .. 0.07919911</td><td>3.0962808 .. 1.7137622</td><td>0.16703036 .. 0.6492971</td><td>0.8850913 .. 1.767136</td><td>0.2051609 .. 2.9658425</td><td>0.52077657 .. 0.52077657</td><td>0.018587478 .. 0.018587478</td><td>29.06113 .. 29.06113</td><td>2.1298919 .. 2.1298919</td></tr>\n",
       "<tr><td>38164</td><td>0.9958112239837646</td><td>29.079708 .. 29.079708</td><td>0.028893776 .. 0.028893776</td><td>28.624954 .. 28.624954</td><td>0.027573531 .. 0.027573531</td><td>26.76224 .. 26.667381</td><td>0.05310345 .. 0.07090403</td><td>1.7361193 .. 1.6599555</td><td>0.14028157 .. 0.3205661</td><td>2.7879894 .. 6.2152863</td><td>0.65985143 .. 3.5950212</td><td>0.47306317 .. 0.47306317</td><td>0.040139828 .. 0.040139828</td><td>47.957066 .. 47.957066</td><td>2.9874978 .. 2.9874978</td></tr>\n",
       "<tr><td>38181</td><td>0.9755076169967651</td><td>35.069244 .. 35.069244</td><td>0.06621939 .. 0.06621939</td><td>36.006058 .. 36.006058</td><td>0.039915577 .. 0.039915577</td><td>27.252485 .. 26.679432</td><td>0.051562663 .. 0.038179897</td><td>3.8073347 .. 4.1700954</td><td>0.25789344 .. 0.26616612</td><td>0.7377888 .. 0.624417</td><td>0.13703756 .. 0.19425566</td><td>0.4449145 .. 0.4449145</td><td>0.012891398 .. 0.012891398</td><td>-68.76168 .. -68.76168</td><td>1.3499675 .. 1.3499675</td></tr>\n",
       "</table></div>"
      ],
      "text/plain": [
       "<Table length=184>\n",
       "EGS-ID       CHI2NU       ...            PA                     PA_ERR         \n",
       "int64       float64       ...        float32[7]               float32[7]       \n",
       "------ ------------------ ... ------------------------ ------------------------\n",
       " 21751 1.0475132465362549 ...   -84.26822 .. -84.26822 0.12473381 .. 0.12473381\n",
       " 21084 1.0592365264892578 ...     -5.56513 .. -5.56513     0.480449 .. 0.480449\n",
       " 21415 0.9588196873664856 ...       87.1877 .. 87.1877   1.2862284 .. 1.2862284\n",
       " 21815 1.1389575004577637 ...   15.306445 .. 15.306445   0.7475419 .. 0.7475419\n",
       " 21833 1.0038905143737793 ...   18.486284 .. 18.486284 0.33718443 .. 0.33718443\n",
       " 22084  1.005349040031433 ...   -74.14814 .. -74.14814 0.35041508 .. 0.35041508\n",
       " 22352  1.030713438987732 ... -3.2448637 .. -3.2448637   0.3578872 .. 0.3578872\n",
       " 22569  1.761459231376648 ...     69.19929 .. 69.19929   0.8228386 .. 0.8228386\n",
       " 23029  1.150963306427002 ... -22.517572 .. -22.517572 0.69538814 .. 0.69538814\n",
       " 23071 1.0185116529464722 ...   -82.69751 .. -82.69751 0.32583597 .. 0.32583597\n",
       "   ...                ... ...                      ...                      ...\n",
       " 37221  1.013031244277954 ...     86.15438 .. 86.15438   0.3784375 .. 0.3784375\n",
       " 37238 0.9744097590446472 ...   27.499186 .. 27.499186   1.4273207 .. 1.4273207\n",
       " 37336  0.947472870349884 ...   -37.78217 .. -37.78217   3.5812144 .. 3.5812144\n",
       " 37405  0.969254732131958 ...   -52.65341 .. -52.65341   3.6477501 .. 3.6477501\n",
       " 37424 0.9764083027839661 ... -38.910007 .. -38.910007 0.68617845 .. 0.68617845\n",
       " 37865 0.9424325227737427 ... -55.942284 .. -55.942284   5.1456976 .. 5.1456976\n",
       " 37876 0.9569559097290039 ... -2.2023277 .. -2.2023277   1.8058547 .. 1.8058547\n",
       " 37943 0.9261812567710876 ...     29.06113 .. 29.06113   2.1298919 .. 2.1298919\n",
       " 38164 0.9958112239837646 ...   47.957066 .. 47.957066   2.9874978 .. 2.9874978\n",
       " 38181 0.9755076169967651 ...   -68.76168 .. -68.76168   1.3499675 .. 1.3499675"
      ]
     },
     "execution_count": 47,
     "metadata": {},
     "output_type": "execute_result"
    }
   ],
   "source": [
    "tab_result.write('result.ecsv', format='ascii.ecsv', overwrite=True)\n",
    "tab_result"
   ]
  }
 ],
 "metadata": {
  "kernelspec": {
   "display_name": "galfit3",
   "language": "python",
   "name": "python3"
  },
  "language_info": {
   "codemirror_mode": {
    "name": "ipython",
    "version": 3
   },
   "file_extension": ".py",
   "mimetype": "text/x-python",
   "name": "python",
   "nbconvert_exporter": "python",
   "pygments_lexer": "ipython3",
   "version": "3.9.0"
  }
 },
 "nbformat": 4,
 "nbformat_minor": 2
}
