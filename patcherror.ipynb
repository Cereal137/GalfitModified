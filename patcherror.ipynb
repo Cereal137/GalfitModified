{
 "cells": [
  {
   "cell_type": "code",
   "execution_count": 1,
   "metadata": {},
   "outputs": [],
   "source": [
    "%load_ext autoreload\n",
    "%autoreload 2"
   ]
  },
  {
   "cell_type": "code",
   "execution_count": 5,
   "metadata": {},
   "outputs": [],
   "source": [
    "from astropy.io import fits\n",
    "from astropy.table import Table\n",
    "import numpy as np\n",
    "import matplotlib.pyplot as plt\n",
    "import glob\n",
    "import shutil\n",
    "from tqdm import tqdm\n",
    "\n",
    "from photutils.segmentation import SegmentationImage\n",
    "\n",
    "from cutout import cutout_worker"
   ]
  },
  {
   "cell_type": "markdown",
   "metadata": {},
   "source": [
    "## For isolated"
   ]
  },
  {
   "cell_type": "code",
   "execution_count": 11,
   "metadata": {},
   "outputs": [],
   "source": [
    "img_name = 'nircam6'\n",
    "img_base = f'./io/sample/{img_name}/'\n",
    "img_dirs = glob.glob(f'{img_base}/*/')\n",
    "img_dirs.sort()\n",
    "\n",
    "prep_path = f'./io/prep/{img_name}/pregalfit.fits'\n",
    "with fits.open(prep_path) as hdul:\n",
    "    tab_img = Table(hdul['IMGLIST'].data)\n",
    "    tab_ini = Table(hdul['INIPARAM'].data)\n",
    "    segm = SegmentationImage(hdul['SEGMAP'].data)\n",
    "areas = segm.areas\n",
    "\n",
    "patch_base = f'./patch/{img_name}/'"
   ]
  },
  {
   "cell_type": "code",
   "execution_count": 12,
   "metadata": {},
   "outputs": [
    {
     "name": "stderr",
     "output_type": "stream",
     "text": [
      "100%|██████████| 74/74 [06:35<00:00,  5.34s/it]\n"
     ]
    }
   ],
   "source": [
    "#raise ValueError('This will overwrite existing files. Comment out this line to proceed.')\n",
    "for img_dir in tqdm(img_dirs):\n",
    "    id = img_dir.split('/')[-2]\n",
    "    row = tab_ini[tab_ini['ID'] == int(id)][0]\n",
    "    size = fits.getdata(f'{img_dir}/sci_F115W.fits').shape[0]\n",
    "    cutout_worker(id, row['xcentroid'], row['ycentroid'], int(row['label']), size, tab_img, segm, areas, patch_base, overwrite=True)"
   ]
  },
  {
   "cell_type": "markdown",
   "metadata": {},
   "source": [
    "### For those abnormal cases"
   ]
  },
  {
   "cell_type": "code",
   "execution_count": 82,
   "metadata": {},
   "outputs": [
    {
     "name": "stdout",
     "output_type": "stream",
     "text": [
      "220\n"
     ]
    }
   ],
   "source": [
    "id = '18384'\n",
    "img_dir = f'./io/sample/{img_name}/{id}/'\n",
    "row = tab_ini[tab_ini['ID'] == int(id)][0]\n",
    "size = fits.getdata(f'{img_dir}/sci_F115W.fits').shape[0]\n",
    "print(size)\n",
    "size = 138\n",
    "cutout_worker(id, row['xcentroid'], row['ycentroid'], [int(row['label'])], size, tab_img, segm, areas, patch_base, overwrite=True)"
   ]
  },
  {
   "cell_type": "markdown",
   "metadata": {},
   "source": [
    "## Make patches to multicomp? How?"
   ]
  },
  {
   "cell_type": "code",
   "execution_count": 19,
   "metadata": {},
   "outputs": [],
   "source": [
    "img_name = 'nircam6'\n",
    "img_base = f'./io/sample/{img_name}/'\n",
    "img_dirs = glob.glob(f'{img_base}/*/')\n",
    "img_dirs.sort()\n",
    "\n",
    "prep_path = f'./io/prep/{img_name}/pregalfit.fits'\n",
    "with fits.open(prep_path) as hdul:\n",
    "    tab_img = Table(hdul['IMGLIST'].data)\n",
    "    tab_ini = Table(hdul['INIPARAM'].data)\n",
    "    segm = SegmentationImage(hdul['SEGMAP'].data)\n",
    "areas = segm.areas\n",
    "\n",
    "patch_base = './patch/multicomp/'"
   ]
  },
  {
   "cell_type": "code",
   "execution_count": 20,
   "metadata": {},
   "outputs": [],
   "source": [
    "mcomp_base = './multicomp/'\n",
    "mcomp_dirs = glob.glob(mcomp_base + '*/')\n",
    "mcomp_dirs.sort()\n",
    "multilog_path = f'multicomp_{img_name}.fits'\n",
    "tab_multi = Table(names=['ID','NIRCamPointing','positions','size'], dtype=[str, str, list, float])\n",
    "for mcomp_dir in mcomp_dirs[:-1]:\n",
    "    id = mcomp_dir.split('/')[-2]\n",
    "    idx = np.where(tab_ini['ID'] == int(id))[0]\n",
    "    if len(idx) == 0:\n",
    "        continue\n",
    "    else:\n",
    "        row = tab_ini[idx][0]\n",
    "        fdme_path = f'{mcomp_dir}{id}_F115W.galfit'\n",
    "        with fits.open(f'{mcomp_dir}sci_F115W.fits') as hdul:\n",
    "            hdr = hdul[0].header\n",
    "            size = hdul[0].data.shape[0]\n",
    "        xc, yc = int(hdr['xc']), int(hdr['yc'])\n",
    "        \n",
    "        with open(fdme_path, 'r') as f:\n",
    "            cnt = -1\n",
    "            positions = []\n",
    "            for line in f:\n",
    "                if line.startswith(' 0) sersic'):\n",
    "                    cnt = 3\n",
    "                if cnt == 2:\n",
    "                    posx = int(line.split()[1]) - 1\n",
    "                    pass\n",
    "                if cnt == 1:\n",
    "                    posy = int(line.split()[1]) - 1\n",
    "                    pass\n",
    "                if cnt == 0:\n",
    "                    positions.append((posx,posy))\n",
    "                cnt = cnt-1\n",
    "            \n",
    "            labels = list({segm.data[pos[1]+yc-size//2, pos[0]+xc-size//2] for pos in positions})\n",
    "        \n",
    "        status = cutout_worker(id, xc, yc, labels, size, tab_img, segm, areas, patch_base, overwrite=True)\n",
    "        if status == 1:\n",
    "            shutil.copy2(f'{mcomp_dir}{id}_multicomp.galfit', f'{patch_base}{id}/{id}_multicomp.galfit')\n",
    "        else: \n",
    "            print('please manually adjust: ', id)\n",
    "        tab_multi.add_row([id, img_name, positions, size])\n",
    "tab_multi.write('./patch/multicomp/' + multilog_path)"
   ]
  }
 ],
 "metadata": {
  "kernelspec": {
   "display_name": "galfit3",
   "language": "python",
   "name": "python3"
  },
  "language_info": {
   "codemirror_mode": {
    "name": "ipython",
    "version": 3
   },
   "file_extension": ".py",
   "mimetype": "text/x-python",
   "name": "python",
   "nbconvert_exporter": "python",
   "pygments_lexer": "ipython3",
   "version": "3.9.0"
  }
 },
 "nbformat": 4,
 "nbformat_minor": 2
}
