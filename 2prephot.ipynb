{
 "cells": [
  {
   "cell_type": "markdown",
   "metadata": {},
   "source": [
    "# Pre-Photometry before measuring with GALFITM"
   ]
  },
  {
   "cell_type": "code",
   "execution_count": 45,
   "metadata": {},
   "outputs": [],
   "source": [
    "import numpy as np\n",
    "import matplotlib.pyplot as plt\n",
    "import warnings\n",
    "warnings.filterwarnings(\"ignore\")\n",
    "\n",
    "from astropy.io import fits"
   ]
  },
  {
   "cell_type": "code",
   "execution_count": 46,
   "metadata": {},
   "outputs": [],
   "source": [
    "img_name = 'nircam3'\n",
    "img_dir = f'./io/image/{img_name}/'\n",
    "img_merged_path = img_dir + 'merged.fits'\n",
    "\n",
    "match_dir = f'./io/match/{img_name}/'\n",
    "prep_dir = f'./io/prep/{img_name}/'"
   ]
  },
  {
   "cell_type": "markdown",
   "metadata": {},
   "source": [
    "## Create Source Catalog"
   ]
  },
  {
   "cell_type": "code",
   "execution_count": 47,
   "metadata": {},
   "outputs": [],
   "source": [
    "from photutils.segmentation import SegmentationImage\n",
    "from photutils.segmentation import SourceCatalog\n",
    "from astropy.wcs import WCS\n",
    "from astropy.table import Table, hstack"
   ]
  },
  {
   "cell_type": "code",
   "execution_count": 48,
   "metadata": {},
   "outputs": [],
   "source": [
    "with fits.open(img_merged_path) as hdul:\n",
    "    segm = SegmentationImage(hdul['SEGMAP'].data)\n",
    "    w = WCS(hdul['MERGED'].header)\n",
    "    image_merged_conv = hdul['SCI_BKSUB_CONV'].data"
   ]
  },
  {
   "cell_type": "code",
   "execution_count": 49,
   "metadata": {},
   "outputs": [],
   "source": [
    "tab_ref_matched_selected = Table.read(match_dir + 'matchlog.csv', format='ascii.csv')\n",
    "tab_sorted = tab_ref_matched_selected[tab_ref_matched_selected.argsort('label')] # sort by label\n",
    "tab_sorted = tab_sorted[tab_sorted['label'] != -1]\n",
    "\n",
    "label_column = np.int64(tab_sorted['label'])\n",
    "id_column = np.array(tab_sorted['ID'])\n",
    "ra_column = tab_sorted['RA']\n",
    "dec_column = tab_sorted['Dec']\n",
    "comment_column = tab_sorted['comment']\n",
    "segm_matched = segm.copy()\n",
    "segm_matched.keep_labels(label_column)"
   ]
  },
  {
   "cell_type": "markdown",
   "metadata": {},
   "source": [
    "# Do photometry in every band with SourceCatalog"
   ]
  },
  {
   "cell_type": "code",
   "execution_count": 50,
   "metadata": {},
   "outputs": [
    {
     "data": {
      "text/plain": [
       "['./io/image/nircam3/hlsp_ceers_jwst_nircam_nircam3_f115w_dr0.5_i2d.fits',\n",
       " './io/image/nircam3/hlsp_ceers_jwst_nircam_nircam3_f150w_dr0.5_i2d.fits',\n",
       " './io/image/nircam3/hlsp_ceers_jwst_nircam_nircam3_f200w_dr0.5_i2d.fits',\n",
       " './io/image/nircam3/hlsp_ceers_jwst_nircam_nircam3_f277w_dr0.5_i2d.fits',\n",
       " './io/image/nircam3/hlsp_ceers_jwst_nircam_nircam3_f356w_dr0.5_i2d.fits',\n",
       " './io/image/nircam3/hlsp_ceers_jwst_nircam_nircam3_f410m_dr0.5_i2d.fits',\n",
       " './io/image/nircam3/hlsp_ceers_jwst_nircam_nircam3_f444w_dr0.5_i2d.fits']"
      ]
     },
     "execution_count": 50,
     "metadata": {},
     "output_type": "execute_result"
    }
   ],
   "source": [
    "import glob\n",
    "img_path_list = glob.glob(img_dir + 'hlsp*.fits')\n",
    "img_path_list.sort()\n",
    "img_path_list"
   ]
  },
  {
   "cell_type": "code",
   "execution_count": 51,
   "metadata": {},
   "outputs": [
    {
     "name": "stdout",
     "output_type": "stream",
     "text": [
      "ZERO_POINT: 28.086519392283982\n"
     ]
    }
   ],
   "source": [
    "PIXAR_SR = 2.11539874851881E-14\n",
    "ZERO_POINT =  -6.10 -2.5 * np.log10(PIXAR_SR)\n",
    "print(f'ZERO_POINT: {ZERO_POINT}')\n",
    "def flux_to_mag(flux, zero_point=ZERO_POINT):\n",
    "    return -2.5 * np.log10(flux) + zero_point"
   ]
  },
  {
   "cell_type": "code",
   "execution_count": 52,
   "metadata": {},
   "outputs": [],
   "source": [
    "from utils.zeropoint import calc_zpt"
   ]
  },
  {
   "cell_type": "code",
   "execution_count": 53,
   "metadata": {},
   "outputs": [],
   "source": [
    "tab_phot = Table([id_column, ra_column, dec_column, comment_column], names=['ID', 'RA', 'Dec', 'comment'])\n",
    "band_list = []\n",
    "for i,img_path in enumerate(img_path_list):\n",
    "    sci = fits.getdata(img_path, hdu='SCI_BKSUB')\n",
    "    err = fits.getdata(img_path, hdu='ERR')\n",
    "    hdr_pri = fits.getheader(img_path, extname='PRIMARY')\n",
    "    band = hdr_pri['FILTER'].split(' ')[0]\n",
    "    key_tab = f'KronPhot_{band}_mag'\n",
    "    cat_sci = SourceCatalog(sci, segm_matched, error=err)\n",
    "    flux_list = cat_sci.kron_flux\n",
    "    fluxerr_list = cat_sci.kron_fluxerr\n",
    "    re_list = cat_sci.fluxfrac_radius(0.5)\n",
    "    x, y = cat_sci.xcentroid, cat_sci.ycentroid\n",
    "    mag_list = []\n",
    "    for j in range(len(flux_list)):\n",
    "        x_pix, y_pix, flux = x[j], y[j], flux_list[j]\n",
    "        zpt = calc_zpt(x_pix, y_pix, 'CR0')[i]\n",
    "        mag = flux_to_mag(flux, zero_point= zpt)\n",
    "        mag_list.append(mag)\n",
    "    tab_phot.add_columns([mag_list, flux_list, fluxerr_list, re_list], names=[key_tab, key_tab.replace('mag', 'flux'), key_tab.replace('mag', 'fluxerr'), key_tab.replace('mag', 'Re')])"
   ]
  },
  {
   "cell_type": "code",
   "execution_count": 54,
   "metadata": {},
   "outputs": [
    {
     "data": {
      "text/html": [
       "<div><i>Table length=84</i>\n",
       "<table id=\"table140398481604768\" class=\"table-striped table-bordered table-condensed\">\n",
       "<thead><tr><th>ID</th><th>RA</th><th>Dec</th><th>comment</th><th>KronPhot_F115W_mag</th><th>KronPhot_F115W_flux</th><th>KronPhot_F115W_fluxerr</th><th>KronPhot_F115W_Re</th><th>KronPhot_F150W_mag</th><th>KronPhot_F150W_flux</th><th>KronPhot_F150W_fluxerr</th><th>KronPhot_F150W_Re</th><th>KronPhot_F200W_mag</th><th>KronPhot_F200W_flux</th><th>KronPhot_F200W_fluxerr</th><th>KronPhot_F200W_Re</th><th>KronPhot_F277W_mag</th><th>KronPhot_F277W_flux</th><th>KronPhot_F277W_fluxerr</th><th>KronPhot_F277W_Re</th><th>KronPhot_F356W_mag</th><th>KronPhot_F356W_flux</th><th>KronPhot_F356W_fluxerr</th><th>KronPhot_F356W_Re</th><th>KronPhot_F410M_mag</th><th>KronPhot_F410M_flux</th><th>KronPhot_F410M_fluxerr</th><th>KronPhot_F410M_Re</th><th>KronPhot_F444W_mag</th><th>KronPhot_F444W_flux</th><th>KronPhot_F444W_fluxerr</th><th>KronPhot_F444W_Re</th></tr></thead>\n",
       "<thead><tr><th></th><th></th><th></th><th></th><th></th><th></th><th></th><th>pix</th><th></th><th></th><th></th><th>pix</th><th></th><th></th><th></th><th>pix</th><th></th><th></th><th></th><th>pix</th><th></th><th></th><th></th><th>pix</th><th></th><th></th><th></th><th>pix</th><th></th><th></th><th></th><th>pix</th></tr></thead>\n",
       "<thead><tr><th>int64</th><th>float64</th><th>float64</th><th>str30</th><th>float64</th><th>float64</th><th>float64</th><th>float64</th><th>float64</th><th>float64</th><th>float64</th><th>float64</th><th>float64</th><th>float64</th><th>float64</th><th>float64</th><th>float64</th><th>float64</th><th>float64</th><th>float64</th><th>float64</th><th>float64</th><th>float64</th><th>float64</th><th>float64</th><th>float64</th><th>float64</th><th>float64</th><th>float64</th><th>float64</th><th>float64</th><th>float64</th></tr></thead>\n",
       "<tr><td>38742</td><td>214.77540889</td><td>52.81347611</td><td>--</td><td>27.166752637260778</td><td>2.332956827347645</td><td>0.4142403017606851</td><td>2.170835406727908</td><td>26.818787725074664</td><td>3.214346321429253</td><td>0.4156369851169136</td><td>3.2934548062441453</td><td>27.076857260629115</td><td>2.534339851001922</td><td>0.365653223147898</td><td>2.557921381905341</td><td>26.561645086539112</td><td>4.073331186539674</td><td>0.4283985264172767</td><td>3.225943037693207</td><td>26.94860601844018</td><td>2.8521039462868303</td><td>0.2667456000753611</td><td>3.6888548895022617</td><td>27.85726926663973</td><td>1.2350941089431986</td><td>0.18599211128398577</td><td>2.8616544037113343</td><td>27.709411012869502</td><td>1.4152832010484708</td><td>0.16116400614029325</td><td>3.4876519709535305</td></tr>\n",
       "<tr><td>38756</td><td>214.82577194</td><td>52.84964306</td><td>--</td><td>27.670271096938436</td><td>1.4672337832832094</td><td>0.2403304073499856</td><td>2.5481909563541545</td><td>27.10617040311443</td><td>2.4668321258938075</td><td>0.2917368264261109</td><td>4.520135084807203</td><td>27.12828576039763</td><td>2.417093512719448</td><td>0.2715615962365261</td><td>4.78750933865883</td><td>26.75561660918948</td><td>3.4069135476277728</td><td>0.33478156586753915</td><td>3.540341836964109</td><td>27.255463141538332</td><td>2.1499209924411833</td><td>0.21863028744946372</td><td>3.444331450567881</td><td>26.71474168019192</td><td>3.537619220486825</td><td>0.3561354422809581</td><td>3.602710344415901</td><td>27.04200933573789</td><td>2.6170018076309605</td><td>0.25175670035331343</td><td>3.788791567633531</td></tr>\n",
       "<tr><td>38843</td><td>214.80667889</td><td>52.83783111</td><td>--</td><td>27.040557613708444</td><td>2.620503302921546</td><td>0.3983845831856647</td><td>2.2398062953406077</td><td>27.38425489456597</td><td>1.9094390455899475</td><td>0.3820912056153122</td><td>1.8481442417545566</td><td>27.29603881194089</td><td>2.071057860046439</td><td>0.3326274218130844</td><td>2.2450712566755815</td><td>27.047035188947326</td><td>2.604915748360611</td><td>0.3235745731739374</td><td>2.74129954447666</td><td>26.178132280048874</td><td>5.799023182265033</td><td>0.6856600016484247</td><td>2.7648829196626097</td><td>26.179285850696232</td><td>5.792865120676414</td><td>0.6696032499294566</td><td>2.9256221739268566</td><td>25.38308032945219</td><td>12.06078637452431</td><td>1.1832250762895447</td><td>3.3185478205000605</td></tr>\n",
       "<tr><td>23409</td><td>214.84438</td><td>52.86541194</td><td>--</td><td>26.566669942689593</td><td>4.054523107026343</td><td>0.5037502708472016</td><td>2.872593916817409</td><td>26.556903083414362</td><td>4.09116055597655</td><td>0.4849876103551064</td><td>2.9678896251032443</td><td>26.427516219666487</td><td>4.6089422775274285</td><td>0.45210384083946265</td><td>3.7849624240241315</td><td>25.97643389427983</td><td>6.982873896503436</td><td>0.579208732420454</td><td>4.175980659336097</td><td>26.389593371970463</td><td>4.772768922189157</td><td>0.38532049431662074</td><td>4.206169055737225</td><td>26.872449665675614</td><td>3.0593410258316385</td><td>0.2907074802991059</td><td>4.052248317914331</td><td>26.96642220682819</td><td>2.8056847666774996</td><td>0.2647193958527293</td><td>3.7244447416729165</td></tr>\n",
       "<tr><td>23457</td><td>214.846515</td><td>52.86718306</td><td>--</td><td>26.418907164182613</td><td>4.6456329274448045</td><td>0.4238489247832448</td><td>5.102944465693253</td><td>26.57112553831034</td><td>4.037918430716901</td><td>0.3642041446881532</td><td>4.801880125621439</td><td>26.49789242915108</td><td>4.319672138262838</td><td>0.3608184784644414</td><td>4.704055252374929</td><td>26.224629159669927</td><td>5.555921399108588</td><td>0.36942195617814316</td><td>5.3227215742521246</td><td>26.601499233015616</td><td>3.926522258519914</td><td>0.2823908058408427</td><td>4.991171830502492</td><td>26.224950702834498</td><td>5.554276244388895</td><td>0.3501600462079628</td><td>8.075530025981534</td><td>26.676549081065826</td><td>3.664275547770533</td><td>0.24630923616321812</td><td>5.81267613616776</td></tr>\n",
       "<tr><td>24080</td><td>214.83425611</td><td>52.86177306</td><td>--</td><td>26.362081878308686</td><td>4.895251459716727</td><td>0.6615205134576455</td><td>2.790385866434499</td><td>26.05446367626026</td><td>6.498637112650197</td><td>0.634636628286342</td><td>4.288092040079368</td><td>26.476195353644002</td><td>4.406863669999689</td><td>0.5123561749150554</td><td>3.081046699350713</td><td>25.96256827239429</td><td>7.072622005700319</td><td>0.6002816620880086</td><td>3.999769506628972</td><td>26.142299560934312</td><td>5.993602440594589</td><td>0.47810230023574507</td><td>4.247238973300756</td><td>26.25186607722589</td><td>5.418278524666618</td><td>0.43993940045012603</td><td>4.7364564045838</td><td>26.38947694521445</td><td>4.773280747985278</td><td>0.38938646716755265</td><td>4.2573137898949</td></tr>\n",
       "<tr><td>24708</td><td>214.82101806</td><td>52.855435</td><td>--</td><td>26.804058929469488</td><td>3.2582483584408464</td><td>0.41210846792834493</td><td>3.23796953527187</td><td>26.231130771606264</td><td>5.52275081313201</td><td>0.45935984091779347</td><td>5.176873777970411</td><td>26.898339103586117</td><td>2.987253753393256</td><td>0.35519579928182554</td><td>3.4617873958277023</td><td>26.681330087893684</td><td>3.6481754943160407</td><td>0.30463078262219545</td><td>4.32016641018051</td><td>26.371124720086204</td><td>4.854649377659099</td><td>0.3964017865677268</td><td>4.3043277831691436</td><td>27.02229625795043</td><td>2.6649511570645386</td><td>0.23170114408722337</td><td>4.775066403905379</td><td>26.647398392905647</td><td>3.763989469660762</td><td>0.29536735366276107</td><td>4.738879425155857</td></tr>\n",
       "<tr><td>39316</td><td>214.82522889</td><td>52.85902</td><td>--</td><td>26.673903831473165</td><td>3.6732139443184235</td><td>0.48740337497572506</td><td>2.747515638906161</td><td>25.85185703826032</td><td>7.83186047002555</td><td>0.5417518339260113</td><td>8.893154930463098</td><td>26.4844508714663</td><td>4.373482653500748</td><td>0.42404135696000766</td><td>4.0064410985921075</td><td>26.078859194415962</td><td>6.35424680378592</td><td>0.45353355516377314</td><td>4.89917532670819</td><td>26.371100525264776</td><td>4.8547575611045914</td><td>0.36582741500285004</td><td>4.644526984906163</td><td>26.069331692452042</td><td>6.410251661726042</td><td>0.4605030392990213</td><td>5.298058660240832</td><td>26.307937156099324</td><td>5.145562935958186</td><td>0.37466682062185713</td><td>4.879886807927942</td></tr>\n",
       "<tr><td>39334</td><td>214.79439806</td><td>52.837405</td><td>--</td><td>26.40534843557926</td><td>4.704011585386763</td><td>0.4072159131964334</td><td>10.009159994897436</td><td>26.998304719761418</td><td>2.724494082746956</td><td>0.36167657065665126</td><td>3.438781014776536</td><td>27.181910711232014</td><td>2.3006124856512806</td><td>0.4077824003425851</td><td>2.1538768445677774</td><td>25.93486194673059</td><td>7.255427023063135</td><td>0.686195968419895</td><td>3.681867359037629</td><td>25.624130269377062</td><td>9.65952229388116</td><td>0.9933029207268289</td><td>3.2205083004815873</td><td>24.744678341962285</td><td>21.713829338203496</td><td>2.061989048559033</td><td>3.4245330041615194</td><td>25.085645647885578</td><td>15.861691459540122</td><td>1.3957006565090206</td><td>3.757596351993742</td></tr>\n",
       "<tr><td>...</td><td>...</td><td>...</td><td>...</td><td>...</td><td>...</td><td>...</td><td>...</td><td>...</td><td>...</td><td>...</td><td>...</td><td>...</td><td>...</td><td>...</td><td>...</td><td>...</td><td>...</td><td>...</td><td>...</td><td>...</td><td>...</td><td>...</td><td>...</td><td>...</td><td>...</td><td>...</td><td>...</td><td>...</td><td>...</td><td>...</td><td>...</td></tr>\n",
       "<tr><td>29875</td><td>214.82811389</td><td>52.885195</td><td>--</td><td>26.061879770115162</td><td>6.45439958884605</td><td>0.5644193977564245</td><td>5.439469828703613</td><td>26.067315163239183</td><td>6.422168434162587</td><td>0.5740584583597566</td><td>5.391708101215971</td><td>26.00343376178129</td><td>6.811366549488332</td><td>0.5308577882371509</td><td>5.473055184136761</td><td>25.610576736148026</td><td>9.780860447079766</td><td>0.6027966925270908</td><td>5.863181391255346</td><td>25.180163896443975</td><td>14.539256498075165</td><td>0.8801772915027325</td><td>6.078192066811754</td><td>25.00847336018461</td><td>17.03014763285838</td><td>1.051805036860955</td><td>5.776221993649184</td><td>25.421815363304646</td><td>11.638087326213293</td><td>0.7071440129693678</td><td>5.85475784956509</td></tr>\n",
       "<tr><td>41199</td><td>214.81940111</td><td>52.87926889</td><td>--</td><td>26.942637103933027</td><td>2.867826776257192</td><td>0.2899323803321467</td><td>4.805538335731195</td><td>26.75433659018947</td><td>3.410932466490469</td><td>0.324192255003694</td><td>4.915648462873913</td><td>26.963187839758994</td><td>2.814055256925703</td><td>0.30377916664296317</td><td>3.5057892842929057</td><td>26.71569544937116</td><td>3.5345129497222882</td><td>0.3283175126201013</td><td>3.5946309826472294</td><td>26.71830316771766</td><td>3.5260339523556965</td><td>0.25886881965071984</td><td>4.830820461622484</td><td>27.00710515019266</td><td>2.7024999639777034</td><td>0.23387427814043787</td><td>6.108671446920974</td><td>27.005472491442006</td><td>2.706566862817794</td><td>0.22025960403209305</td><td>6.455612374104868</td></tr>\n",
       "<tr><td>29839</td><td>214.753015</td><td>52.83312694</td><td>--</td><td>26.117012062584884</td><td>6.134835639417853</td><td>0.5739527681299261</td><td>5.526509647398614</td><td>25.964086823418015</td><td>7.062736888060511</td><td>0.6090129380673308</td><td>6.354686293980593</td><td>25.07110502886132</td><td>16.075546476392695</td><td>0.7729471495495747</td><td>13.345568548979575</td><td>24.46454971039495</td><td>28.105277180284993</td><td>1.1149157550394089</td><td>12.893498853268643</td><td>24.918945678549854</td><td>18.49394175372237</td><td>0.7159027905948769</td><td>12.490444979471109</td><td>24.85710579388156</td><td>19.57786995314074</td><td>0.7276763755351553</td><td>16.585777147608923</td><td>25.029350287591125</td><td>16.705814005742916</td><td>0.6239933031007641</td><td>15.106291364132051</td></tr>\n",
       "<tr><td>30500</td><td>214.83338</td><td>52.89072694</td><td>--</td><td>25.845943255372635</td><td>7.8746353984322255</td><td>0.77315384580357</td><td>4.175672290350296</td><td>25.828075799238185</td><td>8.00529678156967</td><td>0.7805571831005953</td><td>3.975573542611446</td><td>25.308109080280342</td><td>12.923023224114154</td><td>1.1574749331614704</td><td>4.254451520209751</td><td>24.91348362872314</td><td>18.58721426954387</td><td>1.3364585570996241</td><td>5.358780561339191</td><td>24.985033610382985</td><td>17.40180560110691</td><td>1.198973713677091</td><td>5.428014367627292</td><td>25.109839957827475</td><td>15.512142075372754</td><td>0.9855113984793954</td><td>5.783189555912865</td><td>25.12652231722201</td><td>15.275619430303326</td><td>1.003946035695536</td><td>5.378075766844149</td></tr>\n",
       "<tr><td>30151</td><td>214.76188111</td><td>52.841535</td><td>--</td><td>24.4714378135777</td><td>27.927536718311313</td><td>1.2947722792318381</td><td>26.259920245187693</td><td>24.044887411295377</td><td>41.366882467801005</td><td>1.4383402006686243</td><td>28.410801514625398</td><td>25.19275156399868</td><td>14.37166652096695</td><td>1.005431449406069</td><td>6.8331377450550566</td><td>24.913593192235496</td><td>18.585338696340642</td><td>1.5224354442979808</td><td>4.324864597650554</td><td>25.126549814843774</td><td>15.275232561113118</td><td>1.1094054789527434</td><td>4.8599506230427485</td><td>25.078278178663545</td><td>15.969689987271295</td><td>0.8853625085193377</td><td>7.051013419641081</td><td>25.239698835040464</td><td>13.763478947215042</td><td>0.8768771054632976</td><td>5.776303362959967</td></tr>\n",
       "<tr><td>28756</td><td>214.81807306</td><td>52.88302694</td><td>--</td><td>23.40246104278836</td><td>74.75209002683724</td><td>18.59604258954917</td><td>1.3318141974107534</td><td>22.897959685818346</td><td>118.96628024677824</td><td>26.90977855719283</td><td>1.457145362031708</td><td>22.613254784309724</td><td>154.63430372916855</td><td>31.371481766874325</td><td>1.6307230692166133</td><td>22.989865582668493</td><td>109.31041014971063</td><td>14.050309173703575</td><td>2.6069582936047206</td><td>22.40791820415299</td><td>186.82735926399954</td><td>21.699107849912345</td><td>2.8020299743603334</td><td>22.400220285680497</td><td>188.15668054028174</td><td>20.48540859857186</td><td>2.9707514112156588</td><td>22.723727587993068</td><td>139.6743701804671</td><td>14.570552149502124</td><td>3.1066814907128557</td></tr>\n",
       "<tr><td>40843</td><td>214.77192194</td><td>52.85231694</td><td>--</td><td>25.81841028882646</td><td>8.076880202032836</td><td>0.4569863404127837</td><td>11.988361528622859</td><td>25.351693611950274</td><td>12.414530852628603</td><td>0.5868137509514828</td><td>16.22591289913765</td><td>25.38222955764777</td><td>12.070240787290746</td><td>0.553761998365445</td><td>10.42322849769246</td><td>25.202904541914847</td><td>14.237900059227155</td><td>0.5715841945746987</td><td>11.074938673730436</td><td>25.141501251432203</td><td>15.06632239303092</td><td>0.5267832652640828</td><td>12.820169092304914</td><td>25.38259292595674</td><td>12.066201860418289</td><td>0.5240605592139777</td><td>10.491324735212666</td><td>25.364718011072227</td><td>12.266496873632239</td><td>0.4996341877670482</td><td>10.269851584805698</td></tr>\n",
       "<tr><td>40887</td><td>214.81890306</td><td>52.88715</td><td>--</td><td>27.23259612106257</td><td>2.1956813270932525</td><td>0.29580437922644</td><td>2.7221214943645107</td><td>27.398953029044744</td><td>1.8837642269191575</td><td>0.2775431691059194</td><td>2.7441088795805175</td><td>27.49703757497781</td><td>1.7210469853503345</td><td>0.23725664802167973</td><td>2.823346270141127</td><td>27.09930821133674</td><td>2.4824726494980562</td><td>0.20884710452542868</td><td>4.340909147317647</td><td>26.82292050302531</td><td>3.202134396517028</td><td>0.2523576893886788</td><td>4.303637750932746</td><td>27.267542219351085</td><td>2.126135158451704</td><td>0.2191391453536674</td><td>5.030318395941941</td><td>26.906022508953328</td><td>2.9661885446393343</td><td>0.21713682386165442</td><td>5.392803305523632</td></tr>\n",
       "<tr><td>28595</td><td>214.81376806</td><td>52.88463694</td><td>--</td><td>26.39044520437095</td><td>4.769025835479498</td><td>0.5743914718164104</td><td>3.3120214759773563</td><td>26.072543728235253</td><td>6.391315633773632</td><td>0.5834604334944613</td><td>4.565057596380974</td><td>25.909661516115104</td><td>7.425798329943173</td><td>0.5277017726799066</td><td>6.347983573584867</td><td>25.716247297421617</td><td>8.87378368851471</td><td>0.646531521869553</td><td>4.69850070056144</td><td>25.855751204082978</td><td>7.803820569918846</td><td>0.4921585222148853</td><td>5.6025746685237365</td><td>25.249245811575644</td><td>13.642985962631823</td><td>0.757429445461398</td><td>6.468572786010007</td><td>25.409610618314485</td><td>11.769648953529057</td><td>0.6165956765629013</td><td>7.108201334449798</td></tr>\n",
       "<tr><td>40756</td><td>214.74152889</td><td>52.83599889</td><td>--</td><td>26.31299830365835</td><td>5.121632768503765</td><td>0.38146513180288955</td><td>6.264036373134516</td><td>26.596937683125024</td><td>3.94305362684799</td><td>0.37829381700427467</td><td>5.119046633856474</td><td>25.928114600737782</td><td>7.300656525164498</td><td>0.48851386036634875</td><td>5.782891530290408</td><td>25.88972600581148</td><td>7.563404969845954</td><td>0.5402845614893094</td><td>5.181818585262608</td><td>26.034191098619587</td><td>6.6211178417782115</td><td>0.4287379297670046</td><td>5.748759341996815</td><td>26.512012364985566</td><td>4.263858766230083</td><td>0.4105165391448089</td><td>5.021708261591023</td><td>26.17543520622315</td><td>5.813446424109903</td><td>0.4372116331049694</td><td>5.167505309800982</td></tr>\n",
       "</table></div>"
      ],
      "text/plain": [
       "<Table length=84>\n",
       "  ID       RA          Dec     ... KronPhot_F444W_fluxerr KronPhot_F444W_Re \n",
       "                               ...                               pix        \n",
       "int64   float64      float64   ...        float64              float64      \n",
       "----- ------------ ----------- ... ---------------------- ------------------\n",
       "38742 214.77540889 52.81347611 ...    0.16116400614029325 3.4876519709535305\n",
       "38756 214.82577194 52.84964306 ...    0.25175670035331343  3.788791567633531\n",
       "38843 214.80667889 52.83783111 ...     1.1832250762895447 3.3185478205000605\n",
       "23409    214.84438 52.86541194 ...     0.2647193958527293 3.7244447416729165\n",
       "23457   214.846515 52.86718306 ...    0.24630923616321812   5.81267613616776\n",
       "24080 214.83425611 52.86177306 ...    0.38938646716755265    4.2573137898949\n",
       "24708 214.82101806   52.855435 ...    0.29536735366276107  4.738879425155857\n",
       "39316 214.82522889    52.85902 ...    0.37466682062185713  4.879886807927942\n",
       "39334 214.79439806   52.837405 ...     1.3957006565090206  3.757596351993742\n",
       "  ...          ...         ... ...                    ...                ...\n",
       "29875 214.82811389   52.885195 ...     0.7071440129693678   5.85475784956509\n",
       "41199 214.81940111 52.87926889 ...    0.22025960403209305  6.455612374104868\n",
       "29839   214.753015 52.83312694 ...     0.6239933031007641 15.106291364132051\n",
       "30500    214.83338 52.89072694 ...      1.003946035695536  5.378075766844149\n",
       "30151 214.76188111   52.841535 ...     0.8768771054632976  5.776303362959967\n",
       "28756 214.81807306 52.88302694 ...     14.570552149502124 3.1066814907128557\n",
       "40843 214.77192194 52.85231694 ...     0.4996341877670482 10.269851584805698\n",
       "40887 214.81890306    52.88715 ...    0.21713682386165442  5.392803305523632\n",
       "28595 214.81376806 52.88463694 ...     0.6165956765629013  7.108201334449798\n",
       "40756 214.74152889 52.83599889 ...     0.4372116331049694  5.167505309800982"
      ]
     },
     "execution_count": 54,
     "metadata": {},
     "output_type": "execute_result"
    }
   ],
   "source": [
    "tab_phot.write(prep_dir + 'kronphot.csv', format='ascii.csv', overwrite=True)\n",
    "tab_phot"
   ]
  },
  {
   "cell_type": "markdown",
   "metadata": {},
   "source": [
    "# Write to FITS file for GALFIT preparation"
   ]
  },
  {
   "cell_type": "markdown",
   "metadata": {},
   "source": [
    "#### IMGLIST Extension"
   ]
  },
  {
   "cell_type": "code",
   "execution_count": 55,
   "metadata": {},
   "outputs": [
    {
     "name": "stdout",
     "output_type": "stream",
     "text": [
      "./io/image/nircam3/hlsp_ceers_jwst_nircam_nircam3_f115w_dr0.5_i2d.fits\n",
      "./io/image/nircam3/hlsp_ceers_jwst_nircam_nircam3_f150w_dr0.5_i2d.fits\n",
      "./io/image/nircam3/hlsp_ceers_jwst_nircam_nircam3_f200w_dr0.5_i2d.fits\n",
      "./io/image/nircam3/hlsp_ceers_jwst_nircam_nircam3_f277w_dr0.5_i2d.fits\n",
      "./io/image/nircam3/hlsp_ceers_jwst_nircam_nircam3_f356w_dr0.5_i2d.fits\n",
      "./io/image/nircam3/hlsp_ceers_jwst_nircam_nircam3_f410m_dr0.5_i2d.fits\n",
      "./io/image/nircam3/hlsp_ceers_jwst_nircam_nircam3_f444w_dr0.5_i2d.fits\n"
     ]
    }
   ],
   "source": [
    "pregalfit_path = prep_dir + 'pregalfit.fits'\n",
    "\n",
    "# Create an IMGLIST extension\n",
    "hdr_img = fits.Header()\n",
    "hdr_img['EXTNAME'] = 'IMGLIST'\n",
    "\n",
    "tab_img = Table()\n",
    "band_list = []\n",
    "for img_path in img_path_list:\n",
    "    print(img_path)\n",
    "    hdr_pri = fits.getheader(img_path, extname='PRIMARY')\n",
    "    band = hdr_pri['FILTER'].split(' ')[0]\n",
    "    band_list.append(band)\n",
    "tab_img.add_columns([band_list,img_path_list], names=['band', 'img_path'])\n",
    "fits.writeto(pregalfit_path, tab_img.as_array(), header=hdr_img, overwrite=True)"
   ]
  },
  {
   "cell_type": "markdown",
   "metadata": {},
   "source": [
    "#### INIPARAM Extension"
   ]
  },
  {
   "cell_type": "code",
   "execution_count": 56,
   "metadata": {},
   "outputs": [
    {
     "data": {
      "application/vnd.jupyter.widget-view+json": {
       "model_id": "89495615fb714970a72dd6ffde9590ff",
       "version_major": 2,
       "version_minor": 0
      },
      "text/plain": [
       "kron_radius:   0%|          | 0/84 [00:00<?, ?it/s]"
      ]
     },
     "metadata": {},
     "output_type": "display_data"
    }
   ],
   "source": [
    "srccat = SourceCatalog(image_merged_conv, segm_matched, wcs=w, convolved_data=image_merged_conv, progress_bar=True)\n",
    "srctab = srccat.to_table(columns = ['label', 'xcentroid', 'ycentroid','orientation','elongation','semimajor_sigma','semiminor_sigma'])\n",
    "srctab['label'] = srctab['label'].astype(str)\n",
    "kron_rad = srccat.kron_radius*np.sqrt(srccat.semimajor_sigma.value*srccat.semiminor_sigma.value)\n",
    "srctab.add_column(kron_rad, name='kron_radius')\n",
    "tab_final = hstack([tab_phot,srctab])\n",
    "tab_final = tab_final[tab_final.argsort('ID')]"
   ]
  },
  {
   "cell_type": "code",
   "execution_count": 57,
   "metadata": {},
   "outputs": [],
   "source": [
    "# Create a INIPARAM extension\n",
    "hdr_ini = fits.Header()\n",
    "hdr_ini['EXTNAME'] = 'INIPARAM'\n",
    "fits.append(pregalfit_path, tab_final.as_array(), header=hdr_ini, overwrite=True)\n",
    "\n",
    "hdr_segm = fits.Header()\n",
    "hdr_segm['EXTNAME'] = 'SEGMAP'\n",
    "fits.append(pregalfit_path, segm.data, header=hdr_segm, overwrite=True)"
   ]
  },
  {
   "cell_type": "code",
   "execution_count": 58,
   "metadata": {},
   "outputs": [
    {
     "data": {
      "text/html": [
       "<div><i>Table length=84</i>\n",
       "<table id=\"table140401016741072\" class=\"table-striped table-bordered table-condensed\">\n",
       "<thead><tr><th>ID</th><th>RA</th><th>Dec</th><th>comment</th><th>KronPhot_F115W_mag</th><th>KronPhot_F115W_flux</th><th>KronPhot_F115W_fluxerr</th><th>KronPhot_F115W_Re</th><th>KronPhot_F150W_mag</th><th>KronPhot_F150W_flux</th><th>KronPhot_F150W_fluxerr</th><th>KronPhot_F150W_Re</th><th>KronPhot_F200W_mag</th><th>KronPhot_F200W_flux</th><th>KronPhot_F200W_fluxerr</th><th>KronPhot_F200W_Re</th><th>KronPhot_F277W_mag</th><th>KronPhot_F277W_flux</th><th>KronPhot_F277W_fluxerr</th><th>KronPhot_F277W_Re</th><th>KronPhot_F356W_mag</th><th>KronPhot_F356W_flux</th><th>KronPhot_F356W_fluxerr</th><th>KronPhot_F356W_Re</th><th>KronPhot_F410M_mag</th><th>KronPhot_F410M_flux</th><th>KronPhot_F410M_fluxerr</th><th>KronPhot_F410M_Re</th><th>KronPhot_F444W_mag</th><th>KronPhot_F444W_flux</th><th>KronPhot_F444W_fluxerr</th><th>KronPhot_F444W_Re</th><th>label</th><th>xcentroid</th><th>ycentroid</th><th>orientation</th><th>elongation</th><th>semimajor_sigma</th><th>semiminor_sigma</th><th>kron_radius</th></tr></thead>\n",
       "<thead><tr><th>int64</th><th>float64</th><th>float64</th><th>bytes30</th><th>float64</th><th>float64</th><th>float64</th><th>float64</th><th>float64</th><th>float64</th><th>float64</th><th>float64</th><th>float64</th><th>float64</th><th>float64</th><th>float64</th><th>float64</th><th>float64</th><th>float64</th><th>float64</th><th>float64</th><th>float64</th><th>float64</th><th>float64</th><th>float64</th><th>float64</th><th>float64</th><th>float64</th><th>float64</th><th>float64</th><th>float64</th><th>float64</th><th>bytes21</th><th>float64</th><th>float64</th><th>float64</th><th>float64</th><th>float64</th><th>float64</th><th>float64</th></tr></thead>\n",
       "<tr><td>21084</td><td>214.81618889</td><td>52.83324694</td><td>0</td><td>25.810142540767465</td><td>8.138619424297772</td><td>0.665124674956606</td><td>4.984369892284277</td><td>26.154102546702582</td><td>5.928799153245956</td><td>0.5997836400826098</td><td>4.238707064681377</td><td>26.240730813936104</td><td>5.474134090066844</td><td>0.5516650587892723</td><td>4.298849299683731</td><td>25.433084850825498</td><td>11.5179136046657</td><td>0.7192372139046346</td><td>5.867158525286223</td><td>25.750789967796628</td><td>8.595908219765255</td><td>0.6123745724117368</td><td>5.115749132391561</td><td>25.402553953850944</td><td>11.846394070900448</td><td>0.7926817218964874</td><td>5.9294470693880434</td><td>25.607976381393826</td><td>9.804313831280822</td><td>0.6658101399157496</td><td>5.514543311664017</td><td>32235</td><td>6247.165929619373</td><td>314.61364287796636</td><td>76.04687543169383</td><td>1.2706128715647707</td><td>5.289511000473978</td><td>4.162960346812715</td><td>7.89570331924656</td></tr>\n",
       "<tr><td>21722</td><td>214.81303694</td><td>52.83425694</td><td>0</td><td>26.69379153587467</td><td>3.606543232617649</td><td>0.518684990475995</td><td>2.51063693594956</td><td>26.358141544065816</td><td>4.913049494601305</td><td>0.5107602753599336</td><td>4.28396208143458</td><td>26.729899984812665</td><td>3.4885725804166343</td><td>0.3900563671504603</td><td>3.564594734653966</td><td>26.755882673737275</td><td>3.4060787704032487</td><td>0.2736685975866908</td><td>4.761242318660703</td><td>26.70742411805673</td><td>3.5615423239258535</td><td>0.2677395355789626</td><td>5.651513956997017</td><td>25.65969506302568</td><td>9.3482373755585</td><td>0.7356468588617611</td><td>4.328021085769677</td><td>26.245686890195604</td><td>5.449203173033493</td><td>0.4312377957572461</td><td>4.351815152205054</td><td>32834</td><td>6302.224301676149</td><td>564.1455373280204</td><td>36.77293784017468</td><td>1.0275202176374485</td><td>3.2444478671048103</td><td>3.157551366302736</td><td>8.150110216329042</td></tr>\n",
       "<tr><td>21816</td><td>214.86431</td><td>52.87108806</td><td>not deblended properly size=70</td><td>21.838459607910707</td><td>315.6631701522491</td><td>26.522432459998853</td><td>101.50116595417973</td><td>21.56745601993098</td><td>405.15886789006214</td><td>39.70318442180946</td><td>109.47473536451919</td><td>21.729003058976158</td><td>349.1455678217571</td><td>30.914760590675</td><td>86.9083760350937</td><td>22.38848216971229</td><td>190.20191667335814</td><td>3.167021313920093</td><td>63.14725123555107</td><td>22.530035103315498</td><td>166.95280326497664</td><td>3.1200541340135772</td><td>59.9118646045356</td><td>22.438242524122728</td><td>181.68151690628017</td><td>3.720511849056833</td><td>46.655906029201525</td><td>22.544034658746273</td><td>164.81392169901153</td><td>3.2122197352761157</td><td>54.0352397081389</td><td>31988</td><td>530.6782514061899</td><td>583.6674494866996</td><td>-82.5997482632197</td><td>1.291244260842696</td><td>11.76367098837261</td><td>9.110337482309788</td><td>34.50697413128691</td></tr>\n",
       "<tr><td>21820</td><td>214.80360111</td><td>52.82811</td><td>0</td><td>25.711677816382167</td><td>8.911209016434775</td><td>0.759757337763663</td><td>5.4250427085171875</td><td>25.71905592278398</td><td>8.850858298790392</td><td>0.7334441888714192</td><td>5.556352844047447</td><td>25.791900582841308</td><td>8.276515329519848</td><td>0.6946625323481826</td><td>4.928575018656315</td><td>25.381564030796515</td><td>12.077641785654652</td><td>0.8435033855599212</td><td>5.156959707640565</td><td>25.85624394512911</td><td>7.80027975560656</td><td>0.5692969433669535</td><td>4.898416101816928</td><td>26.208530403711674</td><td>5.638915613742904</td><td>0.4537783153058991</td><td>5.091337500918606</td><td>25.9674121399253</td><td>7.041138725666983</td><td>0.4482347312600209</td><td>6.0308209143897535</td><td>32916</td><td>7308.855475951031</td><td>610.1367053784818</td><td>-22.490384621040956</td><td>1.541163087349285</td><td>6.167168031113998</td><td>4.001632326739141</td><td>7.4378716225099595</td></tr>\n",
       "<tr><td>22085</td><td>214.84869389</td><td>52.86134611</td><td>0</td><td>26.04722122899714</td><td>6.5421314383797675</td><td>0.5201700181159405</td><td>12.48326268040173</td><td>26.219238552064</td><td>5.583574768846839</td><td>0.5191664294882204</td><td>9.11609442415304</td><td>25.830995991528546</td><td>7.983794692341803</td><td>0.5255996923141457</td><td>13.174069246543166</td><td>25.250769618617376</td><td>13.623851760269591</td><td>0.727032694493753</td><td>15.315847804473442</td><td>25.560880338017444</td><td>10.238954703403161</td><td>0.5048566163560944</td><td>14.032057163154837</td><td>25.82750105217785</td><td>8.00953560016016</td><td>0.47410631788576857</td><td>13.894835207360583</td><td>25.952167205714254</td><td>7.140701431255151</td><td>0.39803141605155845</td><td>10.249862527937253</td><td>33067</td><td>2146.406920484496</td><td>701.6778055908064</td><td>63.57949074646209</td><td>1.1469232579439181</td><td>4.3722939831485785</td><td>3.8121940180956497</td><td>12.491852622539456</td></tr>\n",
       "<tr><td>22352</td><td>214.79067389</td><td>52.82151806</td><td>0</td><td>26.03970243706568</td><td>6.587593344230474</td><td>0.5093350624759035</td><td>7.6527169502093715</td><td>25.970158236324174</td><td>7.023352440294761</td><td>0.5201988860203844</td><td>7.702559471642103</td><td>25.35433410011423</td><td>12.384375651695553</td><td>0.7065466921123225</td><td>8.437508600991581</td><td>25.02719316346298</td><td>16.739037855543913</td><td>0.8950737125684599</td><td>7.545864014762831</td><td>25.331465022320984</td><td>12.647996827360753</td><td>0.6975944052883528</td><td>6.943777218232441</td><td>25.433441315383984</td><td>11.51413271013952</td><td>0.6161433007706102</td><td>7.623836724215622</td><td>25.19832529783595</td><td>14.298077204763443</td><td>0.6279751903115874</td><td>9.423092648424754</td><td>33287</td><td>8518.154450475071</td><td>813.438062821162</td><td>89.3347226502176</td><td>2.0944613307914888</td><td>9.226392553678844</td><td>4.4051386473639145</td><td>8.925319898545046</td></tr>\n",
       "<tr><td>22569</td><td>214.81194806</td><td>52.83752694</td><td>0</td><td>24.135918887911302</td><td>38.03997315214309</td><td>10.022447470434477</td><td>1.3130721580031783</td><td>24.15996161276473</td><td>37.20686785363446</td><td>9.08923061652074</td><td>1.3916740978057631</td><td>24.311628646104182</td><td>32.35610964749333</td><td>6.988071585266107</td><td>1.5247086926455944</td><td>24.736287128934983</td><td>21.882296853388446</td><td>2.992700257074212</td><td>2.4537465758438257</td><td>24.604075415841034</td><td>24.715966083221424</td><td>3.098179222478663</td><td>2.6076486085827484</td><td>24.67173564413928</td><td>23.22274210583324</td><td>2.674734500066545</td><td>2.854404799432603</td><td>24.861949822621096</td><td>19.490717546362475</td><td>2.119397345722205</td><td>2.9966888785548234</td><td>33286</td><td>6058.088164041714</td><td>878.3667934463008</td><td>-36.07460654185764</td><td>1.0472720816879226</td><td>3.6525302467560894</td><td>3.487661239731691</td><td>4.996801457970421</td></tr>\n",
       "<tr><td>23029</td><td>214.85046111</td><td>52.86756194</td><td>0</td><td>25.480536094320286</td><td>11.02537371480702</td><td>0.6801522003823489</td><td>9.984107799471959</td><td>25.238332116786555</td><td>13.780815241483747</td><td>0.7698785136659644</td><td>11.38707738997169</td><td>24.935873973138595</td><td>18.20782906828139</td><td>0.9158948023092796</td><td>10.0493641251109</td><td>24.469355170881165</td><td>27.981158306665062</td><td>1.2300655972924517</td><td>10.246825601715058</td><td>24.45253582003271</td><td>28.41799469846709</td><td>1.2299209206598665</td><td>10.798458675103003</td><td>24.589171168024624</td><td>25.05758946943271</td><td>1.146016427718757</td><td>11.815201827088526</td><td>24.56739948655594</td><td>25.565127457775827</td><td>1.1033692775127304</td><td>12.304791684365053</td><td>33748</td><td>1497.643261736113</td><td>1078.093907850702</td><td>-57.13776130533054</td><td>1.4345992742168878</td><td>5.936289362184337</td><td>4.137942538291615</td><td>12.754742067948394</td></tr>\n",
       "<tr><td>23395</td><td>214.80698611</td><td>52.83822389</td><td>0</td><td>24.74072836322208</td><td>21.792969529109392</td><td>0.8575765227981613</td><td>12.902155836339203</td><td>25.15212514906652</td><td>14.91961778111937</td><td>0.7788710288144287</td><td>9.594335186439446</td><td>24.907117221721112</td><td>18.696523865367414</td><td>0.803076756936751</td><td>11.218845256782483</td><td>24.433363233920947</td><td>28.92427375937003</td><td>1.0870408167892256</td><td>11.012532888518837</td><td>24.645976092561977</td><td>23.780299492759475</td><td>0.9103630906383968</td><td>10.419774595958312</td><td>24.147032272496006</td><td>37.65258936163032</td><td>1.309774765511162</td><td>11.415294973582881</td><td>24.36854239601917</td><td>30.703705974141037</td><td>1.0930425821016752</td><td>11.170775274704317</td><td>34124</td><td>6222.810812334124</td><td>1202.0481129665977</td><td>-48.45565282168075</td><td>1.9268953285981891</td><td>8.670182402256302</td><td>4.4995606526088965</td><td>12.762932463736368</td></tr>\n",
       "<tr><td>23409</td><td>214.84438</td><td>52.86541194</td><td>0</td><td>26.566669942689593</td><td>4.054523107026343</td><td>0.5037502708472016</td><td>2.872593916817409</td><td>26.556903083414362</td><td>4.09116055597655</td><td>0.4849876103551064</td><td>2.9678896251032443</td><td>26.427516219666487</td><td>4.6089422775274285</td><td>0.45210384083946265</td><td>3.7849624240241315</td><td>25.97643389427983</td><td>6.982873896503436</td><td>0.579208732420454</td><td>4.175980659336097</td><td>26.389593371970463</td><td>4.772768922189157</td><td>0.38532049431662074</td><td>4.206169055737225</td><td>26.872449665675614</td><td>3.0593410258316385</td><td>0.2907074802991059</td><td>4.052248317914331</td><td>26.96642220682819</td><td>2.8056847666774996</td><td>0.2647193958527293</td><td>3.7244447416729165</td><td>5980</td><td>1985.4324527681604</td><td>1251.0642173108718</td><td>41.11230005973413</td><td>1.3249356642420842</td><td>4.377361149288382</td><td>3.3038292102978497</td><td>5.324060960669231</td></tr>\n",
       "<tr><td>...</td><td>...</td><td>...</td><td>...</td><td>...</td><td>...</td><td>...</td><td>...</td><td>...</td><td>...</td><td>...</td><td>...</td><td>...</td><td>...</td><td>...</td><td>...</td><td>...</td><td>...</td><td>...</td><td>...</td><td>...</td><td>...</td><td>...</td><td>...</td><td>...</td><td>...</td><td>...</td><td>...</td><td>...</td><td>...</td><td>...</td><td>...</td><td>...</td><td>...</td><td>...</td><td>...</td><td>...</td><td>...</td><td>...</td><td>...</td></tr>\n",
       "<tr><td>40756</td><td>214.74152889</td><td>52.83599889</td><td>0</td><td>26.31299830365835</td><td>5.121632768503765</td><td>0.38146513180288955</td><td>6.264036373134516</td><td>26.596937683125024</td><td>3.94305362684799</td><td>0.37829381700427467</td><td>5.119046633856474</td><td>25.928114600737782</td><td>7.300656525164498</td><td>0.48851386036634875</td><td>5.782891530290408</td><td>25.88972600581148</td><td>7.563404969845954</td><td>0.5402845614893094</td><td>5.181818585262608</td><td>26.034191098619587</td><td>6.6211178417782115</td><td>0.4287379297670046</td><td>5.748759341996815</td><td>26.512012364985566</td><td>4.263858766230083</td><td>0.4105165391448089</td><td>5.021708261591023</td><td>26.17543520622315</td><td>5.813446424109903</td><td>0.4372116331049694</td><td>5.167505309800982</td><td>42956</td><td>9494.534064768639</td><td>4656.215735578507</td><td>-84.23873854877674</td><td>1.4028678712469116</td><td>5.731046628964552</td><td>4.085236212495638</td><td>6.774131034998377</td></tr>\n",
       "<tr><td>40843</td><td>214.77192194</td><td>52.85231694</td><td>0</td><td>25.81841028882646</td><td>8.076880202032836</td><td>0.4569863404127837</td><td>11.988361528622859</td><td>25.351693611950274</td><td>12.414530852628603</td><td>0.5868137509514828</td><td>16.22591289913765</td><td>25.38222955764777</td><td>12.070240787290746</td><td>0.553761998365445</td><td>10.42322849769246</td><td>25.202904541914847</td><td>14.237900059227155</td><td>0.5715841945746987</td><td>11.074938673730436</td><td>25.141501251432203</td><td>15.06632239303092</td><td>0.5267832652640828</td><td>12.820169092304914</td><td>25.38259292595674</td><td>12.066201860418289</td><td>0.5240605592139777</td><td>10.491324735212666</td><td>25.364718011072227</td><td>12.266496873632239</td><td>0.4996341877670482</td><td>10.269851584805698</td><td>42109</td><td>6576.748459301813</td><td>4241.360039578177</td><td>10.041963972840298</td><td>1.4269285820395425</td><td>6.504845727944261</td><td>4.558634405266963</td><td>12.798682674142613</td></tr>\n",
       "<tr><td>40887</td><td>214.81890306</td><td>52.88715</td><td>0</td><td>27.23259612106257</td><td>2.1956813270932525</td><td>0.29580437922644</td><td>2.7221214943645107</td><td>27.398953029044744</td><td>1.8837642269191575</td><td>0.2775431691059194</td><td>2.7441088795805175</td><td>27.49703757497781</td><td>1.7210469853503345</td><td>0.23725664802167973</td><td>2.823346270141127</td><td>27.09930821133674</td><td>2.4824726494980562</td><td>0.20884710452542868</td><td>4.340909147317647</td><td>26.82292050302531</td><td>3.202134396517028</td><td>0.2523576893886788</td><td>4.303637750932746</td><td>27.267542219351085</td><td>2.126135158451704</td><td>0.2191391453536674</td><td>5.030318395941941</td><td>26.906022508953328</td><td>2.9661885446393343</td><td>0.21713682386165442</td><td>5.392803305523632</td><td>42358</td><td>1185.490198200507</td><td>4343.481611112285</td><td>-52.712735020553524</td><td>1.2592084867643472</td><td>3.871650040226925</td><td>3.0746695888108952</td><td>6.626714639237502</td></tr>\n",
       "<tr><td>40938</td><td>214.79785194</td><td>52.86748611</td><td>0</td><td>26.937253099829725</td><td>2.882083220614293</td><td>0.4585601346759011</td><td>2.8696615387530664</td><td>26.502542877071484</td><td>4.301209596410055</td><td>0.43764107317025347</td><td>5.034548682374642</td><td>26.749978830934722</td><td>3.424650247898244</td><td>0.35097998602040503</td><td>4.677963273682738</td><td>27.034891056408664</td><td>2.6342157031448132</td><td>0.2310410039289305</td><td>4.371036254893765</td><td>26.37050909885225</td><td>4.857402783757857</td><td>0.3531338378600165</td><td>4.940687886178513</td><td>27.929903265175597</td><td>1.1551714607720323</td><td>0.23774880338593468</td><td>3.41264745432373</td><td>26.467002499088874</td><td>4.444334693228535</td><td>0.30607479354730455</td><td>7.042372218289006</td><td>27703</td><td>3971.9228146644105</td><td>3980.5919060499805</td><td>-66.12743504175948</td><td>1.4435465514723484</td><td>5.196949503509041</td><td>3.600126021712567</td><td>8.054775977234884</td></tr>\n",
       "<tr><td>41153</td><td>214.766395</td><td>52.8455</td><td>0</td><td>27.1634914845367</td><td>2.339974706957217</td><td>0.2710751838227355</td><td>3.424603354787382</td><td>26.7566049429796</td><td>3.4038136825949117</td><td>0.30500971255319875</td><td>4.791368389313739</td><td>27.00785085173908</td><td>2.700644479656977</td><td>0.25697756555672174</td><td>4.144884427667567</td><td>27.076480272500238</td><td>2.5352199744818558</td><td>0.24156627248258877</td><td>3.8159167622517636</td><td>27.16297108853214</td><td>2.3410965313525773</td><td>0.18643214767944416</td><td>5.242244123322452</td><td>26.52210440260415</td><td>4.2244093566639265</td><td>0.32936284449337866</td><td>18.334307406632128</td><td>27.816079457462504</td><td>1.28285028180821</td><td>0.2030499150563286</td><td>4.00845784155777</td><td>27924</td><td>7461.12343526029</td><td>4016.1934278761487</td><td>-10.695457809609863</td><td>1.2655143368290278</td><td>3.9938842142854623</td><td>3.1559375489122092</td><td>7.277662586759242</td></tr>\n",
       "<tr><td>41199</td><td>214.81940111</td><td>52.87926889</td><td>0</td><td>26.942637103933027</td><td>2.867826776257192</td><td>0.2899323803321467</td><td>4.805538335731195</td><td>26.75433659018947</td><td>3.410932466490469</td><td>0.324192255003694</td><td>4.915648462873913</td><td>26.963187839758994</td><td>2.814055256925703</td><td>0.30377916664296317</td><td>3.5057892842929057</td><td>26.71569544937116</td><td>3.5345129497222882</td><td>0.3283175126201013</td><td>3.5946309826472294</td><td>26.71830316771766</td><td>3.5260339523556965</td><td>0.25886881965071984</td><td>4.830820461622484</td><td>27.00710515019266</td><td>2.7024999639777034</td><td>0.23387427814043787</td><td>6.108671446920974</td><td>27.005472491442006</td><td>2.706566862817794</td><td>0.22025960403209305</td><td>6.455612374104868</td><td>40980</td><td>1884.8264168492226</td><td>3706.84499382301</td><td>50.603209690236774</td><td>1.2471486741882978</td><td>4.061806719888826</td><td>3.256874504182461</td><td>7.208835284398592</td></tr>\n",
       "<tr><td>41211</td><td>214.80270111</td><td>52.86632889</td><td>0</td><td>27.365201773108936</td><td>1.9432427123643987</td><td>0.28198908502619235</td><td>2.5714409889187184</td><td>26.740934704500827</td><td>3.4532965528252024</td><td>0.37773215583398817</td><td>3.792923860250856</td><td>26.836765103452635</td><td>3.1615620913026383</td><td>0.36537420046862823</td><td>3.1005320873385536</td><td>26.157707367829925</td><td>5.909147215792148</td><td>0.3877972779571259</td><td>5.559810228445013</td><td>26.25922840618117</td><td>5.381661707586693</td><td>0.3201916122063717</td><td>6.637684807894062</td><td>26.75987139150552</td><td>3.393588662913719</td><td>0.33140382067842444</td><td>5.601582496644146</td><td>26.888387505574368</td><td>3.0147600714216667</td><td>0.27061355657045144</td><td>4.695411586268578</td><td>40789</td><td>3852.892196706017</td><td>3623.988796172816</td><td>-6.671591834902379</td><td>1.0972593245948887</td><td>4.5628321240043235</td><td>4.158389928186698</td><td>8.996419072412051</td></tr>\n",
       "<tr><td>41217</td><td>214.75079306</td><td>52.82839889</td><td>0</td><td>26.66268781499713</td><td>3.711356138896336</td><td>1.0844856671475338</td><td>1.1818705162391065</td><td>26.541275016858528</td><td>4.1504745020712095</td><td>1.0840067641586666</td><td>1.2803233965504552</td><td>26.75116269104615</td><td>3.4209181283915466</td><td>0.7383840117559481</td><td>1.5806683482875448</td><td>27.143742972950836</td><td>2.3829260651321578</td><td>0.32482038129431756</td><td>2.537664566160231</td><td>27.500601493743574</td><td>1.7154069267731662</td><td>0.1991458958275206</td><td>2.9261692614888237</td><td>28.003215177925846</td><td>1.0797462036134238</td><td>0.16221045098085715</td><td>3.1273775735986797</td><td>27.65822264665305</td><td>1.4836064004329785</td><td>0.19069228257767162</td><td>3.832742251402466</td><td>24742</td><td>9756.009725007329</td><td>3553.0811673468643</td><td>-33.45274899876862</td><td>1.4213622559628463</td><td>3.5164738626117753</td><td>2.4740166328883397</td><td>4.129362790725529</td></tr>\n",
       "<tr><td>41401</td><td>214.80442611</td><td>52.86715806</td><td>0</td><td>25.921733072512357</td><td>7.343693250840383</td><td>0.438265371679399</td><td>11.929194049361964</td><td>25.459996579565676</td><td>11.235932592602108</td><td>0.5790389223989014</td><td>17.971776780190403</td><td>25.531019966307174</td><td>10.524458753111428</td><td>0.5103462918395112</td><td>16.156667487194458</td><td>25.324884672718483</td><td>12.724885635720884</td><td>0.5320175499003441</td><td>12.698424017597109</td><td>25.341020054540017</td><td>12.537176359618392</td><td>0.49838320327685603</td><td>12.559652319556616</td><td>25.323433615006472</td><td>12.741903478121918</td><td>0.5512844947416317</td><td>12.688678050694426</td><td>25.660225914155234</td><td>9.343667840732076</td><td>0.4459022177859181</td><td>11.268749271456148</td><td>40689</td><td>3694.206511318725</td><td>3588.3262737552764</td><td>85.32830362384362</td><td>2.077262792472089</td><td>7.995776127767671</td><td>3.8491885363489007</td><td>11.744325100814292</td></tr>\n",
       "<tr><td>41427</td><td>214.762505</td><td>52.83828306</td><td>size=60</td><td>26.02196292238439</td><td>6.696110132072757</td><td>0.5531180082198575</td><td>9.2703457385909</td><td>23.771613897209377</td><td>53.20619453807453</td><td>2.738417193387957</td><td>68.28252332302013</td><td>24.394382737583268</td><td>29.981590070135212</td><td>0.9804516921722377</td><td>47.62893851954426</td><td>24.466074577635545</td><td>28.065832299355904</td><td>0.8753825849569722</td><td>19.242412817652376</td><td>23.930976748606795</td><td>45.94275742874279</td><td>1.1014779015155518</td><td>47.566665332977024</td><td>24.05946472711109</td><td>40.81519409114802</td><td>1.0549679892717254</td><td>36.697785426860925</td><td>23.935750925995805</td><td>45.74118236607524</td><td>1.3093681247739133</td><td>47.73846826600853</td><td>40829</td><td>8302.53431493798</td><td>3673.011190163385</td><td>14.603438080324015</td><td>1.1704139755483078</td><td>7.989090266215814</td><td>6.825867114644746</td><td>21.781310687319003</td></tr>\n",
       "</table></div>"
      ],
      "text/plain": [
       "<Table length=84>\n",
       "  ID       RA          Dec     ...  semiminor_sigma      kron_radius    \n",
       "int64   float64      float64   ...      float64            float64      \n",
       "----- ------------ ----------- ... ------------------ ------------------\n",
       "21084 214.81618889 52.83324694 ...  4.162960346812715   7.89570331924656\n",
       "21722 214.81303694 52.83425694 ...  3.157551366302736  8.150110216329042\n",
       "21816    214.86431 52.87108806 ...  9.110337482309788  34.50697413128691\n",
       "21820 214.80360111    52.82811 ...  4.001632326739141 7.4378716225099595\n",
       "22085 214.84869389 52.86134611 ... 3.8121940180956497 12.491852622539456\n",
       "22352 214.79067389 52.82151806 ... 4.4051386473639145  8.925319898545046\n",
       "22569 214.81194806 52.83752694 ...  3.487661239731691  4.996801457970421\n",
       "23029 214.85046111 52.86756194 ...  4.137942538291615 12.754742067948394\n",
       "23395 214.80698611 52.83822389 ... 4.4995606526088965 12.762932463736368\n",
       "23409    214.84438 52.86541194 ... 3.3038292102978497  5.324060960669231\n",
       "  ...          ...         ... ...                ...                ...\n",
       "40756 214.74152889 52.83599889 ...  4.085236212495638  6.774131034998377\n",
       "40843 214.77192194 52.85231694 ...  4.558634405266963 12.798682674142613\n",
       "40887 214.81890306    52.88715 ... 3.0746695888108952  6.626714639237502\n",
       "40938 214.79785194 52.86748611 ...  3.600126021712567  8.054775977234884\n",
       "41153   214.766395     52.8455 ... 3.1559375489122092  7.277662586759242\n",
       "41199 214.81940111 52.87926889 ...  3.256874504182461  7.208835284398592\n",
       "41211 214.80270111 52.86632889 ...  4.158389928186698  8.996419072412051\n",
       "41217 214.75079306 52.82839889 ... 2.4740166328883397  4.129362790725529\n",
       "41401 214.80442611 52.86715806 ... 3.8491885363489007 11.744325100814292\n",
       "41427   214.762505 52.83828306 ...  6.825867114644746 21.781310687319003"
      ]
     },
     "execution_count": 58,
     "metadata": {},
     "output_type": "execute_result"
    }
   ],
   "source": [
    "tab_test = Table.read('./io/prep/nircam3/pregalfit.fits', hdu='INIPARAM')\n",
    "tab_test"
   ]
  }
 ],
 "metadata": {
  "kernelspec": {
   "display_name": "galfit3",
   "language": "python",
   "name": "python3"
  },
  "language_info": {
   "codemirror_mode": {
    "name": "ipython",
    "version": 3
   },
   "file_extension": ".py",
   "mimetype": "text/x-python",
   "name": "python",
   "nbconvert_exporter": "python",
   "pygments_lexer": "ipython3",
   "version": "3.9.0"
  }
 },
 "nbformat": 4,
 "nbformat_minor": 2
}
