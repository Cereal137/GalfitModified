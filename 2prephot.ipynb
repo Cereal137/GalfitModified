{
 "cells": [
  {
   "cell_type": "markdown",
   "metadata": {},
   "source": [
    "# Pre-Photometry before measuring with GALFITM"
   ]
  },
  {
   "cell_type": "code",
   "execution_count": 53,
   "metadata": {},
   "outputs": [],
   "source": [
    "import numpy as np\n",
    "import matplotlib.pyplot as plt\n",
    "import warnings\n",
    "warnings.filterwarnings(\"ignore\")\n",
    "\n",
    "from astropy.io import fits"
   ]
  },
  {
   "cell_type": "code",
   "execution_count": 87,
   "metadata": {},
   "outputs": [],
   "source": [
    "img_name = 'nircam6'\n",
    "img_dir = f'../data/image/{img_name}/'\n",
    "img_merged_path = f'./io/image/{img_name}/merged.fits'\n",
    "\n",
    "match_dir = f'./io/match/{img_name}/'\n",
    "prep_dir = f'./io/prep/{img_name}/'"
   ]
  },
  {
   "cell_type": "markdown",
   "metadata": {},
   "source": [
    "## Create Source Catalog"
   ]
  },
  {
   "cell_type": "code",
   "execution_count": 88,
   "metadata": {},
   "outputs": [],
   "source": [
    "from photutils.segmentation import SegmentationImage\n",
    "from photutils.segmentation import SourceCatalog\n",
    "from astropy.wcs import WCS\n",
    "from astropy.table import Table, hstack"
   ]
  },
  {
   "cell_type": "code",
   "execution_count": 89,
   "metadata": {},
   "outputs": [],
   "source": [
    "with fits.open(img_merged_path) as hdul:\n",
    "    segm = SegmentationImage(hdul['SEGMAP'].data)\n",
    "    w = WCS(hdul['MERGED'].header)\n",
    "    image_merged_conv = hdul['SCI_BKSUB_CONV'].data"
   ]
  },
  {
   "cell_type": "code",
   "execution_count": 90,
   "metadata": {},
   "outputs": [],
   "source": [
    "tab_ref_matched_selected = Table.read(match_dir + 'matchlog.csv', format='ascii.csv')\n",
    "tab_sorted = tab_ref_matched_selected[tab_ref_matched_selected.argsort('label')] # sort by label\n",
    "tab_sorted = tab_sorted[tab_sorted['label'] != -1]\n",
    "\n",
    "label_column = np.int64(tab_sorted['label'])\n",
    "id_column = np.array(tab_sorted['ID'])\n",
    "ra_column = tab_sorted['RA']\n",
    "dec_column = tab_sorted['Dec']\n",
    "comment_column = tab_sorted['comment']\n",
    "segm_matched = segm.copy()\n",
    "segm_matched.keep_labels(label_column)"
   ]
  },
  {
   "cell_type": "markdown",
   "metadata": {},
   "source": [
    "# Do photometry in every band with SourceCatalog"
   ]
  },
  {
   "cell_type": "code",
   "execution_count": 91,
   "metadata": {},
   "outputs": [
    {
     "data": {
      "text/plain": [
       "['../data/image/nircam6/hlsp_ceers_jwst_nircam_nircam6_f115w_dr0.5_i2d.fits',\n",
       " '../data/image/nircam6/hlsp_ceers_jwst_nircam_nircam6_f150w_dr0.5_i2d.fits',\n",
       " '../data/image/nircam6/hlsp_ceers_jwst_nircam_nircam6_f200w_dr0.5_i2d.fits',\n",
       " '../data/image/nircam6/hlsp_ceers_jwst_nircam_nircam6_f277w_dr0.5_i2d.fits',\n",
       " '../data/image/nircam6/hlsp_ceers_jwst_nircam_nircam6_f356w_dr0.5_i2d.fits',\n",
       " '../data/image/nircam6/hlsp_ceers_jwst_nircam_nircam6_f410m_dr0.5_i2d.fits',\n",
       " '../data/image/nircam6/hlsp_ceers_jwst_nircam_nircam6_f444w_dr0.5_i2d.fits']"
      ]
     },
     "execution_count": 91,
     "metadata": {},
     "output_type": "execute_result"
    }
   ],
   "source": [
    "import glob\n",
    "img_path_list = glob.glob(img_dir + 'hlsp*.fits')\n",
    "img_path_list.sort()\n",
    "img_path_list"
   ]
  },
  {
   "cell_type": "code",
   "execution_count": 92,
   "metadata": {},
   "outputs": [
    {
     "name": "stdout",
     "output_type": "stream",
     "text": [
      "ZERO_POINT: 28.086519392283982\n"
     ]
    }
   ],
   "source": [
    "from utils.zeropoint import calc_zpt\n",
    "PIXAR_SR = 2.11539874851881E-14\n",
    "ZERO_POINT =  -6.10 -2.5 * np.log10(PIXAR_SR)\n",
    "print(f'ZERO_POINT: {ZERO_POINT}')\n",
    "def flux_to_mag(flux, zero_point=ZERO_POINT):\n",
    "    return -2.5 * np.log10(flux) + zero_point"
   ]
  },
  {
   "cell_type": "code",
   "execution_count": 93,
   "metadata": {},
   "outputs": [
    {
     "name": "stdout",
     "output_type": "stream",
     "text": [
      "No duplicate ID\n"
     ]
    }
   ],
   "source": [
    "#check duplicate\n",
    "from collections import Counter\n",
    "counter = Counter(label_column)\n",
    "duplicates = [k for k, v in counter.items() if v > 1]\n",
    "if len(duplicates) > 0:\n",
    "    print(f'Duplicate ID: {duplicates}')\n",
    "    raise ValueError('Duplicate ID')\n",
    "else:\n",
    "    print('No duplicate ID')"
   ]
  },
  {
   "cell_type": "code",
   "execution_count": 94,
   "metadata": {},
   "outputs": [],
   "source": [
    "tab_phot = Table([id_column, ra_column, dec_column, comment_column], names=['ID', 'RA', 'Dec', 'comment'])\n",
    "band_list = []\n",
    "for i,img_path in enumerate(img_path_list):\n",
    "    sci = fits.getdata(img_path, hdu='SCI_BKSUB')\n",
    "    err = fits.getdata(img_path, hdu='ERR')\n",
    "    hdr_pri = fits.getheader(img_path, extname='PRIMARY')\n",
    "    band = hdr_pri['FILTER'].split(' ')[0]\n",
    "    key_tab = f'KronPhot_{band}_mag'\n",
    "    cat_sci = SourceCatalog(sci, segm_matched, error=err)\n",
    "    flux_list = cat_sci.kron_flux\n",
    "    fluxerr_list = cat_sci.kron_fluxerr\n",
    "    re_list = cat_sci.fluxfrac_radius(0.5)\n",
    "    x, y = cat_sci.xcentroid, cat_sci.ycentroid\n",
    "    mag_list = []\n",
    "    for j in range(len(flux_list)):\n",
    "        x_pix, y_pix, flux = x[j], y[j], flux_list[j]\n",
    "        zpt = calc_zpt(x_pix, y_pix, 'CR0')[i]\n",
    "        mag = flux_to_mag(flux, zero_point= zpt)\n",
    "        mag_list.append(mag)\n",
    "    tab_phot.add_columns([mag_list, flux_list, fluxerr_list, re_list], names=[key_tab, key_tab.replace('mag', 'flux'), key_tab.replace('mag', 'fluxerr'), key_tab.replace('mag', 'Re')])"
   ]
  },
  {
   "cell_type": "code",
   "execution_count": 95,
   "metadata": {},
   "outputs": [
    {
     "data": {
      "text/html": [
       "<i>Row index=0</i>\n",
       "<table id=\"table140575160157376\">\n",
       "<thead><tr><th>ID</th><th>RA</th><th>Dec</th><th>comment</th><th>KronPhot_F115W_mag</th><th>KronPhot_F115W_flux</th><th>KronPhot_F115W_fluxerr</th><th>KronPhot_F115W_Re</th><th>KronPhot_F150W_mag</th><th>KronPhot_F150W_flux</th><th>KronPhot_F150W_fluxerr</th><th>KronPhot_F150W_Re</th><th>KronPhot_F200W_mag</th><th>KronPhot_F200W_flux</th><th>KronPhot_F200W_fluxerr</th><th>KronPhot_F200W_Re</th><th>KronPhot_F277W_mag</th><th>KronPhot_F277W_flux</th><th>KronPhot_F277W_fluxerr</th><th>KronPhot_F277W_Re</th><th>KronPhot_F356W_mag</th><th>KronPhot_F356W_flux</th><th>KronPhot_F356W_fluxerr</th><th>KronPhot_F356W_Re</th><th>KronPhot_F410M_mag</th><th>KronPhot_F410M_flux</th><th>KronPhot_F410M_fluxerr</th><th>KronPhot_F410M_Re</th><th>KronPhot_F444W_mag</th><th>KronPhot_F444W_flux</th><th>KronPhot_F444W_fluxerr</th><th>KronPhot_F444W_Re</th></tr></thead>\n",
       "<thead><tr><th></th><th></th><th></th><th></th><th></th><th></th><th></th><th>pix</th><th></th><th></th><th></th><th>pix</th><th></th><th></th><th></th><th>pix</th><th></th><th></th><th></th><th>pix</th><th></th><th></th><th></th><th>pix</th><th></th><th></th><th></th><th>pix</th><th></th><th></th><th></th><th>pix</th></tr></thead>\n",
       "<thead><tr><th>int64</th><th>float64</th><th>float64</th><th>int64</th><th>float64</th><th>float64</th><th>float64</th><th>float64</th><th>float64</th><th>float64</th><th>float64</th><th>float64</th><th>float64</th><th>float64</th><th>float64</th><th>float64</th><th>float64</th><th>float64</th><th>float64</th><th>float64</th><th>float64</th><th>float64</th><th>float64</th><th>float64</th><th>float64</th><th>float64</th><th>float64</th><th>float64</th><th>float64</th><th>float64</th><th>float64</th><th>float64</th></tr></thead>\n",
       "<tr><td>35055</td><td>214.845323</td><td>52.799402</td><td>--</td><td>27.33206220914366</td><td>2.0034701364250433</td><td>0.33934832644644014</td><td>2.0196201129870546</td><td>26.956867760124243</td><td>2.830483664949673</td><td>0.3656981499872501</td><td>2.7943658282267334</td><td>26.82717681606334</td><td>3.1896059330007</td><td>0.3748660098783123</td><td>2.9400356791596054</td><td>26.879959219035484</td><td>3.038253936724298</td><td>0.31511939132067557</td><td>3.232427226454702</td><td>27.15206226249869</td><td>2.364737028727041</td><td>0.2224313373053323</td><td>3.6123770659312653</td><td>27.408260650806</td><td>1.8676844226823595</td><td>0.20028403753456192</td><td>3.912943546378243</td><td>27.24473857534574</td><td>2.1712624753586542</td><td>0.1963323271018021</td><td>5.0805725478008625</td></tr>\n",
       "</table>"
      ],
      "text/plain": [
       "<Row index=0>\n",
       "  ID      RA        Dec    comment KronPhot_F115W_mag KronPhot_F115W_flux KronPhot_F115W_fluxerr KronPhot_F115W_Re  KronPhot_F150W_mag KronPhot_F150W_flux KronPhot_F150W_fluxerr KronPhot_F150W_Re  KronPhot_F200W_mag KronPhot_F200W_flux KronPhot_F200W_fluxerr KronPhot_F200W_Re  KronPhot_F277W_mag KronPhot_F277W_flux KronPhot_F277W_fluxerr KronPhot_F277W_Re KronPhot_F356W_mag KronPhot_F356W_flux KronPhot_F356W_fluxerr KronPhot_F356W_Re  KronPhot_F410M_mag KronPhot_F410M_flux KronPhot_F410M_fluxerr KronPhot_F410M_Re KronPhot_F444W_mag KronPhot_F444W_flux KronPhot_F444W_fluxerr KronPhot_F444W_Re \n",
       "                                                                                                        pix                                                                              pix                                                                              pix                                                                              pix                                                                             pix                                                                              pix                                                                             pix        \n",
       "int64  float64    float64   int64       float64             float64              float64              float64            float64             float64              float64              float64            float64             float64              float64              float64            float64             float64              float64              float64           float64             float64              float64              float64            float64             float64              float64              float64           float64             float64              float64              float64      \n",
       "----- ---------- --------- ------- ------------------ ------------------- ---------------------- ------------------ ------------------ ------------------- ---------------------- ------------------ ------------------ ------------------- ---------------------- ------------------ ------------------ ------------------- ---------------------- ----------------- ------------------ ------------------- ---------------------- ------------------ ------------------ ------------------- ---------------------- ----------------- ------------------ ------------------- ---------------------- ------------------\n",
       "35055 214.845323 52.799402      --  27.33206220914366  2.0034701364250433    0.33934832644644014 2.0196201129870546 26.956867760124243   2.830483664949673     0.3656981499872501 2.7943658282267334  26.82717681606334     3.1896059330007     0.3748660098783123 2.9400356791596054 26.879959219035484   3.038253936724298    0.31511939132067557 3.232427226454702  27.15206226249869   2.364737028727041     0.2224313373053323 3.6123770659312653    27.408260650806  1.8676844226823595    0.20028403753456192 3.912943546378243  27.24473857534574  2.1712624753586542     0.1963323271018021 5.0805725478008625"
      ]
     },
     "execution_count": 95,
     "metadata": {},
     "output_type": "execute_result"
    }
   ],
   "source": [
    "tab_phot.write(prep_dir + 'kronphot.csv', format='ascii.csv', overwrite=True)\n",
    "tab_phot[0]"
   ]
  },
  {
   "cell_type": "markdown",
   "metadata": {},
   "source": [
    "# Write to FITS file for GALFIT preparation"
   ]
  },
  {
   "cell_type": "markdown",
   "metadata": {},
   "source": [
    "#### IMGLIST Extension"
   ]
  },
  {
   "cell_type": "code",
   "execution_count": 96,
   "metadata": {},
   "outputs": [
    {
     "name": "stdout",
     "output_type": "stream",
     "text": [
      "../data/image/nircam6/hlsp_ceers_jwst_nircam_nircam6_f115w_dr0.5_i2d.fits\n",
      "../data/image/nircam6/hlsp_ceers_jwst_nircam_nircam6_f150w_dr0.5_i2d.fits\n",
      "../data/image/nircam6/hlsp_ceers_jwst_nircam_nircam6_f200w_dr0.5_i2d.fits\n",
      "../data/image/nircam6/hlsp_ceers_jwst_nircam_nircam6_f277w_dr0.5_i2d.fits\n",
      "../data/image/nircam6/hlsp_ceers_jwst_nircam_nircam6_f356w_dr0.5_i2d.fits\n",
      "../data/image/nircam6/hlsp_ceers_jwst_nircam_nircam6_f410m_dr0.5_i2d.fits\n",
      "../data/image/nircam6/hlsp_ceers_jwst_nircam_nircam6_f444w_dr0.5_i2d.fits\n"
     ]
    }
   ],
   "source": [
    "pregalfit_path = prep_dir + 'pregalfit.fits'\n",
    "\n",
    "# Create an IMGLIST extension\n",
    "hdr_img = fits.Header()\n",
    "hdr_img['EXTNAME'] = 'IMGLIST'\n",
    "\n",
    "tab_img = Table()\n",
    "band_list = []\n",
    "for img_path in img_path_list:\n",
    "    print(img_path)\n",
    "    hdr_pri = fits.getheader(img_path, extname='PRIMARY')\n",
    "    band = hdr_pri['FILTER'].split(' ')[0]\n",
    "    band_list.append(band)\n",
    "tab_img.add_columns([band_list,img_path_list], names=['band', 'img_path'])\n",
    "fits.writeto(pregalfit_path, tab_img.as_array(), header=hdr_img, overwrite=True)"
   ]
  },
  {
   "cell_type": "markdown",
   "metadata": {},
   "source": [
    "#### INIPARAM Extension"
   ]
  },
  {
   "cell_type": "code",
   "execution_count": 97,
   "metadata": {},
   "outputs": [
    {
     "data": {
      "application/vnd.jupyter.widget-view+json": {
       "model_id": "16626206bce84804a7e773c51a073d86",
       "version_major": 2,
       "version_minor": 0
      },
      "text/plain": [
       "kron_radius:   0%|          | 0/89 [00:00<?, ?it/s]"
      ]
     },
     "metadata": {},
     "output_type": "display_data"
    }
   ],
   "source": [
    "srccat = SourceCatalog(image_merged_conv, segm_matched, wcs=w, convolved_data=image_merged_conv, progress_bar=True)\n",
    "srctab = srccat.to_table(columns = ['label', 'xcentroid', 'ycentroid','orientation','elongation','semimajor_sigma','semiminor_sigma'])\n",
    "srctab['label'] = srctab['label'].astype(str)\n",
    "kron_rad = srccat.kron_radius*np.sqrt(srccat.semimajor_sigma.value*srccat.semiminor_sigma.value)\n",
    "srctab.add_column(kron_rad, name='kron_radius')\n",
    "tab_final = hstack([tab_phot,srctab])\n",
    "tab_final = tab_final[tab_final.argsort('ID')]"
   ]
  },
  {
   "cell_type": "code",
   "execution_count": 98,
   "metadata": {},
   "outputs": [],
   "source": [
    "# Create a INIPARAM extension\n",
    "hdr_ini = fits.Header()\n",
    "hdr_ini['EXTNAME'] = 'INIPARAM'\n",
    "fits.append(pregalfit_path, tab_final.as_array(), header=hdr_ini, overwrite=True)\n",
    "\n",
    "hdr_segm = fits.Header()\n",
    "hdr_segm['EXTNAME'] = 'SEGMAP'\n",
    "fits.append(pregalfit_path, segm.data, header=hdr_segm, overwrite=True)"
   ]
  }
 ],
 "metadata": {
  "kernelspec": {
   "display_name": "galfit3",
   "language": "python",
   "name": "python3"
  },
  "language_info": {
   "codemirror_mode": {
    "name": "ipython",
    "version": 3
   },
   "file_extension": ".py",
   "mimetype": "text/x-python",
   "name": "python",
   "nbconvert_exporter": "python",
   "pygments_lexer": "ipython3",
   "version": "3.9.0"
  }
 },
 "nbformat": 4,
 "nbformat_minor": 2
}
