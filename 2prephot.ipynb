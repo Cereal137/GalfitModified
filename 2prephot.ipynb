{
 "cells": [
  {
   "cell_type": "markdown",
   "metadata": {},
   "source": [
    "# Pre-Photometry before measuring with GALFITM"
   ]
  },
  {
   "cell_type": "code",
   "execution_count": 240,
   "metadata": {},
   "outputs": [],
   "source": [
    "from astropy.io import fits\n",
    "import numpy as np\n",
    "import matplotlib.pyplot as plt"
   ]
  },
  {
   "cell_type": "code",
   "execution_count": 289,
   "metadata": {},
   "outputs": [],
   "source": [
    "img_name = 'nircam6'\n",
    "img_dir = f'./io/image/{img_name}/'\n",
    "img_merged_path = img_dir + 'merged.fits'\n",
    "\n",
    "match_dir = f'./io/match/{img_name}/'\n",
    "prep_dir = f'./io/prep/{img_name}/'"
   ]
  },
  {
   "cell_type": "markdown",
   "metadata": {},
   "source": [
    "## Create Source Catalog"
   ]
  },
  {
   "cell_type": "code",
   "execution_count": 290,
   "metadata": {},
   "outputs": [],
   "source": [
    "from photutils.segmentation import SegmentationImage\n",
    "from photutils.segmentation import SourceCatalog\n",
    "from astropy.wcs import WCS\n",
    "from astropy.table import Table, hstack"
   ]
  },
  {
   "cell_type": "code",
   "execution_count": 291,
   "metadata": {},
   "outputs": [
    {
     "name": "stderr",
     "output_type": "stream",
     "text": [
      "WARNING: FITSFixedWarning: 'obsfix' made the change 'Set OBSGEO-L to   -74.661170 from OBSGEO-[XYZ].\n",
      "Set OBSGEO-B to   -36.864348 from OBSGEO-[XYZ].\n",
      "Set OBSGEO-H to 1725861996.312 from OBSGEO-[XYZ]'. [astropy.wcs.wcs]\n"
     ]
    }
   ],
   "source": [
    "with fits.open(img_merged_path) as hdul:\n",
    "    segm = SegmentationImage(hdul['SEGMAP'].data)\n",
    "    w = WCS(hdul['MERGED'].header)\n",
    "    image_merged_conv = hdul['SCI_BKSUB_CONV'].data"
   ]
  },
  {
   "cell_type": "code",
   "execution_count": 292,
   "metadata": {},
   "outputs": [
    {
     "data": {
      "text/html": [
       "<div><i>Table length=89</i>\n",
       "<table id=\"table140569488051072\" class=\"table-striped table-bordered table-condensed\">\n",
       "<thead><tr><th>RA</th><th>DEC</th><th>Seq</th><th>label</th><th>comment</th></tr></thead>\n",
       "<thead><tr><th>float64</th><th>float64</th><th>int64</th><th>int64</th><th>str40</th></tr></thead>\n",
       "<tr><td>214.90334111</td><td>52.83908694</td><td>10209</td><td>387</td><td>--</td></tr>\n",
       "<tr><td>214.84532306</td><td>52.79940194</td><td>35055</td><td>1205</td><td>--</td></tr>\n",
       "<tr><td>214.91021194</td><td>52.84682611</td><td>35114</td><td>1622</td><td>--</td></tr>\n",
       "<tr><td>214.89828111</td><td>52.83950806</td><td>10990</td><td>2030</td><td>--</td></tr>\n",
       "<tr><td>214.85173889</td><td>52.80803194</td><td>11320</td><td>2647</td><td>--</td></tr>\n",
       "<tr><td>214.88461</td><td>52.83265806</td><td>35343</td><td>3135</td><td>--</td></tr>\n",
       "<tr><td>214.853215</td><td>52.81082306</td><td>11682</td><td>3332</td><td>--</td></tr>\n",
       "<tr><td>214.91408</td><td>52.856145</td><td>35490</td><td>4196</td><td>--</td></tr>\n",
       "<tr><td>214.83265889</td><td>52.798735</td><td>12198</td><td>4447</td><td>--</td></tr>\n",
       "<tr><td>214.89810806</td><td>52.84576111</td><td>35545</td><td>4642</td><td>--</td></tr>\n",
       "<tr><td>...</td><td>...</td><td>...</td><td>...</td><td>...</td></tr>\n",
       "<tr><td>214.85886111</td><td>52.85149389</td><td>18709</td><td>37912</td><td>--</td></tr>\n",
       "<tr><td>214.81494389</td><td>52.82227889</td><td>19098</td><td>38301</td><td>heavily blended with 38302</td></tr>\n",
       "<tr><td>214.83064194</td><td>52.83531389</td><td>19470</td><td>38557</td><td>--</td></tr>\n",
       "<tr><td>214.80487111</td><td>52.817145</td><td>19473</td><td>38586</td><td>--</td></tr>\n",
       "<tr><td>214.85582194</td><td>52.85467889</td><td>19696</td><td>38656</td><td>blended with 38657</td></tr>\n",
       "<tr><td>214.81706889</td><td>52.82869889</td><td>20001</td><td>38951</td><td>--</td></tr>\n",
       "<tr><td>214.85983306</td><td>52.86065611</td><td>20341</td><td>39106</td><td>--</td></tr>\n",
       "<tr><td>214.80860306</td><td>52.82407194</td><td>20290</td><td>39137</td><td>--</td></tr>\n",
       "<tr><td>214.86927111</td><td>52.86826</td><td>38038</td><td>39249</td><td>heavily blended with 39250 etc ring-like</td></tr>\n",
       "<tr><td>214.81618889</td><td>52.83324694</td><td>21084</td><td>39675</td><td>--</td></tr>\n",
       "</table></div>"
      ],
      "text/plain": [
       "<Table length=89>\n",
       "     RA          DEC      Seq  label                 comment                 \n",
       "  float64      float64   int64 int64                  str40                  \n",
       "------------ ----------- ----- ----- ----------------------------------------\n",
       "214.90334111 52.83908694 10209   387                                       --\n",
       "214.84532306 52.79940194 35055  1205                                       --\n",
       "214.91021194 52.84682611 35114  1622                                       --\n",
       "214.89828111 52.83950806 10990  2030                                       --\n",
       "214.85173889 52.80803194 11320  2647                                       --\n",
       "   214.88461 52.83265806 35343  3135                                       --\n",
       "  214.853215 52.81082306 11682  3332                                       --\n",
       "   214.91408   52.856145 35490  4196                                       --\n",
       "214.83265889   52.798735 12198  4447                                       --\n",
       "214.89810806 52.84576111 35545  4642                                       --\n",
       "         ...         ...   ...   ...                                      ...\n",
       "214.85886111 52.85149389 18709 37912                                       --\n",
       "214.81494389 52.82227889 19098 38301               heavily blended with 38302\n",
       "214.83064194 52.83531389 19470 38557                                       --\n",
       "214.80487111   52.817145 19473 38586                                       --\n",
       "214.85582194 52.85467889 19696 38656                       blended with 38657\n",
       "214.81706889 52.82869889 20001 38951                                       --\n",
       "214.85983306 52.86065611 20341 39106                                       --\n",
       "214.80860306 52.82407194 20290 39137                                       --\n",
       "214.86927111    52.86826 38038 39249 heavily blended with 39250 etc ring-like\n",
       "214.81618889 52.83324694 21084 39675                                       --"
      ]
     },
     "execution_count": 292,
     "metadata": {},
     "output_type": "execute_result"
    }
   ],
   "source": [
    "tab_ref_matched_selected = Table.read(match_dir + 'matchlog.csv', format='ascii.csv')\n",
    "tab_sorted = tab_ref_matched_selected[tab_ref_matched_selected.argsort('label')] # sort by label\n",
    "tab_sorted = tab_sorted[tab_sorted['label'] != -1]\n",
    "tab_sorted"
   ]
  },
  {
   "cell_type": "code",
   "execution_count": 293,
   "metadata": {},
   "outputs": [],
   "source": [
    "label_column = np.int64(tab_sorted['label'])\n",
    "seq_column = np.int64(tab_sorted['Seq'])\n",
    "comment_column = tab_sorted['comment']\n",
    "segm_matched = segm.copy()\n",
    "segm_matched.keep_labels(label_column)"
   ]
  },
  {
   "cell_type": "markdown",
   "metadata": {},
   "source": [
    "# Do photometry in every band with SourceCatalog"
   ]
  },
  {
   "cell_type": "code",
   "execution_count": 294,
   "metadata": {},
   "outputs": [
    {
     "data": {
      "text/plain": [
       "['./io/image/nircam6/hlsp_ceers_jwst_nircam_nircam6_f115w_dr0.5_i2d.fits',\n",
       " './io/image/nircam6/hlsp_ceers_jwst_nircam_nircam6_f150w_dr0.5_i2d.fits',\n",
       " './io/image/nircam6/hlsp_ceers_jwst_nircam_nircam6_f200w_dr0.5_i2d.fits',\n",
       " './io/image/nircam6/hlsp_ceers_jwst_nircam_nircam6_f277w_dr0.5_i2d.fits',\n",
       " './io/image/nircam6/hlsp_ceers_jwst_nircam_nircam6_f356w_dr0.5_i2d.fits',\n",
       " './io/image/nircam6/hlsp_ceers_jwst_nircam_nircam6_f410m_dr0.5_i2d.fits',\n",
       " './io/image/nircam6/hlsp_ceers_jwst_nircam_nircam6_f444w_dr0.5_i2d.fits']"
      ]
     },
     "execution_count": 294,
     "metadata": {},
     "output_type": "execute_result"
    }
   ],
   "source": [
    "import glob\n",
    "img_path_list = glob.glob(img_dir + 'hlsp*.fits')\n",
    "img_path_list.sort()\n",
    "img_path_list"
   ]
  },
  {
   "cell_type": "code",
   "execution_count": 295,
   "metadata": {},
   "outputs": [],
   "source": [
    "PIXAR_SR = 2.11539874851881E-14\n",
    "ZERO_POINT =  -6.10 -2.5 * np.log10(PIXAR_SR)\n",
    "def flux_to_mag(flux):\n",
    "    return -2.5 * np.log10(flux) + ZERO_POINT"
   ]
  },
  {
   "cell_type": "code",
   "execution_count": 296,
   "metadata": {},
   "outputs": [],
   "source": [
    "tab_phot = Table([seq_column, comment_column], names=['EGS-ID', 'comment'])\n",
    "band_list = []\n",
    "for img_path in img_path_list:\n",
    "    sci = fits.getdata(img_path, hdu='SCI_BKSUB')\n",
    "    hdr_pri = fits.getheader(img_path, extname='PRIMARY')\n",
    "    band = hdr_pri['FILTER'].split(' ')[0]\n",
    "    key_tab = f'KronPhot_{band}_mag'\n",
    "    cat_sci = SourceCatalog(sci, segm_matched)   \n",
    "    flux_list = cat_sci.kron_flux\n",
    "    mag_list = flux_to_mag(flux_list)\n",
    "    tab_phot.add_column(mag_list, name=key_tab)"
   ]
  },
  {
   "cell_type": "code",
   "execution_count": 297,
   "metadata": {},
   "outputs": [
    {
     "data": {
      "text/html": [
       "<div><i>Table length=89</i>\n",
       "<table id=\"table140566388873392\" class=\"table-striped table-bordered table-condensed\">\n",
       "<thead><tr><th>EGS-ID</th><th>comment</th><th>KronPhot_F115W_mag</th><th>KronPhot_F150W_mag</th><th>KronPhot_F200W_mag</th><th>KronPhot_F277W_mag</th><th>KronPhot_F356W_mag</th><th>KronPhot_F410M_mag</th><th>KronPhot_F444W_mag</th></tr></thead>\n",
       "<thead><tr><th>int64</th><th>str40</th><th>float64</th><th>float64</th><th>float64</th><th>float64</th><th>float64</th><th>float64</th><th>float64</th></tr></thead>\n",
       "<tr><td>10209</td><td>--</td><td>nan</td><td>nan</td><td>nan</td><td>26.033877662936813</td><td>26.042176005131434</td><td>25.886850998493692</td><td>25.998352124305818</td></tr>\n",
       "<tr><td>35055</td><td>--</td><td>27.33206220914366</td><td>26.956867760124243</td><td>26.82717681606334</td><td>26.87995921903548</td><td>27.15206226249869</td><td>27.408260650806</td><td>27.24473857534574</td></tr>\n",
       "<tr><td>35114</td><td>--</td><td>26.846392768314747</td><td>26.978514599662724</td><td>26.96347651805476</td><td>26.849278877186993</td><td>27.199924015140706</td><td>27.635417003739636</td><td>27.561338678064594</td></tr>\n",
       "<tr><td>10990</td><td>--</td><td>26.23722362981526</td><td>26.149007860850993</td><td>26.045711375431896</td><td>25.553754880164576</td><td>25.592165788273466</td><td>25.587999609213895</td><td>25.75931547052963</td></tr>\n",
       "<tr><td>11320</td><td>--</td><td>26.695324092263004</td><td>26.530753420893475</td><td>26.683423402075462</td><td>26.55965667178553</td><td>26.82280880823258</td><td>26.726698006003723</td><td>26.95606108258259</td></tr>\n",
       "<tr><td>35343</td><td>--</td><td>26.93655915367401</td><td>26.853757453276184</td><td>26.14625372006808</td><td>26.816777323084114</td><td>27.12586776294501</td><td>27.362496906877382</td><td>27.71337904190295</td></tr>\n",
       "<tr><td>11682</td><td>--</td><td>26.76266145061266</td><td>26.416078635351404</td><td>26.44755850523029</td><td>26.123653334554955</td><td>26.44537629416479</td><td>26.833861299808863</td><td>26.774234383658722</td></tr>\n",
       "<tr><td>35490</td><td>--</td><td>30.837403901495</td><td>31.14325000747558</td><td>30.728137084357737</td><td>30.682272408515544</td><td>29.4404924965869</td><td>34.27199688330249</td><td>30.213626087341847</td></tr>\n",
       "<tr><td>12198</td><td>--</td><td>26.64021997552714</td><td>27.020665439483224</td><td>26.84775320984828</td><td>26.573474360714055</td><td>26.700694189055003</td><td>26.721674320310623</td><td>26.867217545807037</td></tr>\n",
       "<tr><td>35545</td><td>--</td><td>26.55619181146836</td><td>26.518626751507455</td><td>26.498233305297337</td><td>25.6913756677735</td><td>26.224616653526226</td><td>26.873988982269093</td><td>27.249147875388243</td></tr>\n",
       "<tr><td>...</td><td>...</td><td>...</td><td>...</td><td>...</td><td>...</td><td>...</td><td>...</td><td>...</td></tr>\n",
       "<tr><td>18709</td><td>--</td><td>24.68549574681214</td><td>24.416036423023208</td><td>24.086932797064634</td><td>24.283893851008212</td><td>24.253657139539506</td><td>24.181949033422825</td><td>24.321598897799095</td></tr>\n",
       "<tr><td>19098</td><td>heavily blended with 38302</td><td>24.97897276359863</td><td>25.034907803321268</td><td>25.000771810474788</td><td>24.394207339256443</td><td>24.602046520442975</td><td>24.954530127522897</td><td>24.85985611783871</td></tr>\n",
       "<tr><td>19470</td><td>--</td><td>24.76731230778022</td><td>24.766671888839067</td><td>24.813255741746858</td><td>25.19027146644902</td><td>25.112260010034227</td><td>25.12185372606836</td><td>25.350762291148524</td></tr>\n",
       "<tr><td>19473</td><td>--</td><td>26.057700669015095</td><td>25.862012837096096</td><td>25.887173424940876</td><td>25.10926303768968</td><td>25.592894912529893</td><td>25.32586396430157</td><td>25.794062896851685</td></tr>\n",
       "<tr><td>19696</td><td>blended with 38657</td><td>26.858050298156286</td><td>27.131699454552855</td><td>24.804470639586256</td><td>23.81073980728162</td><td>23.542565531340394</td><td>23.329087158409674</td><td>23.170297991865322</td></tr>\n",
       "<tr><td>20001</td><td>--</td><td>26.6488565887559</td><td>26.68920491900304</td><td>26.765710906508133</td><td>26.07816953701267</td><td>26.288962610956148</td><td>26.447772623598638</td><td>27.093944806580325</td></tr>\n",
       "<tr><td>20341</td><td>--</td><td>24.764675344930886</td><td>23.828988660978922</td><td>23.921118675639434</td><td>23.223630809117076</td><td>22.86319524717877</td><td>22.49512074159719</td><td>22.328719277846137</td></tr>\n",
       "<tr><td>20290</td><td>--</td><td>nan</td><td>nan</td><td>nan</td><td>25.455541251842227</td><td>25.460892569597643</td><td>25.618958437705324</td><td>25.478143974329388</td></tr>\n",
       "<tr><td>38038</td><td>heavily blended with 39250 etc ring-like</td><td>26.54370712406279</td><td>26.5385429841463</td><td>26.22355543521904</td><td>26.33684391196611</td><td>26.74700331889929</td><td>26.76681544459452</td><td>27.249508381778742</td></tr>\n",
       "<tr><td>21084</td><td>--</td><td>25.965014281540707</td><td>26.136775108018377</td><td>25.975271213534157</td><td>26.467490017615205</td><td>26.845067104828168</td><td>25.97053697918227</td><td>26.468429018352303</td></tr>\n",
       "</table></div>"
      ],
      "text/plain": [
       "<Table length=89>\n",
       "EGS-ID                 comment                  ... KronPhot_F444W_mag\n",
       "int64                   str40                   ...      float64      \n",
       "------ ---------------------------------------- ... ------------------\n",
       " 10209                                       -- ... 25.998352124305818\n",
       " 35055                                       -- ...  27.24473857534574\n",
       " 35114                                       -- ... 27.561338678064594\n",
       " 10990                                       -- ...  25.75931547052963\n",
       " 11320                                       -- ...  26.95606108258259\n",
       " 35343                                       -- ...  27.71337904190295\n",
       " 11682                                       -- ... 26.774234383658722\n",
       " 35490                                       -- ... 30.213626087341847\n",
       " 12198                                       -- ... 26.867217545807037\n",
       " 35545                                       -- ... 27.249147875388243\n",
       "   ...                                      ... ...                ...\n",
       " 18709                                       -- ... 24.321598897799095\n",
       " 19098               heavily blended with 38302 ...  24.85985611783871\n",
       " 19470                                       -- ... 25.350762291148524\n",
       " 19473                                       -- ... 25.794062896851685\n",
       " 19696                       blended with 38657 ... 23.170297991865322\n",
       " 20001                                       -- ... 27.093944806580325\n",
       " 20341                                       -- ... 22.328719277846137\n",
       " 20290                                       -- ... 25.478143974329388\n",
       " 38038 heavily blended with 39250 etc ring-like ... 27.249508381778742\n",
       " 21084                                       -- ... 26.468429018352303"
      ]
     },
     "execution_count": 297,
     "metadata": {},
     "output_type": "execute_result"
    }
   ],
   "source": [
    "tab_phot.write(prep_dir + 'kronphot.csv', format='ascii.csv', overwrite=True)\n",
    "tab_phot"
   ]
  },
  {
   "cell_type": "markdown",
   "metadata": {},
   "source": [
    "## Show trends of magnitude variation in different bands"
   ]
  },
  {
   "cell_type": "markdown",
   "metadata": {},
   "source": [
    "optional"
   ]
  },
  {
   "cell_type": "code",
   "execution_count": 299,
   "metadata": {},
   "outputs": [
    {
     "data": {
      "text/plain": [
       "\"plt.figure(figsize=(10, 10))\\nfor i in range(len(phot_list)):\\n    bandlabel = [key.replace('KronPhot_','').replace('_mag','') for key in key_phot]\\n    plt.plot(bandlabel, list(phot_list.as_array()[i]), marker='o', linestyle='--', color='k')\\n    plt.fill_betweenx(list(phot_list.as_array()[i]), bandlabel, color='k', alpha=0.1)\\n    plt.savefig(prep_dir + 'kronphot.png')\""
      ]
     },
     "execution_count": 299,
     "metadata": {},
     "output_type": "execute_result"
    }
   ],
   "source": [
    "\"\"\"\n",
    "key_phot = ['KronPhot_F115W_mag', 'KronPhot_F150W_mag', 'KronPhot_F200W_mag',\n",
    "       'KronPhot_F277W_mag', 'KronPhot_F356W_mag', 'KronPhot_F410M_mag',\n",
    "       'KronPhot_F444W_mag']\n",
    "phot_list = tab_phot[key_phot]\n",
    "plt.figure(figsize=(10, 10))\n",
    "for i in range(len(phot_list)):\n",
    "    bandlabel = [key.replace('KronPhot_','').replace('_mag','') for key in key_phot]\n",
    "    plt.plot(bandlabel, list(phot_list.as_array()[i]), marker='o', linestyle='--', color='k')\n",
    "    plt.fill_betweenx(list(phot_list.as_array()[i]), bandlabel, color='k', alpha=0.1)\n",
    "    plt.savefig(prep_dir + 'kronphot.png')\n",
    "    \"\"\""
   ]
  },
  {
   "cell_type": "markdown",
   "metadata": {},
   "source": [
    "# Write to FITS file for GALFIT preparation"
   ]
  },
  {
   "cell_type": "markdown",
   "metadata": {},
   "source": [
    "#### IMGLIST Extension"
   ]
  },
  {
   "cell_type": "code",
   "execution_count": 300,
   "metadata": {},
   "outputs": [
    {
     "name": "stdout",
     "output_type": "stream",
     "text": [
      "./io/image/nircam6/hlsp_ceers_jwst_nircam_nircam6_f115w_dr0.5_i2d.fits\n",
      "./io/image/nircam6/hlsp_ceers_jwst_nircam_nircam6_f150w_dr0.5_i2d.fits\n",
      "./io/image/nircam6/hlsp_ceers_jwst_nircam_nircam6_f200w_dr0.5_i2d.fits\n",
      "./io/image/nircam6/hlsp_ceers_jwst_nircam_nircam6_f277w_dr0.5_i2d.fits\n",
      "./io/image/nircam6/hlsp_ceers_jwst_nircam_nircam6_f356w_dr0.5_i2d.fits\n",
      "./io/image/nircam6/hlsp_ceers_jwst_nircam_nircam6_f410m_dr0.5_i2d.fits\n",
      "./io/image/nircam6/hlsp_ceers_jwst_nircam_nircam6_f444w_dr0.5_i2d.fits\n"
     ]
    }
   ],
   "source": [
    "pregalfit_path = prep_dir + 'pregalfit.fits'\n",
    "\n",
    "# Create an IMGLIST extension\n",
    "hdr_img = fits.Header()\n",
    "hdr_img['EXTNAME'] = 'IMGLIST'\n",
    "\n",
    "tab_img = Table()\n",
    "band_list = []\n",
    "for img_path in img_path_list:\n",
    "    print(img_path)\n",
    "    hdr_pri = fits.getheader(img_path, extname='PRIMARY')\n",
    "    band = hdr_pri['FILTER'].split(' ')[0]\n",
    "    band_list.append(band)\n",
    "tab_img.add_columns([band_list,img_path_list], names=['band', 'img_path'])\n",
    "fits.writeto(pregalfit_path, tab_img.as_array(), header=hdr_img, overwrite=True)"
   ]
  },
  {
   "cell_type": "markdown",
   "metadata": {},
   "source": [
    "#### INIPARAM Extension"
   ]
  },
  {
   "cell_type": "code",
   "execution_count": 301,
   "metadata": {},
   "outputs": [
    {
     "data": {
      "application/vnd.jupyter.widget-view+json": {
       "model_id": "3d03114b5937428b800c7615718ba3b5",
       "version_major": 2,
       "version_minor": 0
      },
      "text/plain": [
       "kron_radius:   0%|          | 0/89 [00:00<?, ?it/s]"
      ]
     },
     "metadata": {},
     "output_type": "display_data"
    },
    {
     "data": {
      "application/vnd.jupyter.widget-view+json": {
       "model_id": "8d49cec2fc634bc19ad418ae4796a778",
       "version_major": 2,
       "version_minor": 0
      },
      "text/plain": [
       "kron_photometry:   0%|          | 0/89 [00:00<?, ?it/s]"
      ]
     },
     "metadata": {},
     "output_type": "display_data"
    },
    {
     "data": {
      "text/html": [
       "<div><i>QTable length=89</i>\n",
       "<table id=\"table140566385768816\" class=\"table-striped table-bordered table-condensed\">\n",
       "<thead><tr><th>EGS-ID</th><th>comment</th><th>KronPhot_F115W_mag</th><th>KronPhot_F150W_mag</th><th>KronPhot_F200W_mag</th><th>KronPhot_F277W_mag</th><th>KronPhot_F356W_mag</th><th>KronPhot_F410M_mag</th><th>KronPhot_F444W_mag</th><th>label</th><th>xcentroid</th><th>ycentroid</th><th>orientation</th><th>eccentricity</th><th>kron_radius</th></tr></thead>\n",
       "<thead><tr><th></th><th></th><th></th><th></th><th></th><th></th><th></th><th></th><th></th><th></th><th></th><th></th><th>deg</th><th></th><th>pix</th></tr></thead>\n",
       "<thead><tr><th>int64</th><th>str40</th><th>float64</th><th>float64</th><th>float64</th><th>float64</th><th>float64</th><th>float64</th><th>float64</th><th>int64</th><th>float64</th><th>float64</th><th>float64</th><th>float64</th><th>float64</th></tr></thead>\n",
       "<tr><td>10209</td><td>--</td><td>nan</td><td>nan</td><td>nan</td><td>26.033877662936813</td><td>26.042176005131434</td><td>25.886850998493692</td><td>25.998352124305818</td><td>387</td><td>2391.2856446645105</td><td>263.92137094586457</td><td>39.270681794142355</td><td>0.8235859463476308</td><td>6.333517159222069</td></tr>\n",
       "<tr><td>10239</td><td>--</td><td>25.729538948246194</td><td>24.872139303145065</td><td>24.711410639187207</td><td>24.456004470174182</td><td>24.410755905945933</td><td>24.265225598185822</td><td>24.313581901229508</td><td>29809</td><td>3899.451326792401</td><td>245.53257257269186</td><td>84.7678380715091</td><td>0.7616234030025033</td><td>8.912757138320991</td></tr>\n",
       "<tr><td>10278</td><td>--</td><td>26.71637989635895</td><td>25.99225371813523</td><td>26.22703337289388</td><td>26.183745408391708</td><td>26.138875641005082</td><td>26.56768334742432</td><td>26.22339885810426</td><td>29902</td><td>6796.325294646812</td><td>280.498268697023</td><td>18.016712455342162</td><td>0.3894724374787133</td><td>7.1083751796272665</td></tr>\n",
       "<tr><td>10367</td><td>margin</td><td>23.68754695744093</td><td>23.74527827062578</td><td>23.51614653609811</td><td>25.01580435062005</td><td>25.200220581647113</td><td>25.28701377150186</td><td>25.248781660010643</td><td>29864</td><td>6918.820834209087</td><td>267.58744318739116</td><td>-1.7339070491640944</td><td>0.7350073353777491</td><td>12.614458105782829</td></tr>\n",
       "<tr><td>10990</td><td>--</td><td>26.23722362981526</td><td>26.149007860850993</td><td>26.045711375431896</td><td>25.553754880164576</td><td>25.592165788273466</td><td>25.587999609213895</td><td>25.75931547052963</td><td>2030</td><td>2591.237911733913</td><td>576.6285733045144</td><td>-54.499632930054474</td><td>0.7030598807318662</td><td>6.710729634774058</td></tr>\n",
       "<tr><td>11067</td><td>--</td><td>24.800177046764087</td><td>24.64551600181028</td><td>24.253006136498108</td><td>23.337007059613782</td><td>22.736500244543755</td><td>21.752422121129612</td><td>21.52471108152258</td><td>30371</td><td>6403.010507311094</td><td>593.8649476579196</td><td>8.814846508636217</td><td>0.740934372455153</td><td>24.597366426973384</td></tr>\n",
       "<tr><td>11320</td><td>--</td><td>26.695324092263004</td><td>26.530753420893475</td><td>26.683423402075462</td><td>26.55965667178553</td><td>26.82280880823258</td><td>26.726698006003723</td><td>26.95606108258259</td><td>2647</td><td>7649.970140235697</td><td>705.58532400669</td><td>89.75056267716568</td><td>0.5412834713953053</td><td>5.663720251375023</td></tr>\n",
       "<tr><td>11408</td><td>extremely elongated</td><td>24.474981430676365</td><td>24.36024882135502</td><td>24.268790075510577</td><td>24.180287372013314</td><td>24.431580284355533</td><td>24.62696086445962</td><td>24.70170579748736</td><td>30452</td><td>9240.01884179974</td><td>652.6730396471964</td><td>-71.58169114656097</td><td>0.9350876876875367</td><td>12.163586417045149</td></tr>\n",
       "<tr><td>11431</td><td>slightly blended with 30378</td><td>23.40508151509163</td><td>23.323853052896432</td><td>23.36677331118749</td><td>23.051324175832917</td><td>23.015905728898247</td><td>23.006391530977673</td><td>23.089921247799943</td><td>30377</td><td>6399.141865416354</td><td>700.6587360908237</td><td>-12.719910617189212</td><td>0.5916717324937959</td><td>15.955494751028455</td></tr>\n",
       "<tr><td>...</td><td>...</td><td>...</td><td>...</td><td>...</td><td>...</td><td>...</td><td>...</td><td>...</td><td>...</td><td>...</td><td>...</td><td>...</td><td>...</td><td>...</td></tr>\n",
       "<tr><td>37221</td><td>--</td><td>24.869478938497537</td><td>24.500883975402502</td><td>24.996903523576712</td><td>24.584922207836133</td><td>24.434314621920677</td><td>24.066429226437485</td><td>24.28777316135065</td><td>36941</td><td>1572.2560469177351</td><td>3350.8209273277953</td><td>7.145586801308657</td><td>0.783790857190155</td><td>14.112850205725865</td></tr>\n",
       "<tr><td>37238</td><td>--</td><td>26.443468359786905</td><td>26.625781830522136</td><td>26.541660840011623</td><td>25.61635014156525</td><td>25.942517359910944</td><td>25.285086006551975</td><td>25.686908170765264</td><td>36970</td><td>9677.267187695083</td><td>3368.7519165249114</td><td>-59.535177262199994</td><td>0.6569951728253666</td><td>6.233855265279264</td></tr>\n",
       "<tr><td>37336</td><td>should have been properly deblended</td><td>nan</td><td>nan</td><td>nan</td><td>26.354421378944703</td><td>25.341867326254434</td><td>25.837083927355497</td><td>25.210913564935108</td><td>37325</td><td>2348.11082467708</td><td>3479.37063812213</td><td>-40.64464720551261</td><td>0.539110416353284</td><td>14.539736746071213</td></tr>\n",
       "<tr><td>37405</td><td>faint</td><td>27.542925017762922</td><td>26.725931517271608</td><td>26.170461483527685</td><td>25.71426601389111</td><td>25.754466308615658</td><td>25.53724604063982</td><td>25.087899808421994</td><td>37593</td><td>8096.370355698626</td><td>3568.077231584472</td><td>-1.047348006516098</td><td>0.510464451524751</td><td>10.227624027100518</td></tr>\n",
       "<tr><td>37424</td><td>--</td><td>26.952820020128502</td><td>26.29794459442529</td><td>26.229580911456928</td><td>26.238429991214268</td><td>26.493063568254488</td><td>26.268301859752118</td><td>26.52397542324027</td><td>37704</td><td>1780.6894804428032</td><td>3598.139167203882</td><td>50.04460568638624</td><td>0.8281571590376539</td><td>8.627840950429684</td></tr>\n",
       "<tr><td>37876</td><td>--</td><td>26.883491926085252</td><td>27.041332302989122</td><td>26.85177538988808</td><td>26.369118358441515</td><td>26.785623459230404</td><td>27.253165484352852</td><td>27.766148760174254</td><td>27260</td><td>7418.154229817286</td><td>4202.828123688127</td><td>-77.92294248347527</td><td>0.5273241562964863</td><td>4.622503015659969</td></tr>\n",
       "<tr><td>37943</td><td>--</td><td>26.932516479499753</td><td>26.837203109192778</td><td>26.910964635010224</td><td>26.933455561008298</td><td>27.522862489850525</td><td>27.396545506880706</td><td>28.12185836487981</td><td>27678</td><td>8687.621018229904</td><td>4286.903224882129</td><td>-70.28339986691972</td><td>0.3721009126961843</td><td>4.650480558906198</td></tr>\n",
       "<tr><td>38038</td><td>heavily blended with 39250 etc ring-like</td><td>26.54370712406279</td><td>26.5385429841463</td><td>26.22355543521904</td><td>26.33684391196611</td><td>26.74700331889929</td><td>26.76681544459452</td><td>27.249508381778742</td><td>39249</td><td>1323.2015543139905</td><td>4404.855550061248</td><td>-50.4787018445049</td><td>0.42822619699377173</td><td>11.850111842682441</td></tr>\n",
       "<tr><td>38164</td><td>--</td><td>26.67040437900548</td><td>26.867796421700962</td><td>26.878434633544845</td><td>26.905051745805334</td><td>27.06567642116193</td><td>27.250109322322597</td><td>27.153160003517947</td><td>29183</td><td>6531.025171060174</td><td>4565.976279771503</td><td>-72.14308678922146</td><td>0.5590582528960074</td><td>4.394902166952403</td></tr>\n",
       "<tr><td>38181</td><td>--</td><td>27.15352470684511</td><td>26.746525410845265</td><td>27.06197345200962</td><td>26.36966640093816</td><td>26.837419526135285</td><td>26.527242934037613</td><td>26.587357169796245</td><td>29228</td><td>6325.76223717668</td><td>4584.881520674965</td><td>14.902043497902909</td><td>0.7001333216274386</td><td>7.242562227777893</td></tr>\n",
       "</table></div>"
      ],
      "text/plain": [
       "<QTable length=89>\n",
       "EGS-ID                 comment                  ...    kron_radius    \n",
       "                                                ...        pix        \n",
       "int64                   str40                   ...      float64      \n",
       "------ ---------------------------------------- ... ------------------\n",
       " 10209                                       -- ...  6.333517159222069\n",
       " 10239                                       -- ...  8.912757138320991\n",
       " 10278                                       -- ... 7.1083751796272665\n",
       " 10367                                   margin ... 12.614458105782829\n",
       " 10990                                       -- ...  6.710729634774058\n",
       " 11067                                       -- ... 24.597366426973384\n",
       " 11320                                       -- ...  5.663720251375023\n",
       " 11408                      extremely elongated ... 12.163586417045149\n",
       " 11431              slightly blended with 30378 ... 15.955494751028455\n",
       "   ...                                      ... ...                ...\n",
       " 37221                                       -- ... 14.112850205725865\n",
       " 37238                                       -- ...  6.233855265279264\n",
       " 37336      should have been properly deblended ... 14.539736746071213\n",
       " 37405                                    faint ... 10.227624027100518\n",
       " 37424                                       -- ...  8.627840950429684\n",
       " 37876                                       -- ...  4.622503015659969\n",
       " 37943                                       -- ...  4.650480558906198\n",
       " 38038 heavily blended with 39250 etc ring-like ... 11.850111842682441\n",
       " 38164                                       -- ...  4.394902166952403\n",
       " 38181                                       -- ...  7.242562227777893"
      ]
     },
     "execution_count": 301,
     "metadata": {},
     "output_type": "execute_result"
    }
   ],
   "source": [
    "srccat = SourceCatalog(image_merged_conv, segm_matched, wcs=w, convolved_data=image_merged_conv, progress_bar=True)\n",
    "srctab = srccat.to_table()\n",
    "srctab.keep_columns(['label', 'xcentroid', 'ycentroid','orientation','eccentricity'])\n",
    "kron_rad = srccat.kron_radius*np.sqrt(srccat.semimajor_sigma.value*srccat.semiminor_sigma.value)\n",
    "srctab.add_column(kron_rad, name='kron_radius')\n",
    "tab_final = hstack([tab_phot,srctab])\n",
    "tab_final = tab_final[tab_final.argsort('EGS-ID')]\n",
    "tab_final"
   ]
  },
  {
   "cell_type": "code",
   "execution_count": 302,
   "metadata": {},
   "outputs": [],
   "source": [
    "# Create a INIPARAM extension\n",
    "hdr_ini = fits.Header()\n",
    "hdr_ini['EXTNAME'] = 'INIPARAM'\n",
    "fits.append(pregalfit_path, tab_final.as_array(), header=hdr_ini, overwrite=True)\n",
    "\n",
    "hdr_segm = fits.Header()\n",
    "hdr_segm['EXTNAME'] = 'SEGMAP'\n",
    "fits.append(pregalfit_path, segm.data, header=hdr_segm, overwrite=True)"
   ]
  },
  {
   "cell_type": "code",
   "execution_count": 303,
   "metadata": {},
   "outputs": [
    {
     "name": "stdout",
     "output_type": "stream",
     "text": [
      "Filename: ./io/prep/nircam6/pregalfit.fits\n",
      "No.    Name      Ver    Type      Cards   Dimensions   Format\n",
      "  0  PRIMARY       1 PrimaryHDU       4   ()      \n",
      "  1  IMGLIST       1 BinTableHDU     13   7R x 2C   [5A, 70A]   \n",
      "  2  INIPARAM      1 BinTableHDU     39   89R x 15C   [K, 40A, D, D, D, D, D, D, D, K, D, D, D, D, D]   \n",
      "  3  SEGMAP        1 ImageHDU         8   (10500, 4800)   int64   \n",
      "[[0 0 0 ... 0 0 0]\n",
      " [0 0 0 ... 0 0 0]\n",
      " [0 0 0 ... 0 0 0]\n",
      " ...\n",
      " [0 0 0 ... 0 0 0]\n",
      " [0 0 0 ... 0 0 0]\n",
      " [0 0 0 ... 0 0 0]]\n"
     ]
    }
   ],
   "source": [
    "with fits.open(pregalfit_path) as hdul:\n",
    "    hdul.info()\n",
    "    print(hdul[3].data)"
   ]
  },
  {
   "cell_type": "markdown",
   "metadata": {},
   "source": [
    "### Test Kron"
   ]
  },
  {
   "cell_type": "code",
   "execution_count": 304,
   "metadata": {},
   "outputs": [
    {
     "name": "stdout",
     "output_type": "stream",
     "text": [
      "2.2872629795428354 pix 7.4679373191912966 pix 5.571879225903495 pix\n"
     ]
    },
    {
     "data": {
      "image/png": "[encoded data removed]",
      "text/plain": [
       "<Figure size 640x480 with 1 Axes>"
      ]
     },
     "metadata": {},
     "output_type": "display_data"
    }
   ],
   "source": [
    "t = srccat.kron_radius\n",
    "smajor = srccat.semimajor_sigma\n",
    "sminor = srccat.semiminor_sigma\n",
    "tx = np.int32(srccat.xcentroid)\n",
    "ty = np.int32(srccat.ycentroid)\n",
    "\n",
    "l=-18\n",
    "print(t[l], smajor[l], sminor[l])\n",
    "ap = srccat.kron_aperture[l]\n",
    "ap.positions = [100,100]\n",
    "\n",
    "import matplotlib.patches as patches\n",
    "\n",
    "img_cut = image_merged_conv[ty[l]-100:ty[l]+100, tx[l]-100:tx[l]+100]\n",
    "plt.imshow(img_cut, origin='lower', cmap='gray')\n",
    "ap.plot(color='red')\n",
    "\n",
    "circle = patches.Circle((100, 100), radius=np.sqrt(smajor[l].value*sminor[l].value)*t[l].value, edgecolor='blue', facecolor='none')\n",
    "\n",
    "ax = plt.gca()\n",
    "ax.add_patch(circle)\n",
    "\n",
    "plt.show()"
   ]
  }
 ],
 "metadata": {
  "kernelspec": {
   "display_name": "galfit3",
   "language": "python",
   "name": "python3"
  },
  "language_info": {
   "codemirror_mode": {
    "name": "ipython",
    "version": 3
   },
   "file_extension": ".py",
   "mimetype": "text/x-python",
   "name": "python",
   "nbconvert_exporter": "python",
   "pygments_lexer": "ipython3",
   "version": "3.9.0"
  }
 },
 "nbformat": 4,
 "nbformat_minor": 2
}
