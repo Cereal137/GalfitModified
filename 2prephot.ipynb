{
 "cells": [
  {
   "cell_type": "markdown",
   "metadata": {},
   "source": [
    "# Pre-Photometry before measuring with GALFITM"
   ]
  },
  {
   "cell_type": "code",
   "execution_count": 27,
   "metadata": {},
   "outputs": [],
   "source": [
    "import numpy as np\n",
    "import matplotlib.pyplot as plt\n",
    "import warnings\n",
    "warnings.filterwarnings(\"ignore\")\n",
    "\n",
    "from astropy.io import fits"
   ]
  },
  {
   "cell_type": "code",
   "execution_count": 28,
   "metadata": {},
   "outputs": [],
   "source": [
    "img_name = 'nircam8'\n",
    "img_dir = f'./io/image/{img_name}/'\n",
    "img_merged_path = img_dir + 'merged.fits'\n",
    "\n",
    "match_dir = f'./io/match/{img_name}/'\n",
    "prep_dir = f'./io/prep/{img_name}/'"
   ]
  },
  {
   "cell_type": "markdown",
   "metadata": {},
   "source": [
    "## Create Source Catalog"
   ]
  },
  {
   "cell_type": "code",
   "execution_count": 29,
   "metadata": {},
   "outputs": [],
   "source": [
    "from photutils.segmentation import SegmentationImage\n",
    "from photutils.segmentation import SourceCatalog\n",
    "from astropy.wcs import WCS\n",
    "from astropy.table import Table, hstack"
   ]
  },
  {
   "cell_type": "code",
   "execution_count": 30,
   "metadata": {},
   "outputs": [],
   "source": [
    "with fits.open(img_merged_path) as hdul:\n",
    "    segm = SegmentationImage(hdul['SEGMAP'].data)\n",
    "    w = WCS(hdul['MERGED'].header)\n",
    "    image_merged_conv = hdul['SCI_BKSUB_CONV'].data"
   ]
  },
  {
   "cell_type": "code",
   "execution_count": 31,
   "metadata": {},
   "outputs": [],
   "source": [
    "tab_ref_matched_selected = Table.read(match_dir + 'matchlog.csv', format='ascii.csv')\n",
    "tab_sorted = tab_ref_matched_selected[tab_ref_matched_selected.argsort('label')] # sort by label\n",
    "tab_sorted = tab_sorted[tab_sorted['label'] != -1]\n",
    "\n",
    "label_column = np.int64(tab_sorted['label'])\n",
    "id_column = np.array(tab_sorted['ID'])\n",
    "ra_column = tab_sorted['RA']\n",
    "dec_column = tab_sorted['Dec']\n",
    "comment_column = tab_sorted['comment']\n",
    "segm_matched = segm.copy()\n",
    "segm_matched.keep_labels(label_column)"
   ]
  },
  {
   "cell_type": "markdown",
   "metadata": {},
   "source": [
    "# Do photometry in every band with SourceCatalog"
   ]
  },
  {
   "cell_type": "code",
   "execution_count": 32,
   "metadata": {},
   "outputs": [
    {
     "data": {
      "text/plain": [
       "['./io/image/nircam8/hlsp_ceers_jwst_nircam_nircam8_f115w_dr0.6_i2d.fits',\n",
       " './io/image/nircam8/hlsp_ceers_jwst_nircam_nircam8_f150w_dr0.6_i2d.fits',\n",
       " './io/image/nircam8/hlsp_ceers_jwst_nircam_nircam8_f200w_dr0.6_i2d.fits',\n",
       " './io/image/nircam8/hlsp_ceers_jwst_nircam_nircam8_f277w_dr0.6_i2d.fits',\n",
       " './io/image/nircam8/hlsp_ceers_jwst_nircam_nircam8_f356w_dr0.6_i2d.fits',\n",
       " './io/image/nircam8/hlsp_ceers_jwst_nircam_nircam8_f410m_dr0.6_i2d.fits',\n",
       " './io/image/nircam8/hlsp_ceers_jwst_nircam_nircam8_f444w_dr0.6_i2d.fits']"
      ]
     },
     "execution_count": 32,
     "metadata": {},
     "output_type": "execute_result"
    }
   ],
   "source": [
    "import glob\n",
    "img_path_list = glob.glob(img_dir + 'hlsp*.fits')\n",
    "img_path_list.sort()\n",
    "img_path_list"
   ]
  },
  {
   "cell_type": "code",
   "execution_count": 33,
   "metadata": {},
   "outputs": [
    {
     "name": "stdout",
     "output_type": "stream",
     "text": [
      "ZERO_POINT: 28.086519392283982\n"
     ]
    }
   ],
   "source": [
    "PIXAR_SR = 2.11539874851881E-14\n",
    "ZERO_POINT =  -6.10 -2.5 * np.log10(PIXAR_SR)\n",
    "print(f'ZERO_POINT: {ZERO_POINT}')\n",
    "def flux_to_mag(flux, zero_point=ZERO_POINT):\n",
    "    return -2.5 * np.log10(flux) + zero_point"
   ]
  },
  {
   "cell_type": "code",
   "execution_count": 34,
   "metadata": {},
   "outputs": [],
   "source": [
    "from utils.zeropoint import calc_zpt"
   ]
  },
  {
   "cell_type": "code",
   "execution_count": 35,
   "metadata": {},
   "outputs": [],
   "source": [
    "tab_phot = Table([id_column, ra_column, dec_column, comment_column], names=['ID', 'RA', 'Dec', 'comment'])\n",
    "band_list = []\n",
    "for i,img_path in enumerate(img_path_list):\n",
    "    sci = fits.getdata(img_path, hdu='SCI_BKSUB')\n",
    "    err = fits.getdata(img_path, hdu='ERR')\n",
    "    hdr_pri = fits.getheader(img_path, extname='PRIMARY')\n",
    "    band = hdr_pri['FILTER'].split(' ')[0]\n",
    "    key_tab = f'KronPhot_{band}_mag'\n",
    "    cat_sci = SourceCatalog(sci, segm_matched, error=err)\n",
    "    flux_list = cat_sci.kron_flux\n",
    "    fluxerr_list = cat_sci.kron_fluxerr\n",
    "    x, y = cat_sci.xcentroid, cat_sci.ycentroid\n",
    "    mag_list = []\n",
    "    for j in range(len(flux_list)):\n",
    "        x_pix, y_pix, flux = x[j], y[j], flux_list[j]\n",
    "        zpt = calc_zpt(x_pix, y_pix, 'CR0')[i]\n",
    "        mag = flux_to_mag(flux, zero_point= zpt)\n",
    "        mag_list.append(mag)\n",
    "    tab_phot.add_columns([mag_list, flux_list, fluxerr_list], names=[key_tab, key_tab.replace('mag', 'flux'), key_tab.replace('mag', 'fluxerr')])"
   ]
  },
  {
   "cell_type": "code",
   "execution_count": 36,
   "metadata": {},
   "outputs": [
    {
     "data": {
      "text/html": [
       "<div><i>Table length=62</i>\n",
       "<table id=\"table140083047206336\" class=\"table-striped table-bordered table-condensed\">\n",
       "<thead><tr><th>ID</th><th>RA</th><th>Dec</th><th>comment</th><th>KronPhot_F115W_mag</th><th>KronPhot_F115W_flux</th><th>KronPhot_F115W_fluxerr</th><th>KronPhot_F150W_mag</th><th>KronPhot_F150W_flux</th><th>KronPhot_F150W_fluxerr</th><th>KronPhot_F200W_mag</th><th>KronPhot_F200W_flux</th><th>KronPhot_F200W_fluxerr</th><th>KronPhot_F277W_mag</th><th>KronPhot_F277W_flux</th><th>KronPhot_F277W_fluxerr</th><th>KronPhot_F356W_mag</th><th>KronPhot_F356W_flux</th><th>KronPhot_F356W_fluxerr</th><th>KronPhot_F410M_mag</th><th>KronPhot_F410M_flux</th><th>KronPhot_F410M_fluxerr</th><th>KronPhot_F444W_mag</th><th>KronPhot_F444W_flux</th><th>KronPhot_F444W_fluxerr</th></tr></thead>\n",
       "<thead><tr><th>str10</th><th>float64</th><th>float64</th><th>str8</th><th>float64</th><th>float64</th><th>float64</th><th>float64</th><th>float64</th><th>float64</th><th>float64</th><th>float64</th><th>float64</th><th>float64</th><th>float64</th><th>float64</th><th>float64</th><th>float64</th><th>float64</th><th>float64</th><th>float64</th><th>float64</th><th>float64</th><th>float64</th><th>float64</th></tr></thead>\n",
       "<tr><td>nircam8_8</td><td>214.99584044946604</td><td>52.85424080725352</td><td>--</td><td>23.042603385669402</td><td>104.12773044017</td><td>4.372603957228912</td><td>22.913139394764727</td><td>117.31458240050677</td><td>5.116393964531273</td><td>22.771386008455288</td><td>133.67597287906628</td><td>5.964119068737193</td><td>22.69949237380848</td><td>142.82716220242446</td><td>6.204088891312089</td><td>22.68236439131695</td><td>145.09819181746838</td><td>6.172836107875069</td><td>22.84066245538008</td><td>125.41306296618743</td><td>5.231992653239932</td><td>22.975667303644126</td><td>110.74926061272032</td><td>4.573725645761873</td></tr>\n",
       "<tr><td>nircam8_12</td><td>215.01340455726907</td><td>52.867824024287984</td><td>--</td><td>22.61470151145074</td><td>154.4283930652286</td><td>5.0446503846057995</td><td>22.448591465685865</td><td>179.95800527878782</td><td>5.969084549145044</td><td>22.3329424852714</td><td>200.1846452712158</td><td>7.023769256517632</td><td>22.210436722167415</td><td>224.0954651039493</td><td>7.664377028624716</td><td>22.19130102214466</td><td>228.0800754959901</td><td>7.663872081397185</td><td>22.340196436706968</td><td>198.85164234129445</td><td>6.601961912520142</td><td>22.477357873910986</td><td>175.25265552131384</td><td>5.764570331466458</td></tr>\n",
       "<tr><td>nircam8_55</td><td>215.00895017002145</td><td>52.86750692595524</td><td>--</td><td>23.647396784383115</td><td>59.655301249108504</td><td>3.6650680000497227</td><td>23.475800506422683</td><td>69.86948696490369</td><td>4.364889857121366</td><td>23.442315976647098</td><td>72.05786101359223</td><td>4.414835358702207</td><td>23.30058774976019</td><td>82.10557691459235</td><td>4.642720806962777</td><td>23.22013490636165</td><td>88.42066856620153</td><td>4.82157321961389</td><td>23.185517458162323</td><td>91.2852845478319</td><td>4.905039786875029</td><td>23.260212918331266</td><td>85.21628349928875</td><td>4.4872965753402845</td></tr>\n",
       "<tr><td>nircam8_53</td><td>215.0643292955432</td><td>52.9079098803777</td><td>--</td><td>23.22419758298983</td><td>88.09042873917097</td><td>5.11356774634736</td><td>23.074350582254674</td><td>101.12709319171873</td><td>5.9527874798498255</td><td>22.944132113565082</td><td>114.01314128174019</td><td>6.605265051325229</td><td>23.044002159125075</td><td>103.993667191186</td><td>5.655341663486415</td><td>23.55586229717184</td><td>64.90271104378951</td><td>3.4024821638054052</td><td>23.697170652018595</td><td>56.98223718385411</td><td>2.8641349260402142</td><td>23.685127374994202</td><td>57.61781793258672</td><td>2.8626313083883987</td></tr>\n",
       "<tr><td>nircam8_47</td><td>215.0026358462628</td><td>52.866719820049184</td><td>--</td><td>23.742774180657015</td><td>54.63841401834031</td><td>1.6121001711664167</td><td>23.60850588488822</td><td>61.83087649417721</td><td>1.8424232414920207</td><td>23.569204745603876</td><td>64.11001207348765</td><td>1.9230310461415572</td><td>23.619574598376712</td><td>61.20373380061916</td><td>1.8085141248737646</td><td>24.011117522169933</td><td>42.67374404856689</td><td>1.2419675212584071</td><td>23.950255966466752</td><td>45.13416064318545</td><td>1.1767424465086773</td><td>24.22863892818809</td><td>34.926268280014476</td><td>0.9881295618419116</td></tr>\n",
       "<tr><td>nircam8_43</td><td>214.98252509927488</td><td>52.85438085491478</td><td>--</td><td>22.554784619724</td><td>163.1901377543715</td><td>7.743153720782881</td><td>22.432669226762968</td><td>182.61652157357327</td><td>8.649563708942974</td><td>22.349879245561972</td><td>197.0861286150987</td><td>9.436714893645409</td><td>22.564587185115414</td><td>161.7234073351862</td><td>7.265668361942877</td><td>22.96930272226992</td><td>111.40037890600149</td><td>4.7429532389849225</td><td>23.197318726333343</td><td>90.29844392830684</td><td>3.885933026978925</td><td>23.208925178255612</td><td>89.33830030786687</td><td>3.679651746486993</td></tr>\n",
       "<tr><td>nircam8_42</td><td>214.9931858563449</td><td>52.86237721492944</td><td>--</td><td>23.433178347423663</td><td>72.66686394851268</td><td>5.19362724960707</td><td>23.21465460684853</td><td>88.86810391302589</td><td>6.529353827073422</td><td>23.189413060193733</td><td>90.95834146765603</td><td>6.408898610197964</td><td>23.1895602701233</td><td>90.94600968459359</td><td>5.51391451825258</td><td>23.21893026510814</td><td>88.51882712123583</td><td>5.1780125428564485</td><td>23.217154703637227</td><td>88.66370504182831</td><td>5.16253344325598</td><td>23.17588967148735</td><td>92.09835820933418</td><td>5.239758548319284</td></tr>\n",
       "<tr><td>nircam8_40</td><td>215.03496565736603</td><td>52.89408561073651</td><td>--</td><td>21.75810269109533</td><td>339.91214370952497</td><td>12.412047429887693</td><td>21.319758514479354</td><td>508.98425864716364</td><td>19.58467329731211</td><td>20.853785175274115</td><td>781.7964369632948</td><td>34.73920101970206</td><td>20.409064786523807</td><td>1177.556739268267</td><td>56.058150535149956</td><td>20.45390767270406</td><td>1129.9121738695856</td><td>57.45083283430511</td><td>20.604382762153072</td><td>983.6818359454862</td><td>50.0156469007091</td><td>20.70871324313626</td><td>893.557407978509</td><td>44.89465003082324</td></tr>\n",
       "<tr><td>nircam8_34</td><td>215.00893273038162</td><td>52.87818343707477</td><td>--</td><td>23.481218367477773</td><td>69.52170426409478</td><td>5.476296802036114</td><td>23.37558844973569</td><td>76.62533337449636</td><td>6.268721609069907</td><td>23.249736980531928</td><td>86.04248894458203</td><td>6.616709896452383</td><td>23.166604054367323</td><td>92.88939519076078</td><td>6.46798036489461</td><td>23.5165357337613</td><td>67.2966527350644</td><td>4.395509664737186</td><td>23.737220496895656</td><td>54.91861272178418</td><td>3.4884355288112294</td><td>23.8093339036964</td><td>51.38947671847767</td><td>3.237881903386852</td></tr>\n",
       "<tr><td>nircam8_27</td><td>214.97760283596193</td><td>52.86856027284375</td><td>--</td><td>23.986437825818793</td><td>43.65486269381191</td><td>4.136882088970889</td><td>23.930059536831095</td><td>45.9815854996977</td><td>4.349960633511581</td><td>23.750627856616973</td><td>54.24461289126633</td><td>5.088868680582662</td><td>23.541476876567128</td><td>65.76835907029964</td><td>5.552997082729899</td><td>23.39219711123323</td><td>75.46210444927783</td><td>5.880612660941716</td><td>23.245370541068798</td><td>86.38921754672592</td><td>6.412945136097978</td><td>23.248376544763083</td><td>86.15036841411356</td><td>6.410068954370793</td></tr>\n",
       "<tr><td>...</td><td>...</td><td>...</td><td>...</td><td>...</td><td>...</td><td>...</td><td>...</td><td>...</td><td>...</td><td>...</td><td>...</td><td>...</td><td>...</td><td>...</td><td>...</td><td>...</td><td>...</td><td>...</td><td>...</td><td>...</td><td>...</td><td>...</td><td>...</td><td>...</td></tr>\n",
       "<tr><td>nircam8_16</td><td>214.969317942489</td><td>52.87262323694449</td><td>--</td><td>22.287669791474194</td><td>208.70835752804976</td><td>9.039196601593716</td><td>21.815797400348785</td><td>322.32114471921506</td><td>15.098592729970251</td><td>21.635448168420734</td><td>380.5646890761407</td><td>18.62911210267653</td><td>21.358486806008035</td><td>491.148740306967</td><td>23.917928432667704</td><td>21.20109786656683</td><td>567.7649914396527</td><td>27.295917538975445</td><td>21.091210814811898</td><td>628.236884870651</td><td>30.474968094114224</td><td>21.190037147322293</td><td>573.5785450385815</td><td>27.40951179397722</td></tr>\n",
       "<tr><td>nircam8_25</td><td>214.99012248350218</td><td>52.891240580291196</td><td>--</td><td>22.617029494976475</td><td>154.09762983735592</td><td>5.194818774664502</td><td>22.44674733196382</td><td>180.26392546791547</td><td>6.122155459592623</td><td>22.268204131311933</td><td>212.48393691128277</td><td>7.496996152283714</td><td>22.1560078904862</td><td>235.61590338836845</td><td>8.028663448104773</td><td>22.274760292716856</td><td>211.20472984785823</td><td>7.077703628008422</td><td>22.434545982221543</td><td>182.30113141542444</td><td>5.599368525281725</td><td>22.57263097838423</td><td>160.52968945821613</td><td>5.130614625424715</td></tr>\n",
       "<tr><td>nircam8_58</td><td>214.95954874330891</td><td>52.870028581717634</td><td>--</td><td>21.70549002557528</td><td>356.7892384999956</td><td>11.466862114443046</td><td>21.353965991531783</td><td>493.19806076763246</td><td>16.866904352869312</td><td>20.967493150730427</td><td>704.0613379791017</td><td>24.78659729885926</td><td>20.74584487646481</td><td>863.5148415095066</td><td>30.13318382772522</td><td>20.82977758179132</td><td>799.2759110490788</td><td>27.560615784650054</td><td>21.060483901470377</td><td>646.2702975934506</td><td>21.783306548320766</td><td>21.177559241958836</td><td>580.2084642538159</td><td>19.205904265818738</td></tr>\n",
       "<tr><td>nircam8_59</td><td>215.00708422020918</td><td>52.9047430954015</td><td>--</td><td>23.296203862008735</td><td>82.43776559940602</td><td>2.581977265851511</td><td>23.27169172787669</td><td>84.32009084361559</td><td>2.6940440171251727</td><td>23.257932309131803</td><td>85.39547002261236</td><td>2.640309824865472</td><td>23.731649465047646</td><td>55.201130356873556</td><td>1.658370789400417</td><td>24.234921076366245</td><td>34.724765882507526</td><td>1.0493028483473767</td><td>24.39409068773461</td><td>29.98965583837109</td><td>0.9677421943315362</td><td>24.50744866528096</td><td>27.01645057725754</td><td>0.8467074154428439</td></tr>\n",
       "<tr><td>nircam8_71</td><td>214.966003103438</td><td>52.877015290083364</td><td>--</td><td>22.304275876619524</td><td>205.54049886576453</td><td>3.9408943554896245</td><td>22.04527482759711</td><td>260.91426613304634</td><td>5.735621891832809</td><td>21.877768393584297</td><td>304.4390790362729</td><td>7.531436712427726</td><td>21.683538028771103</td><td>364.076414422739</td><td>9.158664014249679</td><td>21.56745195823441</td><td>405.1603835763351</td><td>10.635549138697858</td><td>21.562780525673638</td><td>406.90736126579685</td><td>10.535609756603526</td><td>21.64967248102775</td><td>375.61139969430246</td><td>9.729466252050285</td></tr>\n",
       "<tr><td>nircam8_61</td><td>214.9579615086263</td><td>52.87115773579717</td><td>--</td><td>22.77537262661294</td><td>133.18603999014402</td><td>4.089445471916574</td><td>22.592838968137315</td><td>157.56950462455103</td><td>4.7162749298992</td><td>22.5642806613984</td><td>161.76907133528834</td><td>5.1571951556296405</td><td>22.797808959085245</td><td>130.46204243124535</td><td>4.121934558981944</td><td>23.204444653726856</td><td>89.70773581837892</td><td>2.6899835309288753</td><td>23.384097217572467</td><td>76.02717789038289</td><td>2.280157304634921</td><td>23.43276397067106</td><td>72.69460292028118</td><td>2.1495855695090733</td></tr>\n",
       "<tr><td>nircam8_70</td><td>215.0393406982713</td><td>52.93040548299177</td><td>--</td><td>20.371879821855277</td><td>1218.585000664254</td><td>61.330513471564466</td><td>19.885485398699718</td><td>1907.276235044033</td><td>96.57375783083711</td><td>19.500277312791024</td><td>2719.548646765313</td><td>142.041568255052</td><td>19.274505420476387</td><td>3348.1552593539463</td><td>151.82548279344002</td><td>19.49422709896959</td><td>2734.7455059710733</td><td>121.84464918165556</td><td>19.727739255779987</td><td>2205.5253537500603</td><td>92.97424303909028</td><td>19.819076582921408</td><td>2027.5759151128238</td><td>80.80497978716005</td></tr>\n",
       "<tr><td>nircam8_69</td><td>215.03572681563688</td><td>52.928065749620146</td><td>--</td><td>22.026668215928645</td><td>265.42417157686316</td><td>5.4514260482323715</td><td>21.929329542995845</td><td>290.31932116795986</td><td>5.9732190183335545</td><td>21.924439081558738</td><td>291.6299506043381</td><td>5.956490771493986</td><td>22.44884685892605</td><td>179.9156794792143</td><td>3.569642574335312</td><td>22.90089453209416</td><td>118.64513752496903</td><td>2.367249258855412</td><td>22.99785592349125</td><td>108.50890665550281</td><td>2.117443591573301</td><td>23.105879651180178</td><td>98.2326582270893</td><td>1.9000261305304968</td></tr>\n",
       "<tr><td>nircam8_67</td><td>214.98325661055304</td><td>52.89365956091933</td><td>--</td><td>22.547649338267274</td><td>164.26612849919715</td><td>3.4169354887951484</td><td>22.48055028769696</td><td>174.73811315595128</td><td>3.91436273070462</td><td>22.456510997832485</td><td>178.65013872691048</td><td>4.166102173273586</td><td>22.561973272726252</td><td>162.11322586339668</td><td>3.6989517117816217</td><td>22.92890251089461</td><td>115.62367063834827</td><td>2.5357636094920664</td><td>22.968203824406388</td><td>111.51318679576184</td><td>2.2846171230917616</td><td>23.090432381891986</td><td>99.64024899847313</td><td>2.0576901623059003</td></tr>\n",
       "<tr><td>nircam8_66</td><td>214.97911093515455</td><td>52.89178499247646</td><td>--</td><td>20.64051467073969</td><td>951.4848740678898</td><td>46.6865430639944</td><td>20.517632416303318</td><td>1065.5032785925187</td><td>53.110618144176456</td><td>20.42285027560707</td><td>1162.699930941531</td><td>56.27607894539147</td><td>20.68894554747197</td><td>909.975161200874</td><td>41.933505303795066</td><td>21.08015263276049</td><td>634.668149203981</td><td>27.881744474486403</td><td>21.042331482049047</td><td>657.16611799369</td><td>29.82954402217194</td><td>21.14474116217699</td><td>598.0139184058703</td><td>26.587296772571367</td></tr>\n",
       "</table></div>"
      ],
      "text/plain": [
       "<Table length=62>\n",
       "    ID             RA         ... KronPhot_F444W_flux KronPhot_F444W_fluxerr\n",
       "  str10         float64       ...       float64              float64        \n",
       "---------- ------------------ ... ------------------- ----------------------\n",
       " nircam8_8 214.99584044946604 ...  110.74926061272032      4.573725645761873\n",
       "nircam8_12 215.01340455726907 ...  175.25265552131384      5.764570331466458\n",
       "nircam8_55 215.00895017002145 ...   85.21628349928875     4.4872965753402845\n",
       "nircam8_53  215.0643292955432 ...   57.61781793258672     2.8626313083883987\n",
       "nircam8_47  215.0026358462628 ...  34.926268280014476     0.9881295618419116\n",
       "nircam8_43 214.98252509927488 ...   89.33830030786687      3.679651746486993\n",
       "nircam8_42  214.9931858563449 ...   92.09835820933418      5.239758548319284\n",
       "nircam8_40 215.03496565736603 ...    893.557407978509      44.89465003082324\n",
       "nircam8_34 215.00893273038162 ...   51.38947671847767      3.237881903386852\n",
       "nircam8_27 214.97760283596193 ...   86.15036841411356      6.410068954370793\n",
       "       ...                ... ...                 ...                    ...\n",
       "nircam8_16   214.969317942489 ...   573.5785450385815      27.40951179397722\n",
       "nircam8_25 214.99012248350218 ...  160.52968945821613      5.130614625424715\n",
       "nircam8_58 214.95954874330891 ...   580.2084642538159     19.205904265818738\n",
       "nircam8_59 215.00708422020918 ...   27.01645057725754     0.8467074154428439\n",
       "nircam8_71   214.966003103438 ...  375.61139969430246      9.729466252050285\n",
       "nircam8_61  214.9579615086263 ...   72.69460292028118     2.1495855695090733\n",
       "nircam8_70  215.0393406982713 ...  2027.5759151128238      80.80497978716005\n",
       "nircam8_69 215.03572681563688 ...    98.2326582270893     1.9000261305304968\n",
       "nircam8_67 214.98325661055304 ...   99.64024899847313     2.0576901623059003\n",
       "nircam8_66 214.97911093515455 ...   598.0139184058703     26.587296772571367"
      ]
     },
     "execution_count": 36,
     "metadata": {},
     "output_type": "execute_result"
    }
   ],
   "source": [
    "tab_phot.write(prep_dir + 'kronphot.csv', format='ascii.csv', overwrite=True)\n",
    "tab_phot"
   ]
  },
  {
   "cell_type": "markdown",
   "metadata": {},
   "source": [
    "# Write to FITS file for GALFIT preparation"
   ]
  },
  {
   "cell_type": "markdown",
   "metadata": {},
   "source": [
    "#### IMGLIST Extension"
   ]
  },
  {
   "cell_type": "code",
   "execution_count": 37,
   "metadata": {},
   "outputs": [
    {
     "name": "stdout",
     "output_type": "stream",
     "text": [
      "./io/image/nircam8/hlsp_ceers_jwst_nircam_nircam8_f115w_dr0.6_i2d.fits\n",
      "./io/image/nircam8/hlsp_ceers_jwst_nircam_nircam8_f150w_dr0.6_i2d.fits\n",
      "./io/image/nircam8/hlsp_ceers_jwst_nircam_nircam8_f200w_dr0.6_i2d.fits\n",
      "./io/image/nircam8/hlsp_ceers_jwst_nircam_nircam8_f277w_dr0.6_i2d.fits\n",
      "./io/image/nircam8/hlsp_ceers_jwst_nircam_nircam8_f356w_dr0.6_i2d.fits\n",
      "./io/image/nircam8/hlsp_ceers_jwst_nircam_nircam8_f410m_dr0.6_i2d.fits\n",
      "./io/image/nircam8/hlsp_ceers_jwst_nircam_nircam8_f444w_dr0.6_i2d.fits\n"
     ]
    }
   ],
   "source": [
    "pregalfit_path = prep_dir + 'pregalfit.fits'\n",
    "\n",
    "# Create an IMGLIST extension\n",
    "hdr_img = fits.Header()\n",
    "hdr_img['EXTNAME'] = 'IMGLIST'\n",
    "\n",
    "tab_img = Table()\n",
    "band_list = []\n",
    "for img_path in img_path_list:\n",
    "    print(img_path)\n",
    "    hdr_pri = fits.getheader(img_path, extname='PRIMARY')\n",
    "    band = hdr_pri['FILTER'].split(' ')[0]\n",
    "    band_list.append(band)\n",
    "tab_img.add_columns([band_list,img_path_list], names=['band', 'img_path'])\n",
    "fits.writeto(pregalfit_path, tab_img.as_array(), header=hdr_img, overwrite=True)"
   ]
  },
  {
   "cell_type": "markdown",
   "metadata": {},
   "source": [
    "#### INIPARAM Extension"
   ]
  },
  {
   "cell_type": "code",
   "execution_count": 38,
   "metadata": {},
   "outputs": [
    {
     "data": {
      "application/vnd.jupyter.widget-view+json": {
       "model_id": "29d59d44ecb34aed9c04bcfc0fe9d47c",
       "version_major": 2,
       "version_minor": 0
      },
      "text/plain": [
       "kron_radius:   0%|          | 0/62 [00:00<?, ?it/s]"
      ]
     },
     "metadata": {},
     "output_type": "display_data"
    },
    {
     "data": {
      "application/vnd.jupyter.widget-view+json": {
       "model_id": "dc7520f1951c4d54bc647af0c83036c9",
       "version_major": 2,
       "version_minor": 0
      },
      "text/plain": [
       "kron_photometry:   0%|          | 0/62 [00:00<?, ?it/s]"
      ]
     },
     "metadata": {},
     "output_type": "display_data"
    }
   ],
   "source": [
    "srccat = SourceCatalog(image_merged_conv, segm_matched, wcs=w, convolved_data=image_merged_conv, progress_bar=True)\n",
    "srctab = srccat.to_table()\n",
    "srctab.keep_columns(['label', 'xcentroid', 'ycentroid','orientation','eccentricity','semimajor_sigma','semiminor_sigma'])\n",
    "srctab['label'] = srctab['label'].astype(str)\n",
    "kron_rad = srccat.kron_radius*np.sqrt(srccat.semimajor_sigma.value*srccat.semiminor_sigma.value)\n",
    "srctab.add_column(kron_rad, name='kron_radius')\n",
    "tab_final = hstack([tab_phot,srctab])\n",
    "tab_final = tab_final[tab_final.argsort('ID')]"
   ]
  },
  {
   "cell_type": "code",
   "execution_count": 39,
   "metadata": {},
   "outputs": [],
   "source": [
    "# Create a INIPARAM extension\n",
    "hdr_ini = fits.Header()\n",
    "hdr_ini['EXTNAME'] = 'INIPARAM'\n",
    "fits.append(pregalfit_path, tab_final.as_array(), header=hdr_ini, overwrite=True)\n",
    "\n",
    "hdr_segm = fits.Header()\n",
    "hdr_segm['EXTNAME'] = 'SEGMAP'\n",
    "fits.append(pregalfit_path, segm.data, header=hdr_segm, overwrite=True)"
   ]
  }
 ],
 "metadata": {
  "kernelspec": {
   "display_name": "galfit3",
   "language": "python",
   "name": "python3"
  },
  "language_info": {
   "codemirror_mode": {
    "name": "ipython",
    "version": 3
   },
   "file_extension": ".py",
   "mimetype": "text/x-python",
   "name": "python",
   "nbconvert_exporter": "python",
   "pygments_lexer": "ipython3",
   "version": "3.9.12"
  }
 },
 "nbformat": 4,
 "nbformat_minor": 2
}
